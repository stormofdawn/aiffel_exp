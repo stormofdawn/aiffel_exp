{
 "cells": [
  {
   "cell_type": "code",
   "execution_count": 3,
   "id": "75d16117",
   "metadata": {},
   "outputs": [
    {
     "name": "stdout",
     "output_type": "stream",
     "text": [
      "2.6.0\n"
     ]
    }
   ],
   "source": [
    "import tensorflow as tf                                     # 텐서플로 모듈 가져와서 tf라고 할께\n",
    "from tensorflow import keras                               # 텐서플로로부터 keras 모듈 불러와줘\n",
    " \n",
    "import numpy as np                                         # 넘파이 모듈 가져와서 np라고 할께  \n",
    "import matplotlib.pyplot as plt                            # 맷플롯 모듈 가져와서 plt라고 할께\n",
    "import os                                                   # 운영체제 불러와줘\n",
    "\n",
    " \n",
    "print(tf.__version__)                                       # 텐서플로의 버전은?"
   ]
  },
  {
   "cell_type": "code",
   "execution_count": 4,
   "id": "2dfed39b",
   "metadata": {},
   "outputs": [],
   "source": [
    "mnist = keras.datasets.mnist                                # mnist 는 keras에 내장된 데이터 값을 불러온듯?"
   ]
  },
  {
   "cell_type": "code",
   "execution_count": 5,
   "id": "b4f15b2d",
   "metadata": {},
   "outputs": [],
   "source": [
    "(x_train, y_train), (x_test, y_test) = mnist.load_data()    # 데이터를 트레이닝값, 테스트값의 행렬로 만든 건가 봄"
   ]
  },
  {
   "cell_type": "code",
   "execution_count": 6,
   "id": "87b39f02",
   "metadata": {},
   "outputs": [
    {
     "name": "stdout",
     "output_type": "stream",
     "text": [
      "60000\n"
     ]
    }
   ],
   "source": [
    "print(len(x_train))                                         # 학습시킬 데이터 개수는?"
   ]
  },
  {
   "cell_type": "code",
   "execution_count": 7,
   "id": "5766527e",
   "metadata": {},
   "outputs": [],
   "source": [
    "import pandas as pd                                        # 혹시몰라서 판다스 불러옴"
   ]
  },
  {
   "cell_type": "code",
   "execution_count": 12,
   "id": "e01e467a",
   "metadata": {},
   "outputs": [
    {
     "data": {
      "image/png": "[encoded data removed]",
      "text/plain": [
       "<Figure size 432x288 with 1 Axes>"
      ]
     },
     "metadata": {
      "needs_background": "light"
     },
     "output_type": "display_data"
    }
   ],
   "source": [
    "plt.imshow(x_train[1], cmap=plt.cm.binary)                  # 그림파일 읽는 메서드인가봄... 아직 모르겠다\n",
    "plt.show()                                                  # x에는 그림파일이 있는것을 확인함"
   ]
  },
  {
   "cell_type": "code",
   "execution_count": 13,
   "id": "8a4481fa",
   "metadata": {},
   "outputs": [
    {
     "name": "stdout",
     "output_type": "stream",
     "text": [
      "0\n"
     ]
    }
   ],
   "source": [
    "print(y_train[1])                                           # x그림 - y숫자로 되어있는 것을 확인함"
   ]
  },
  {
   "cell_type": "code",
   "execution_count": 14,
   "id": "109e53a1",
   "metadata": {},
   "outputs": [
    {
     "data": {
      "image/png": "[encoded data removed]",
      "text/plain": [
       "<Figure size 432x288 with 1 Axes>"
      ]
     },
     "metadata": {
      "needs_background": "light"
     },
     "output_type": "display_data"
    },
    {
     "name": "stdout",
     "output_type": "stream",
     "text": [
      "1126 번째 이미지 숫자는 바로 7 입니다\n"
     ]
    }
   ],
   "source": [
    "index=1125\n",
    "plt.imshow(x_train[index],cmap=plt.cm.binary)\n",
    "plt.show()\n",
    "print((index+1), '번째 이미지 숫자는 바로', y_train[index], '입니다')         # 대충 인덱스로 되어있는거 보니 리스트인가봄"
   ]
  },
  {
   "cell_type": "code",
   "execution_count": 15,
   "id": "1120eb1f",
   "metadata": {},
   "outputs": [
    {
     "name": "stdout",
     "output_type": "stream",
     "text": [
      "(60000, 28, 28)\n"
     ]
    }
   ],
   "source": [
    "print(x_train.shape)                                                          #그림파일.shape로 개수, 각 픽셀 정보 확인하나봄"
   ]
  },
  {
   "cell_type": "code",
   "execution_count": 16,
   "id": "c38661d4",
   "metadata": {},
   "outputs": [
    {
     "name": "stdout",
     "output_type": "stream",
     "text": [
      "(10000, 28, 28)\n"
     ]
    }
   ],
   "source": [
    "print(x_test.shape)"
   ]
  },
  {
   "cell_type": "code",
   "execution_count": 17,
   "id": "4a20e43d",
   "metadata": {},
   "outputs": [
    {
     "name": "stdout",
     "output_type": "stream",
     "text": [
      "최소값 0 최대값 255\n"
     ]
    }
   ],
   "source": [
    "print('최소값',np.min(x_train), '최대값',np.max(x_train))                    #넘파이 메서드.min = 최소값, max = 최대값"
   ]
  },
  {
   "cell_type": "code",
   "execution_count": 18,
   "id": "75f6902e",
   "metadata": {},
   "outputs": [],
   "source": [
    "x_train_norm, x_test_norm = x_train / 255.0, x_test / 255.0                  # 편의를 위해 정규화, 근데 이거 사람아니라 컴퓨터도 필요해?"
   ]
  },
  {
   "cell_type": "code",
   "execution_count": 20,
   "id": "344d56b8",
   "metadata": {},
   "outputs": [
    {
     "name": "stdout",
     "output_type": "stream",
     "text": [
      "최소값 0.0 최대값 1.0\n"
     ]
    }
   ],
   "source": [
    "print('최소값',np.min(x_train_norm), '최대값',np.max(x_train_norm))"
   ]
  },
  {
   "cell_type": "code",
   "execution_count": 21,
   "id": "579f4abd",
   "metadata": {},
   "outputs": [],
   "source": [
    "model=keras.models.Sequential()                          #Sequenrial 이라는 모델을 불러옴 (안에 매커니즘은 모름)"
   ]
  },
  {
   "cell_type": "code",
   "execution_count": 22,
   "id": "4e2ee78f",
   "metadata": {},
   "outputs": [],
   "source": [
    "model.add(keras.layers.Conv2D(16, (3,3), activation='relu', input_shape=(28,28,1)))       #16가지 특성,  변수 범주 3by3?   렐?루,  입력이미지 형태\n"
   ]
  },
  {
   "cell_type": "code",
   "execution_count": 23,
   "id": "03912dd1",
   "metadata": {},
   "outputs": [],
   "source": [
    "model.add(keras.layers.MaxPool2D(2,2))"
   ]
  },
  {
   "cell_type": "code",
   "execution_count": 24,
   "id": "ea256b44",
   "metadata": {},
   "outputs": [],
   "source": [
    "model.add(keras.layers.Conv2D(32, (3,3), activation='relu', input_shape=(28,28,1)))       #이미지 특성 개수를 바꿔서 해봄"
   ]
  },
  {
   "cell_type": "code",
   "execution_count": 25,
   "id": "85ba6156",
   "metadata": {},
   "outputs": [],
   "source": [
    "model.add(keras.layers.MaxPooling2D(2,2))                          #ing가 붙은거보니 뭔가 변한듯"
   ]
  },
  {
   "cell_type": "code",
   "execution_count": 27,
   "id": "4c9905ff",
   "metadata": {},
   "outputs": [],
   "source": [
    "model.add(keras.layers.Flatten())"
   ]
  },
  {
   "cell_type": "code",
   "execution_count": 28,
   "id": "bf0b7fda",
   "metadata": {},
   "outputs": [],
   "source": [
    "model.add(keras.layers.Dense(32, activation='relu'))            # 32개의 뉴런이 노드를 만드는듯, 높을수록 복잡"
   ]
  },
  {
   "cell_type": "code",
   "execution_count": 31,
   "id": "792d1cfb",
   "metadata": {},
   "outputs": [],
   "source": [
    "model.add(keras.layers.Dense(10, activation='softmax'))         # 10가지 클래스로 구분한다고 함"
   ]
  },
  {
   "cell_type": "code",
   "execution_count": 32,
   "id": "9c03cafc",
   "metadata": {},
   "outputs": [
    {
     "name": "stdout",
     "output_type": "stream",
     "text": [
      "Model: \"sequential\"\n",
      "_________________________________________________________________\n",
      "Layer (type)                 Output Shape              Param #   \n",
      "=================================================================\n",
      "conv2d (Conv2D)              (None, 26, 26, 16)        160       \n",
      "_________________________________________________________________\n",
      "max_pooling2d (MaxPooling2D) (None, 13, 13, 16)        0         \n",
      "_________________________________________________________________\n",
      "conv2d_1 (Conv2D)            (None, 11, 11, 32)        4640      \n",
      "_________________________________________________________________\n",
      "max_pooling2d_1 (MaxPooling2 (None, 5, 5, 32)          0         \n",
      "_________________________________________________________________\n",
      "flatten (Flatten)            (None, 800)               0         \n",
      "_________________________________________________________________\n",
      "dense (Dense)                (None, 32)                25632     \n",
      "_________________________________________________________________\n",
      "dense_1 (Dense)              (None, 10)                330       \n",
      "=================================================================\n",
      "Total params: 30,762\n",
      "Trainable params: 30,762\n",
      "Non-trainable params: 0\n",
      "_________________________________________________________________\n"
     ]
    }
   ],
   "source": [
    "model.summary()"
   ]
  },
  {
   "cell_type": "code",
   "execution_count": 33,
   "id": "4bd74304",
   "metadata": {},
   "outputs": [
    {
     "name": "stdout",
     "output_type": "stream",
     "text": [
      "Before Reshape - x_train_norm shape: (60000, 28, 28)\n",
      "Before Reshape - x_test_norm shape: (10000, 28, 28)\n"
     ]
    }
   ],
   "source": [
    "print(\"Before Reshape - x_train_norm shape: {}\".format(x_train_norm.shape))    # 초기 shape에 (데이터개수, 이미지크기 X 이미지크기, 채널)\n",
    "print(\"Before Reshape - x_test_norm shape: {}\".format(x_test_norm.shape))      # 흑백사진은 채널 1을 사용\n"
   ]
  },
  {
   "cell_type": "code",
   "execution_count": 34,
   "id": "defeb40e",
   "metadata": {},
   "outputs": [],
   "source": [
    "x_train_reshaped=x_train_norm.reshape(-1, 28, 28, 1)\n",
    "x_test_reshaped=x_test_norm.reshape(-1, 28, 28, 1)            #알아서 1씩 빼면서 값을 넣어주는건가?"
   ]
  },
  {
   "cell_type": "code",
   "execution_count": 35,
   "id": "5b782f1d",
   "metadata": {},
   "outputs": [
    {
     "name": "stdout",
     "output_type": "stream",
     "text": [
      "After Reshape - x_train_reshaped shape: (60000, 28, 28, 1)\n",
      "After Reshape - x_test_reshaped shape: (10000, 28, 28, 1)\n"
     ]
    }
   ],
   "source": [
    "print(\"After Reshape - x_train_reshaped shape: {}\".format(x_train_reshaped.shape))\n",
    "print(\"After Reshape - x_test_reshaped shape: {}\".format(x_test_reshaped.shape))"
   ]
  },
  {
   "cell_type": "code",
   "execution_count": 37,
   "id": "8c5d2528",
   "metadata": {},
   "outputs": [],
   "source": [
    "model.compile(optimizer='adam',\n",
    "              loss='sparse_categorical_crossentropy',\n",
    "              metrics=['accuracy'])                         # 여긴 진짜 모르겠다."
   ]
  },
  {
   "cell_type": "code",
   "execution_count": 39,
   "id": "b47bec96",
   "metadata": {},
   "outputs": [
    {
     "name": "stdout",
     "output_type": "stream",
     "text": [
      "Epoch 1/10\n",
      "1875/1875 [==============================] - 8s 3ms/step - loss: 0.2097 - accuracy: 0.9343\n",
      "Epoch 2/10\n",
      "1875/1875 [==============================] - 5s 3ms/step - loss: 0.0716 - accuracy: 0.9780\n",
      "Epoch 3/10\n",
      "1875/1875 [==============================] - 5s 3ms/step - loss: 0.0514 - accuracy: 0.9841\n",
      "Epoch 4/10\n",
      "1875/1875 [==============================] - 5s 3ms/step - loss: 0.0415 - accuracy: 0.9871\n",
      "Epoch 5/10\n",
      "1875/1875 [==============================] - 5s 3ms/step - loss: 0.0346 - accuracy: 0.9889\n",
      "Epoch 6/10\n",
      "1875/1875 [==============================] - 5s 3ms/step - loss: 0.0281 - accuracy: 0.9911\n",
      "Epoch 7/10\n",
      "1875/1875 [==============================] - 5s 3ms/step - loss: 0.0243 - accuracy: 0.9922\n",
      "Epoch 8/10\n",
      "1875/1875 [==============================] - 5s 3ms/step - loss: 0.0206 - accuracy: 0.9933\n",
      "Epoch 9/10\n",
      "1875/1875 [==============================] - 5s 3ms/step - loss: 0.0174 - accuracy: 0.9942\n",
      "Epoch 10/10\n",
      "1875/1875 [==============================] - 5s 3ms/step - loss: 0.0148 - accuracy: 0.9953\n"
     ]
    },
    {
     "data": {
      "text/plain": [
       "<keras.callbacks.History at 0x7f29e0d9cbb0>"
      ]
     },
     "execution_count": 39,
     "metadata": {},
     "output_type": "execute_result"
    }
   ],
   "source": [
    "model.fit(x_train_reshaped, y_train, epochs=10)"
   ]
  },
  {
   "cell_type": "code",
   "execution_count": 40,
   "id": "1e1bb152",
   "metadata": {},
   "outputs": [
    {
     "name": "stdout",
     "output_type": "stream",
     "text": [
      "313/313 - 1s - loss: 0.0350 - accuracy: 0.9903\n"
     ]
    }
   ],
   "source": [
    "test_loss, test_accuracy = model.evaluate(x_test_reshaped, y_test, verbose=2)"
   ]
  },
  {
   "cell_type": "code",
   "execution_count": 44,
   "id": "97ba1a27",
   "metadata": {},
   "outputs": [
    {
     "name": "stdout",
     "output_type": "stream",
     "text": [
      "test_loss: 0.03502554073929787\n"
     ]
    }
   ],
   "source": [
    "print(\"test_loss: {}\".format(test_loss))"
   ]
  },
  {
   "cell_type": "code",
   "execution_count": 45,
   "id": "658bd8ca",
   "metadata": {},
   "outputs": [
    {
     "name": "stdout",
     "output_type": "stream",
     "text": [
      "test_accuracy: 0.9902999997138977\n"
     ]
    }
   ],
   "source": [
    "print(\"test_accuracy: {}\".format(test_accuracy))"
   ]
  },
  {
   "cell_type": "code",
   "execution_count": 46,
   "id": "d8e5e0a6",
   "metadata": {},
   "outputs": [],
   "source": [
    "predicted_result = model.predict(x_test_reshaped)               #model이 추론한 확률값 (확률분포인듯?)"
   ]
  },
  {
   "cell_type": "code",
   "execution_count": 49,
   "id": "49aab18a",
   "metadata": {},
   "outputs": [],
   "source": [
    "predicted_labels = np.argmax(predicted_result, axis=1)          #중에 젤 높은 것의 범주를 출력 "
   ]
  },
  {
   "cell_type": "code",
   "execution_count": 53,
   "id": "3df5b4d9",
   "metadata": {},
   "outputs": [
    {
     "name": "stdout",
     "output_type": "stream",
     "text": [
      "model.predict() 결과 : [1.5985661e-10 2.2866958e-08 4.4788990e-09 2.1828056e-07 7.4848440e-11\n",
      " 9.0062202e-12 1.6394935e-17 9.9999976e-01 9.9202779e-10 8.4889051e-10]\n",
      "model이 추론한 가장 가능성이 높은 것 : 7\n",
      "실제 데이터의 레이블 : 7\n"
     ]
    }
   ],
   "source": [
    "idx=0\n",
    "print('model.predict() 결과 :', predicted_result[idx])\n",
    "print('model이 추론한 가장 가능성이 높은 것 :', predicted_labels[idx])\n",
    "print('실제 데이터의 레이블 :', y_test[idx])"
   ]
  },
  {
   "cell_type": "code",
   "execution_count": 54,
   "id": "112c4550",
   "metadata": {},
   "outputs": [
    {
     "data": {
      "image/png": "[encoded data removed]",
      "text/plain": [
       "<Figure size 432x288 with 1 Axes>"
      ]
     },
     "metadata": {
      "needs_background": "light"
     },
     "output_type": "display_data"
    }
   ],
   "source": [
    "plt.imshow(x_test[idx],cmap=plt.cm.binary)\n",
    "plt.show()"
   ]
  },
  {
   "cell_type": "code",
   "execution_count": 55,
   "id": "5c3986f4",
   "metadata": {},
   "outputs": [],
   "source": [
    "import random                              #random 모듈 불러오고"
   ]
  },
  {
   "cell_type": "code",
   "execution_count": 56,
   "id": "bea19c3e",
   "metadata": {},
   "outputs": [],
   "source": [
    "wrong_predict_list=[]                      #잘못된 예측을 리스트로 만들꺼임"
   ]
  },
  {
   "cell_type": "code",
   "execution_count": 57,
   "id": "16225ecd",
   "metadata": {},
   "outputs": [],
   "source": [
    "for i, _ in enumerate(predicted_labels):    # i로 나열된 예측된 레이블들에서\n",
    "    if predicted_labels[i] != y_test[i]:    # 추론한 결과와 실제 데이터 레이블이 다르면\n",
    "        wrong_predict_list.append(i)         # 리스트에 넣어줘"
   ]
  },
  {
   "cell_type": "code",
   "execution_count": 58,
   "id": "abc87ef0",
   "metadata": {},
   "outputs": [],
   "source": [
    "samples = random.choices(population=wrong_predict_list, k=5)   #랜덤으로 전체 틀린거 모집단에서 표본 5개를 뽑음"
   ]
  },
  {
   "cell_type": "code",
   "execution_count": 64,
   "id": "3ee4777f",
   "metadata": {},
   "outputs": [
    {
     "name": "stdout",
     "output_type": "stream",
     "text": [
      "예측확률분포:[2.3300499e-06 7.3279829e-05 4.7280486e-09 9.4684851e-01 5.0745289e-12\n",
      " 3.1828787e-02 5.4745392e-08 2.1236036e-02 1.1018733e-05 1.7293980e-09]\n",
      "레이블:5, 예측결과;3\n"
     ]
    },
    {
     "data": {
      "image/png": "[encoded data removed]",
      "text/plain": [
       "<Figure size 432x288 with 1 Axes>"
      ]
     },
     "metadata": {
      "needs_background": "light"
     },
     "output_type": "display_data"
    },
    {
     "name": "stdout",
     "output_type": "stream",
     "text": [
      "예측확률분포:[7.0275033e-05 2.8726869e-05 2.8217492e-01 2.7486235e-03 3.8733499e-05\n",
      " 4.7025166e-09 7.1368518e-08 7.0373893e-01 1.0965698e-02 2.3395964e-04]\n",
      "레이블:2, 예측결과;7\n"
     ]
    },
    {
     "data": {
      "image/png": "[encoded data removed]",
      "text/plain": [
       "<Figure size 432x288 with 1 Axes>"
      ]
     },
     "metadata": {
      "needs_background": "light"
     },
     "output_type": "display_data"
    },
    {
     "name": "stdout",
     "output_type": "stream",
     "text": [
      "예측확률분포:[8.67888400e-12 1.20001677e-02 8.06372389e-02 3.23542833e-01\n",
      " 1.66940466e-02 1.12359994e-04 1.69365577e-10 2.32493296e-01\n",
      " 3.25433284e-01 9.08677932e-03]\n",
      "레이블:3, 예측결과;8\n"
     ]
    },
    {
     "data": {
      "image/png": "[encoded data removed]",
      "text/plain": [
       "<Figure size 432x288 with 1 Axes>"
      ]
     },
     "metadata": {
      "needs_background": "light"
     },
     "output_type": "display_data"
    },
    {
     "name": "stdout",
     "output_type": "stream",
     "text": [
      "예측확률분포:[2.3426948e-14 1.4425530e-09 8.5852576e-13 5.6668210e-01 1.7156930e-13\n",
      " 4.3316093e-01 1.6629409e-10 4.9395590e-09 1.5001990e-04 6.9227926e-06]\n",
      "레이블:5, 예측결과;3\n"
     ]
    },
    {
     "data": {
      "image/png": "[encoded data removed]",
      "text/plain": [
       "<Figure size 432x288 with 1 Axes>"
      ]
     },
     "metadata": {
      "needs_background": "light"
     },
     "output_type": "display_data"
    },
    {
     "name": "stdout",
     "output_type": "stream",
     "text": [
      "예측확률분포:[7.8520215e-01 1.9721733e-07 5.4504733e-05 6.0564470e-02 2.0292182e-06\n",
      " 1.3916898e-01 1.3794440e-04 1.4262662e-02 4.5074776e-04 1.5635187e-04]\n",
      "레이블:5, 예측결과;0\n"
     ]
    },
    {
     "data": {
      "image/png": "[encoded data removed]",
      "text/plain": [
       "<Figure size 432x288 with 1 Axes>"
      ]
     },
     "metadata": {
      "needs_background": "light"
     },
     "output_type": "display_data"
    }
   ],
   "source": [
    "for n in samples:\n",
    "    print(\"예측확률분포:\" + str(predicted_result[n]))\n",
    "    print(\"레이블:\"+ str(y_test[n])+ \", 예측결과;\"+ str(predicted_labels[n]))\n",
    "    plt.imshow(x_test[n],cmap=plt.cm.binary)\n",
    "    plt.show()"
   ]
  },
  {
   "cell_type": "code",
   "execution_count": 68,
   "id": "e919a77f",
   "metadata": {},
   "outputs": [
    {
     "name": "stdout",
     "output_type": "stream",
     "text": [
      "Model: \"sequential_2\"\n",
      "_________________________________________________________________\n",
      "Layer (type)                 Output Shape              Param #   \n",
      "=================================================================\n",
      "conv2d_4 (Conv2D)            (None, 26, 26, 32)        320       \n",
      "_________________________________________________________________\n",
      "max_pooling2d_4 (MaxPooling2 (None, 13, 13, 32)        0         \n",
      "_________________________________________________________________\n",
      "conv2d_5 (Conv2D)            (None, 11, 11, 64)        18496     \n",
      "_________________________________________________________________\n",
      "max_pooling2d_5 (MaxPooling2 (None, 5, 5, 64)          0         \n",
      "_________________________________________________________________\n",
      "flatten_2 (Flatten)          (None, 1600)              0         \n",
      "_________________________________________________________________\n",
      "dense_4 (Dense)              (None, 64)                102464    \n",
      "_________________________________________________________________\n",
      "dense_5 (Dense)              (None, 30)                1950      \n",
      "=================================================================\n",
      "Total params: 123,230\n",
      "Trainable params: 123,230\n",
      "Non-trainable params: 0\n",
      "_________________________________________________________________\n"
     ]
    }
   ],
   "source": [
    "model=keras.models.Sequential()\n",
    "model.add(keras.layers.Conv2D(6, (3,3), activation='relu', input_shape=(28,28,1)))\n",
    "model.add(keras.layers.MaxPool2D(2,2))\n",
    "model.add(keras.layers.Conv2D(64, (3,3), activation='relu'))\n",
    "model.add(keras.layers.MaxPooling2D((2,2)))\n",
    "model.add(keras.layers.Flatten())\n",
    "model.add(keras.layers.Dense(64, activation='relu'))\n",
    "model.add(keras.layers.Dense(30, activation='softmax'))\n",
    "\n",
    "model.summary()\n",
    "model.compile(optimizer='adam',\n",
    "             loss='sparse_categorical_crossentropy',\n",
    "             metrics=['accuracy'])"
   ]
  },
  {
   "cell_type": "code",
   "execution_count": 69,
   "id": "c5df0cd5",
   "metadata": {},
   "outputs": [
    {
     "name": "stdout",
     "output_type": "stream",
     "text": [
      "Epoch 1/10\n",
      "1875/1875 [==============================] - 6s 3ms/step - loss: 0.1761 - accuracy: 0.9467\n",
      "Epoch 2/10\n",
      "1875/1875 [==============================] - 5s 3ms/step - loss: 0.0510 - accuracy: 0.9842\n",
      "Epoch 3/10\n",
      "1875/1875 [==============================] - 5s 3ms/step - loss: 0.0351 - accuracy: 0.9891\n",
      "Epoch 4/10\n",
      "1875/1875 [==============================] - 5s 3ms/step - loss: 0.0264 - accuracy: 0.9921\n",
      "Epoch 5/10\n",
      "1875/1875 [==============================] - 5s 3ms/step - loss: 0.0204 - accuracy: 0.9933\n",
      "Epoch 6/10\n",
      "1875/1875 [==============================] - 5s 3ms/step - loss: 0.0155 - accuracy: 0.9949\n",
      "Epoch 7/10\n",
      "1875/1875 [==============================] - 5s 3ms/step - loss: 0.0137 - accuracy: 0.9955\n",
      "Epoch 8/10\n",
      "1875/1875 [==============================] - 5s 3ms/step - loss: 0.0105 - accuracy: 0.9963\n",
      "Epoch 9/10\n",
      "1875/1875 [==============================] - 5s 3ms/step - loss: 0.0083 - accuracy: 0.9972\n",
      "Epoch 10/10\n",
      "1875/1875 [==============================] - 5s 3ms/step - loss: 0.0081 - accuracy: 0.9972\n"
     ]
    },
    {
     "data": {
      "text/plain": [
       "<keras.callbacks.History at 0x7f29ac323070>"
      ]
     },
     "execution_count": 69,
     "metadata": {},
     "output_type": "execute_result"
    }
   ],
   "source": [
    "model.fit(x_train_reshaped, y_train, epochs=10)"
   ]
  },
  {
   "cell_type": "code",
   "execution_count": 70,
   "id": "8ba6e286",
   "metadata": {},
   "outputs": [
    {
     "name": "stdout",
     "output_type": "stream",
     "text": [
      "313/313 - 1s - loss: 0.0391 - accuracy: 0.9908\n",
      "test_loss: 0.039068590849637985 \n",
      "test_accuracy: 0.9908000230789185\n"
     ]
    }
   ],
   "source": [
    "test_loss, test_accuracy = model.evaluate(x_test_reshaped, y_test, verbose=2)\n",
    "print(\"test_loss: {} \".format(test_loss))\n",
    "print(\"test_accuracy: {}\".format(test_accuracy))\n"
   ]
  },
  {
   "cell_type": "code",
   "execution_count": 72,
   "id": "8b316cab",
   "metadata": {},
   "outputs": [],
   "source": [
    "from PIL import Image\n",
    "import glob"
   ]
  },
  {
   "cell_type": "code",
   "execution_count": 211,
   "id": "9c7acec0",
   "metadata": {},
   "outputs": [
    {
     "name": "stdout",
     "output_type": "stream",
     "text": [
      "935  images to be resized.\n",
      "935  images resized.\n"
     ]
    }
   ],
   "source": [
    "def resize_images(img_path):\n",
    "    images=glob.glob(img_path + \"/*.jpg\")\n",
    "    print(len(images), \" images to be resized.\")\n",
    "    target_size=(28,28)\n",
    "    for img in images:\n",
    "        old_img=Image.open(img)\n",
    "        new_img=old_img.resize(target_size,Image.ANTIALIAS)\n",
    "        new_img.save(img, \"JPEG\")\n",
    "    print(len(images), \" images resized.\")\n",
    "image_dir_path = os.getenv(\"HOME\") + \"/aiffel/rock_scissor_paper/scissor\"\n",
    "resize_images(image_dir_path)"
   ]
  },
  {
   "cell_type": "code",
   "execution_count": 212,
   "id": "d24d994e",
   "metadata": {},
   "outputs": [
    {
     "name": "stdout",
     "output_type": "stream",
     "text": [
      "1385  images to be resized.\n",
      "1385  images resized.\n"
     ]
    }
   ],
   "source": [
    "image_dir_path = os.getenv(\"HOME\") + \"/aiffel/rock_scissor_paper/rock\"\n",
    "resize_images(image_dir_path)"
   ]
  },
  {
   "cell_type": "code",
   "execution_count": 213,
   "id": "4c1b0102",
   "metadata": {},
   "outputs": [
    {
     "name": "stdout",
     "output_type": "stream",
     "text": [
      "1365  images to be resized.\n",
      "1365  images resized.\n"
     ]
    }
   ],
   "source": [
    "def resize_images(img_path):\n",
    "    images=glob.glob(img_path + \"/*.jpg\")\n",
    "    print(len(images), \" images to be resized.\")\n",
    "    target_size=(28,28)\n",
    "    for img in images:\n",
    "        old_img=Image.open(img)\n",
    "        new_img=old_img.resize(target_size,Image.ANTIALIAS)\n",
    "        new_img.save(img, \"JPEG\")\n",
    "    print(len(images), \" images resized.\")\n",
    "image_dir_path = os.getenv(\"HOME\") + \"/aiffel/rock_scissor_paper/paper\"\n",
    "resize_images(image_dir_path)"
   ]
  },
  {
   "cell_type": "code",
   "execution_count": 82,
   "id": "951fb628",
   "metadata": {},
   "outputs": [],
   "source": [
    "import numpy as np"
   ]
  },
  {
   "cell_type": "code",
   "execution_count": 214,
   "id": "d717e150",
   "metadata": {},
   "outputs": [],
   "source": [
    "def load_data(img_path, number_of_data=3685):\n",
    "    img_size=28\n",
    "    color=3\n",
    "    imgs=np.zeros(number_of_data*img_size*img_size*color,dtype=np.int32).reshape(number_of_data,img_size,img_size,color)\n",
    "    labels=np.zeros(number_of_data,dtype=np.int32)\n",
    "    \n",
    "    idx=0\n",
    "    for file in glob.iglob(img_path+'/scissor/*.jpg'):\n",
    "        img = np.array(Image.open(file),dtype=np.int32)\n",
    "        imgs[idx,:,:,:]=img    # 데이터 영역에 이미지 행렬을 복사\n",
    "        labels[idx]=0   # 가위 : 0\n",
    "        idx=idx+1\n",
    "\n",
    "    for file in glob.iglob(img_path+'/rock/*.jpg'):\n",
    "        img = np.array(Image.open(file),dtype=np.int32)\n",
    "        imgs[idx,:,:,:]=img    # 데이터 영역에 이미지 행렬을 복사\n",
    "        labels[idx]=1   # 바위 : 1\n",
    "        idx=idx+1\n",
    "\n",
    "    for file in glob.iglob(img_path+'/paper/*.jpg'):\n",
    "        img = np.array(Image.open(file),dtype=np.int32)\n",
    "        imgs[idx,:,:,:]=img    # 데이터 영역에 이미지 행렬을 복사\n",
    "        labels[idx]=2   # 보 : 2\n",
    "        idx=idx+1\n",
    "        \n",
    "    print(\"학습데이터(x_train)의 이미지 개수는\", idx,\"입니다.\")\n",
    "    return imgs, labels"
   ]
  },
  {
   "cell_type": "code",
   "execution_count": 104,
   "id": "90f9cde7",
   "metadata": {},
   "outputs": [
    {
     "name": "stdout",
     "output_type": "stream",
     "text": [
      "학습데이터(x_train)의 이미지 개수는 3685 입니다.\n",
      "x_train shape: (3685, 28, 28, 3)\n",
      "y_train shape: (3685,)\n"
     ]
    }
   ],
   "source": [
    "image_dir_path = os.getenv(\"HOME\") + \"/aiffel/rock_scissor_paper\"\n",
    "(x_train, y_train)=load_data(image_dir_path)\n",
    "x_train_norm = x_train/255.0   # 입력은 0~1 사이의 값으로 정규화\n",
    "\n",
    "print(\"x_train shape: {}\".format(x_train.shape))\n",
    "print(\"y_train shape: {}\".format(y_train.shape))"
   ]
  },
  {
   "cell_type": "code",
   "execution_count": 109,
   "id": "bdd48d8e",
   "metadata": {},
   "outputs": [
    {
     "name": "stdout",
     "output_type": "stream",
     "text": [
      "라벨:  0\n"
     ]
    },
    {
     "data": {
      "image/png": "[encoded data removed]",
      "text/plain": [
       "<Figure size 432x288 with 1 Axes>"
      ]
     },
     "metadata": {
      "needs_background": "light"
     },
     "output_type": "display_data"
    }
   ],
   "source": [
    "plt.imshow(x_train[1])\n",
    "print('라벨: ', y_train[1])"
   ]
  },
  {
   "cell_type": "code",
   "execution_count": 88,
   "id": "116eac47",
   "metadata": {},
   "outputs": [],
   "source": [
    "import tensorflow as tf\n",
    "from tensorflow import keras\n",
    "import numpy as np"
   ]
  },
  {
   "cell_type": "code",
   "execution_count": 207,
   "id": "ed75c45b",
   "metadata": {},
   "outputs": [
    {
     "name": "stdout",
     "output_type": "stream",
     "text": [
      "Model: \"sequential_29\"\n",
      "_________________________________________________________________\n",
      "Layer (type)                 Output Shape              Param #   \n",
      "=================================================================\n",
      "conv2d_58 (Conv2D)           (None, 25, 25, 10)        490       \n",
      "_________________________________________________________________\n",
      "max_pooling2d_57 (MaxPooling (None, 12, 12, 10)        0         \n",
      "_________________________________________________________________\n",
      "conv2d_59 (Conv2D)           (None, 9, 9, 20)          3220      \n",
      "_________________________________________________________________\n",
      "max_pooling2d_58 (MaxPooling (None, 4, 4, 20)          0         \n",
      "_________________________________________________________________\n",
      "flatten_28 (Flatten)         (None, 320)               0         \n",
      "_________________________________________________________________\n",
      "dense_56 (Dense)             (None, 20)                6420      \n",
      "_________________________________________________________________\n",
      "dense_57 (Dense)             (None, 3)                 63        \n",
      "=================================================================\n",
      "Total params: 10,193\n",
      "Trainable params: 10,193\n",
      "Non-trainable params: 0\n",
      "_________________________________________________________________\n"
     ]
    }
   ],
   "source": [
    "model=keras.models.Sequential()\n",
    "model.add(keras.layers.Conv2D(10, (4,4), activation='relu', input_shape=(28,28,3)))\n",
    "model.add(keras.layers.MaxPool2D(2,2))\n",
    "model.add(keras.layers.Conv2D(20, (4,4), activation='relu'))\n",
    "model.add(keras.layers.MaxPooling2D((2,2)))\n",
    "model.add(keras.layers.Flatten())\n",
    "model.add(keras.layers.Dense(20, activation='relu'))\n",
    "model.add(keras.layers.Dense(3, activation='softmax'))\n",
    "\n",
    "model.summary()\n",
    "model.compile(optimizer='adam',\n",
    "             loss='sparse_categorical_crossentropy',\n",
    "             metrics=['accuracy'])"
   ]
  },
  {
   "cell_type": "code",
   "execution_count": 150,
   "id": "7113fea8",
   "metadata": {},
   "outputs": [
    {
     "name": "stdout",
     "output_type": "stream",
     "text": [
      "Before Reshape - x_train_norm shape: (3685, 28, 28, 3)\n",
      "Before Reshape - x_test_norm shape: (300, 28, 28, 3)\n"
     ]
    }
   ],
   "source": [
    "print(\"Before Reshape - x_train_norm shape: {}\".format(x_train_norm.shape))\n",
    "print(\"Before Reshape - x_test_norm shape: {}\".format(x_test_norm.shape))  "
   ]
  },
  {
   "cell_type": "code",
   "execution_count": 208,
   "id": "1ef036a3",
   "metadata": {},
   "outputs": [
    {
     "name": "stdout",
     "output_type": "stream",
     "text": [
      "Epoch 1/15\n",
      "116/116 [==============================] - 1s 3ms/step - loss: 0.9128 - accuracy: 0.5986\n",
      "Epoch 2/15\n",
      "116/116 [==============================] - 0s 3ms/step - loss: 0.5526 - accuracy: 0.8022\n",
      "Epoch 3/15\n",
      "116/116 [==============================] - 0s 3ms/step - loss: 0.3872 - accuracy: 0.8719\n",
      "Epoch 4/15\n",
      "116/116 [==============================] - 0s 3ms/step - loss: 0.2764 - accuracy: 0.9180\n",
      "Epoch 5/15\n",
      "116/116 [==============================] - 0s 3ms/step - loss: 0.2107 - accuracy: 0.9422\n",
      "Epoch 6/15\n",
      "116/116 [==============================] - 0s 3ms/step - loss: 0.1590 - accuracy: 0.9596\n",
      "Epoch 7/15\n",
      "116/116 [==============================] - 0s 3ms/step - loss: 0.1290 - accuracy: 0.9661\n",
      "Epoch 8/15\n",
      "116/116 [==============================] - 0s 3ms/step - loss: 0.1128 - accuracy: 0.9691\n",
      "Epoch 9/15\n",
      "116/116 [==============================] - 0s 3ms/step - loss: 0.0846 - accuracy: 0.9783\n",
      "Epoch 10/15\n",
      "116/116 [==============================] - 0s 3ms/step - loss: 0.0709 - accuracy: 0.9821\n",
      "Epoch 11/15\n",
      "116/116 [==============================] - 0s 3ms/step - loss: 0.0496 - accuracy: 0.9897\n",
      "Epoch 12/15\n",
      "116/116 [==============================] - 0s 3ms/step - loss: 0.0448 - accuracy: 0.9910\n",
      "Epoch 13/15\n",
      "116/116 [==============================] - 0s 3ms/step - loss: 0.0352 - accuracy: 0.9929\n",
      "Epoch 14/15\n",
      "116/116 [==============================] - 0s 3ms/step - loss: 0.0304 - accuracy: 0.9948\n",
      "Epoch 15/15\n",
      "116/116 [==============================] - 0s 3ms/step - loss: 0.0246 - accuracy: 0.9940\n"
     ]
    },
    {
     "data": {
      "text/plain": [
       "<keras.callbacks.History at 0x7f29cacf8700>"
      ]
     },
     "execution_count": 208,
     "metadata": {},
     "output_type": "execute_result"
    }
   ],
   "source": [
    "model.fit(x_train_norm, y_train, epochs=15)"
   ]
  },
  {
   "cell_type": "code",
   "execution_count": 114,
   "id": "6eca0444",
   "metadata": {},
   "outputs": [
    {
     "name": "stdout",
     "output_type": "stream",
     "text": [
      "100  images to be resized.\n",
      "100  images resized.\n"
     ]
    }
   ],
   "source": [
    "def resize_images(img_path):\n",
    "    images=glob.glob(img_path + \"/*.jpg\")\n",
    "    print(len(images), \" images to be resized.\")\n",
    "    target_size=(28,28)\n",
    "    for img in images:\n",
    "        old_img=Image.open(img)\n",
    "        new_img=old_img.resize(target_size,Image.ANTIALIAS)\n",
    "        new_img.save(img, \"JPEG\")\n",
    "    print(len(images), \" images resized.\")\n",
    "image_dir_path = os.getenv(\"HOME\") + \"/aiffel/rock_scissor_paper/test/test/scissor\"\n",
    "resize_images(image_dir_path)\n"
   ]
  },
  {
   "cell_type": "code",
   "execution_count": 115,
   "id": "8dafaaf9",
   "metadata": {},
   "outputs": [
    {
     "name": "stdout",
     "output_type": "stream",
     "text": [
      "100  images to be resized.\n",
      "100  images resized.\n"
     ]
    }
   ],
   "source": [
    "def resize_images(img_path):\n",
    "    images=glob.glob(img_path + \"/*.jpg\")\n",
    "    print(len(images), \" images to be resized.\")\n",
    "    target_size=(28,28)\n",
    "    for img in images:\n",
    "        old_img=Image.open(img)\n",
    "        new_img=old_img.resize(target_size,Image.ANTIALIAS)\n",
    "        new_img.save(img, \"JPEG\")\n",
    "    print(len(images), \" images resized.\")\n",
    "image_dir_path = os.getenv(\"HOME\") + \"/aiffel/rock_scissor_paper/test/test/rock\"\n",
    "resize_images(image_dir_path)\n"
   ]
  },
  {
   "cell_type": "code",
   "execution_count": 116,
   "id": "435565c2",
   "metadata": {},
   "outputs": [
    {
     "name": "stdout",
     "output_type": "stream",
     "text": [
      "100  images to be resized.\n",
      "100  images resized.\n"
     ]
    }
   ],
   "source": [
    "def resize_images(img_path):\n",
    "    images=glob.glob(img_path + \"/*.jpg\")\n",
    "    print(len(images), \" images to be resized.\")\n",
    "    target_size=(28,28)\n",
    "    for img in images:\n",
    "        old_img=Image.open(img)\n",
    "        new_img=old_img.resize(target_size,Image.ANTIALIAS)\n",
    "        new_img.save(img, \"JPEG\")\n",
    "    print(len(images), \" images resized.\")\n",
    "image_dir_path = os.getenv(\"HOME\") + \"/aiffel/rock_scissor_paper/test/test/paper\"\n",
    "resize_images(image_dir_path)"
   ]
  },
  {
   "cell_type": "code",
   "execution_count": 215,
   "id": "41446f9d",
   "metadata": {},
   "outputs": [],
   "source": [
    "def load_data(img_path, number_of_data=300):\n",
    "    img_size=28\n",
    "    color=3\n",
    "    imgs=np.zeros(number_of_data*img_size*img_size*color,dtype=np.int32).reshape(number_of_data,img_size,img_size,color)\n",
    "    labels=np.zeros(number_of_data,dtype=np.int32)\n",
    "    \n",
    "    idx=0\n",
    "    for file in glob.iglob(img_path+'/scissor/*.jpg'):\n",
    "        img = np.array(Image.open(file),dtype=np.int32)\n",
    "        imgs[idx,:,:,:]=img    # 데이터 영역에 이미지 행렬을 복사\n",
    "        labels[idx]=0   # 가위 : 0\n",
    "        idx=idx+1\n",
    "\n",
    "    for file in glob.iglob(img_path+'/rock/*.jpg'):\n",
    "        img = np.array(Image.open(file),dtype=np.int32)\n",
    "        imgs[idx,:,:,:]=img    # 데이터 영역에 이미지 행렬을 복사\n",
    "        labels[idx]=1   # 바위 : 1\n",
    "        idx=idx+1\n",
    "\n",
    "    for file in glob.iglob(img_path+'/paper/*.jpg'):\n",
    "        img = np.array(Image.open(file),dtype=np.int32)\n",
    "        imgs[idx,:,:,:]=img    # 데이터 영역에 이미지 행렬을 복사\n",
    "        labels[idx]=2   # 보 : 2\n",
    "        idx=idx+1\n",
    "        \n",
    "    print(\"테스트(x_test)의 이미지 개수는\", idx,\"입니다.\")\n",
    "    return imgs, labels"
   ]
  },
  {
   "cell_type": "code",
   "execution_count": 123,
   "id": "e2ebc8ba",
   "metadata": {},
   "outputs": [
    {
     "name": "stdout",
     "output_type": "stream",
     "text": [
      "테스트(x_test)의 이미지 개수는 300 입니다.\n",
      "x_test shape: (300, 28, 28, 3)\n",
      "y_test shape: (300,)\n"
     ]
    }
   ],
   "source": [
    "image_dir_path = os.getenv(\"HOME\") + \"/aiffel/rock_scissor_paper/test/test\"\n",
    "(x_test, y_test)=load_data(image_dir_path)\n",
    "x_test_norm = x_test/255.0   # 입력은 0~1 사이의 값으로 정규화\n",
    "\n",
    "print(\"x_test shape: {}\".format(x_test.shape))\n",
    "print(\"y_test shape: {}\".format(y_test.shape))"
   ]
  },
  {
   "cell_type": "code",
   "execution_count": 209,
   "id": "9fe99b75",
   "metadata": {},
   "outputs": [
    {
     "name": "stdout",
     "output_type": "stream",
     "text": [
      "10/10 - 0s - loss: 1.4256 - accuracy: 0.5967\n",
      "test_loss: 1.4256248474121094 \n",
      "test_accuracy: 0.596666693687439\n"
     ]
    }
   ],
   "source": [
    "test_loss, test_accuracy = model.evaluate(x_test_norm, y_test, verbose=2)\n",
    "print(\"test_loss: {} \".format(test_loss))\n",
    "print(\"test_accuracy: {}\".format(test_accuracy))"
   ]
  },
  {
   "cell_type": "code",
   "execution_count": 210,
   "id": "cd6085a9",
   "metadata": {},
   "outputs": [
    {
     "name": "stdout",
     "output_type": "stream",
     "text": [
      "라벨:  0\n"
     ]
    },
    {
     "data": {
      "image/png": "[encoded data removed]",
      "text/plain": [
       "<Figure size 432x288 with 1 Axes>"
      ]
     },
     "metadata": {
      "needs_background": "light"
     },
     "output_type": "display_data"
    }
   ],
   "source": [
    "plt.imshow(x_test[12])\n",
    "print('라벨: ', y_test[12])"
   ]
  },
  {
   "cell_type": "code",
   "execution_count": null,
   "id": "21d4940f",
   "metadata": {},
   "outputs": [],
   "source": []
  }
 ],
 "metadata": {
  "kernelspec": {
   "display_name": "Python 3 (ipykernel)",
   "language": "python",
   "name": "python3"
  },
  "language_info": {
   "codemirror_mode": {
    "name": "ipython",
    "version": 3
   },
   "file_extension": ".py",
   "mimetype": "text/x-python",
   "name": "python",
   "nbconvert_exporter": "python",
   "pygments_lexer": "ipython3",
   "version": "3.9.7"
  }
 },
 "nbformat": 4,
 "nbformat_minor": 5
}
