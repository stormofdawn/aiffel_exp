{
 "cells": [
  {
   "cell_type": "code",
   "execution_count": 2,
   "id": "446883d9",
   "metadata": {},
   "outputs": [],
   "source": [
    "from sklearn.datasets import load_digits                     #데이터 불러옴\n",
    "from sklearn.model_selection import train_test_split\n",
    "from sklearn.metrics import classification_report            #필요 모듈 불러옴"
   ]
  },
  {
   "cell_type": "code",
   "execution_count": 3,
   "id": "e6d1f5c0",
   "metadata": {},
   "outputs": [],
   "source": [
    "from sklearn.tree import DecisionTreeClassifier\n",
    "from sklearn.ensemble import RandomForestClassifier\n",
    "from sklearn import svm\n",
    "from sklearn.linear_model import SGDClassifier\n",
    "from sklearn.linear_model import LogisticRegression          #모델 5개 불러옴"
   ]
  },
  {
   "cell_type": "markdown",
   "id": "8509fbfc",
   "metadata": {},
   "source": [
    "### 결과값은 어차피 픽셀이니 표는 생략"
   ]
  },
  {
   "cell_type": "code",
   "execution_count": 5,
   "id": "32bfdb52",
   "metadata": {},
   "outputs": [],
   "source": [
    "import pandas as pd          #혹시모르니 판다스도 불러옴"
   ]
  },
  {
   "cell_type": "code",
   "execution_count": 6,
   "id": "1f8bd614",
   "metadata": {},
   "outputs": [],
   "source": [
    "digits = load_digits()\n",
    "digits_data = digits.data              #변수 지정"
   ]
  },
  {
   "cell_type": "code",
   "execution_count": 8,
   "id": "8ec425cf",
   "metadata": {},
   "outputs": [],
   "source": [
    "digits_label = digits.target           #레이블(정답) 지정"
   ]
  },
  {
   "cell_type": "code",
   "execution_count": 10,
   "id": "128e6d44",
   "metadata": {},
   "outputs": [],
   "source": [
    "X_train, X_test, y_train, y_test = train_test_split(digits_data, \n",
    "                                                    digits_label, \n",
    "                                                    test_size=0.2, \n",
    "                                                    random_state=37)     #변수 분리"
   ]
  },
  {
   "cell_type": "code",
   "execution_count": 12,
   "id": "6422e8b7",
   "metadata": {},
   "outputs": [
    {
     "name": "stdout",
     "output_type": "stream",
     "text": [
      "              precision    recall  f1-score   support\n",
      "\n",
      "           0       0.97      0.91      0.94        32\n",
      "           1       0.81      0.86      0.84        44\n",
      "           2       0.93      0.86      0.89        43\n",
      "           3       0.70      0.91      0.79        23\n",
      "           4       0.76      0.78      0.77        32\n",
      "           5       0.77      0.87      0.81        38\n",
      "           6       0.97      0.91      0.94        34\n",
      "           7       0.86      0.88      0.87        34\n",
      "           8       0.76      0.62      0.68        42\n",
      "           9       0.92      0.87      0.89        38\n",
      "\n",
      "    accuracy                           0.84       360\n",
      "   macro avg       0.84      0.85      0.84       360\n",
      "weighted avg       0.85      0.84      0.84       360\n",
      "\n"
     ]
    }
   ],
   "source": [
    "decision_tree = DecisionTreeClassifier(random_state=29)\n",
    "decision_tree.fit(X_train, y_train)\n",
    "y_pred = decision_tree.predict(X_test)\n",
    "print(classification_report(y_test, y_pred))                 #dicision_tree 모형"
   ]
  },
  {
   "cell_type": "code",
   "execution_count": 14,
   "id": "d83a66ac",
   "metadata": {},
   "outputs": [
    {
     "name": "stdout",
     "output_type": "stream",
     "text": [
      "              precision    recall  f1-score   support\n",
      "\n",
      "           0       0.97      0.97      0.97        32\n",
      "           1       0.98      1.00      0.99        44\n",
      "           2       1.00      1.00      1.00        43\n",
      "           3       1.00      1.00      1.00        23\n",
      "           4       0.94      0.97      0.95        32\n",
      "           5       1.00      0.95      0.97        38\n",
      "           6       1.00      0.94      0.97        34\n",
      "           7       0.94      1.00      0.97        34\n",
      "           8       1.00      0.95      0.98        42\n",
      "           9       0.95      1.00      0.97        38\n",
      "\n",
      "    accuracy                           0.98       360\n",
      "   macro avg       0.98      0.98      0.98       360\n",
      "weighted avg       0.98      0.98      0.98       360\n",
      "\n"
     ]
    }
   ],
   "source": [
    "random_forest = RandomForestClassifier(random_state=29)\n",
    "random_forest.fit(X_train, y_train)\n",
    "y_pred = random_forest.predict(X_test)\n",
    "print(classification_report(y_test, y_pred))              #random_forest 모형"
   ]
  },
  {
   "cell_type": "code",
   "execution_count": 15,
   "id": "725aee6f",
   "metadata": {},
   "outputs": [
    {
     "name": "stdout",
     "output_type": "stream",
     "text": [
      "              precision    recall  f1-score   support\n",
      "\n",
      "           0       1.00      1.00      1.00        32\n",
      "           1       1.00      1.00      1.00        44\n",
      "           2       1.00      1.00      1.00        43\n",
      "           3       1.00      1.00      1.00        23\n",
      "           4       1.00      0.97      0.98        32\n",
      "           5       1.00      0.97      0.99        38\n",
      "           6       1.00      1.00      1.00        34\n",
      "           7       1.00      1.00      1.00        34\n",
      "           8       1.00      1.00      1.00        42\n",
      "           9       0.95      1.00      0.97        38\n",
      "\n",
      "    accuracy                           0.99       360\n",
      "   macro avg       0.99      0.99      0.99       360\n",
      "weighted avg       0.99      0.99      0.99       360\n",
      "\n"
     ]
    }
   ],
   "source": [
    "svm_model = svm.SVC(random_state=29)\n",
    "svm_model.fit(X_train, y_train)\n",
    "y_pred = svm_model.predict(X_test)\n",
    "\n",
    "print(classification_report(y_test, y_pred))            #svm 모형"
   ]
  },
  {
   "cell_type": "code",
   "execution_count": 16,
   "id": "d0289f66",
   "metadata": {},
   "outputs": [
    {
     "name": "stdout",
     "output_type": "stream",
     "text": [
      "              precision    recall  f1-score   support\n",
      "\n",
      "           0       0.97      1.00      0.98        32\n",
      "           1       0.96      0.98      0.97        44\n",
      "           2       1.00      1.00      1.00        43\n",
      "           3       1.00      0.96      0.98        23\n",
      "           4       1.00      0.94      0.97        32\n",
      "           5       0.90      1.00      0.95        38\n",
      "           6       1.00      0.97      0.99        34\n",
      "           7       0.92      1.00      0.96        34\n",
      "           8       0.85      0.93      0.89        42\n",
      "           9       1.00      0.76      0.87        38\n",
      "\n",
      "    accuracy                           0.95       360\n",
      "   macro avg       0.96      0.95      0.95       360\n",
      "weighted avg       0.96      0.95      0.95       360\n",
      "\n"
     ]
    }
   ],
   "source": [
    "sgd_model = SGDClassifier(random_state=29)\n",
    "sgd_model.fit(X_train, y_train)\n",
    "y_pred = sgd_model.predict(X_test)\n",
    "\n",
    "print(classification_report(y_test, y_pred))          #sgd 모형"
   ]
  },
  {
   "cell_type": "code",
   "execution_count": 19,
   "id": "5833e945",
   "metadata": {},
   "outputs": [
    {
     "name": "stdout",
     "output_type": "stream",
     "text": [
      "              precision    recall  f1-score   support\n",
      "\n",
      "           0       1.00      1.00      1.00        32\n",
      "           1       0.98      1.00      0.99        44\n",
      "           2       1.00      0.98      0.99        43\n",
      "           3       0.96      1.00      0.98        23\n",
      "           4       0.97      0.94      0.95        32\n",
      "           5       0.95      0.92      0.93        38\n",
      "           6       1.00      0.97      0.99        34\n",
      "           7       0.97      0.97      0.97        34\n",
      "           8       0.93      0.95      0.94        42\n",
      "           9       0.92      0.95      0.94        38\n",
      "\n",
      "    accuracy                           0.97       360\n",
      "   macro avg       0.97      0.97      0.97       360\n",
      "weighted avg       0.97      0.97      0.97       360\n",
      "\n"
     ]
    }
   ],
   "source": [
    "logistic_model = LogisticRegression(max_iter=10000, random_state=29)\n",
    "logistic_model.fit(X_train, y_train)\n",
    "y_pred = logistic_model.predict(X_test)\n",
    "\n",
    "print(classification_report(y_test, y_pred))          #logistic 회귀모형"
   ]
  },
  {
   "cell_type": "markdown",
   "id": "4ff1da5d",
   "metadata": {},
   "source": [
    "대부분이 좋은 예측력을 보였다. \n",
    "\n",
    "사진을 픽셀로 변환한 것이라, 엄청나게 많은 변수가 있을 것을 예상할 수 있고\n",
    "\n",
    "특히 구분 집단간의 경계선을 지정하는 svm 모형과 다변수를 고려하는 random-forest,\n",
    "패턴을 파악하는 로지스틱모델이 비교적 더 잘 예측하고 있다. \n",
    "\n",
    "데이터는 거의 완벽하게 정제되었을 것으로 생각되며,\n",
    "train셋과 test셋도 별도로 구분되어 있지 않았으므로, 외적 타당도가 매우 낮을것이다.\n",
    "\n",
    "이러한 이유로 각 모델들이 잘못된 예측을 하는 경우는 거의 대부분 모델 자체가 가지는 한계점이라고 생각된다."
   ]
  },
  {
   "cell_type": "code",
   "execution_count": null,
   "id": "6de51c7c",
   "metadata": {},
   "outputs": [],
   "source": []
  }
 ],
 "metadata": {
  "kernelspec": {
   "display_name": "Python 3 (ipykernel)",
   "language": "python",
   "name": "python3"
  },
  "language_info": {
   "codemirror_mode": {
    "name": "ipython",
    "version": 3
   },
   "file_extension": ".py",
   "mimetype": "text/x-python",
   "name": "python",
   "nbconvert_exporter": "python",
   "pygments_lexer": "ipython3",
   "version": "3.9.7"
  }
 },
 "nbformat": 4,
 "nbformat_minor": 5
}
