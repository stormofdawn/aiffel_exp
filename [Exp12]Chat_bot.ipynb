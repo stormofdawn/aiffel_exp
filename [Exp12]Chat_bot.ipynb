{
 "cells": [
  {
   "cell_type": "code",
   "execution_count": 1,
   "id": "040bda62",
   "metadata": {},
   "outputs": [],
   "source": [
    "import tensorflow as tf\n",
    "import tensorflow_datasets as tfds\n",
    "import os\n",
    "import re\n",
    "import numpy as np\n",
    "import matplotlib.pyplot as plt"
   ]
  },
  {
   "cell_type": "code",
   "execution_count": 2,
   "id": "e351b01a",
   "metadata": {},
   "outputs": [],
   "source": [
    "# 포지셔널 인코딩 레이어\n",
    "class PositionalEncoding(tf.keras.layers.Layer):\n",
    "\n",
    "  def __init__(self, position, d_model):\n",
    "    super(PositionalEncoding, self).__init__()\n",
    "    self.pos_encoding = self.positional_encoding(position, d_model)\n",
    "\n",
    "  def get_angles(self, position, i, d_model):\n",
    "    angles = 1 / tf.pow(10000, (2 * (i // 2)) / tf.cast(d_model, tf.float32))\n",
    "    return position * angles\n",
    "\n",
    "  def positional_encoding(self, position, d_model):\n",
    "    # 각도 배열 생성\n",
    "    angle_rads = self.get_angles(\n",
    "        position=tf.range(position, dtype=tf.float32)[:, tf.newaxis],\n",
    "        i=tf.range(d_model, dtype=tf.float32)[tf.newaxis, :],\n",
    "        d_model=d_model)\n",
    "\n",
    "    # 배열의 짝수 인덱스에는 sin 함수 적용\n",
    "    sines = tf.math.sin(angle_rads[:, 0::2])\n",
    "    # 배열의 홀수 인덱스에는 cosine 함수 적용\n",
    "    cosines = tf.math.cos(angle_rads[:, 1::2])\n",
    "\n",
    "    # sin과 cosine이 교차되도록 재배열\n",
    "    pos_encoding = tf.stack([sines, cosines], axis=0)\n",
    "    pos_encoding = tf.transpose(pos_encoding,[1, 2, 0]) \n",
    "    pos_encoding = tf.reshape(pos_encoding, [position, d_model])\n",
    "\n",
    "    pos_encoding = pos_encoding[tf.newaxis, ...]\n",
    "    return tf.cast(pos_encoding, tf.float32)\n",
    "\n",
    "  def call(self, inputs):\n",
    "    return inputs + self.pos_encoding[:, :tf.shape(inputs)[1], :]\n"
   ]
  },
  {
   "cell_type": "code",
   "execution_count": 3,
   "id": "fe49735b",
   "metadata": {},
   "outputs": [
    {
     "data": {
      "image/png": "[encoded data removed]",
      "text/plain": [
       "<Figure size 432x288 with 2 Axes>"
      ]
     },
     "metadata": {
      "needs_background": "light"
     },
     "output_type": "display_data"
    }
   ],
   "source": [
    "sample_pos_encoding = PositionalEncoding(50, 512)\n",
    "\n",
    "plt.pcolormesh(sample_pos_encoding.pos_encoding.numpy()[0], cmap='RdBu')\n",
    "plt.xlabel('Depth')\n",
    "plt.xlim((0, 512))\n",
    "plt.ylabel('Position')\n",
    "plt.colorbar()\n",
    "plt.show()"
   ]
  },
  {
   "cell_type": "code",
   "execution_count": 3,
   "id": "d74c4dc2",
   "metadata": {},
   "outputs": [],
   "source": [
    "# 스케일드 닷 프로덕트 어텐션 함수\n",
    "def scaled_dot_product_attention(query, key, value, mask):\n",
    "  # 어텐션 가중치는 Q와 K의 닷 프로덕트\n",
    "  matmul_qk = tf.matmul(query, key, transpose_b=True)\n",
    "\n",
    "  # 가중치를 정규화\n",
    "  depth = tf.cast(tf.shape(key)[-1], tf.float32)\n",
    "  logits = matmul_qk / tf.math.sqrt(depth)\n",
    "\n",
    "  # 패딩에 마스크 추가\n",
    "  if mask is not None:\n",
    "    logits += (mask * -1e9)\n",
    "\n",
    "  # softmax적용\n",
    "  attention_weights = tf.nn.softmax(logits, axis=-1)\n",
    "\n",
    "  # 최종 어텐션은 가중치와 V의 닷 프로덕트\n",
    "  output = tf.matmul(attention_weights, value)\n",
    "  return output"
   ]
  },
  {
   "cell_type": "code",
   "execution_count": 4,
   "id": "ccd7a263",
   "metadata": {},
   "outputs": [],
   "source": [
    "class MultiHeadAttention(tf.keras.layers.Layer):\n",
    "\n",
    "  def __init__(self, d_model, num_heads, name=\"multi_head_attention\"):\n",
    "    super(MultiHeadAttention, self).__init__(name=name)\n",
    "    self.num_heads = num_heads\n",
    "    self.d_model = d_model\n",
    "\n",
    "    assert d_model % self.num_heads == 0\n",
    "\n",
    "    self.depth = d_model // self.num_heads\n",
    "\n",
    "    self.query_dense = tf.keras.layers.Dense(units=d_model)\n",
    "    self.key_dense = tf.keras.layers.Dense(units=d_model)\n",
    "    self.value_dense = tf.keras.layers.Dense(units=d_model)\n",
    "\n",
    "    self.dense = tf.keras.layers.Dense(units=d_model)\n",
    "\n",
    "  def split_heads(self, inputs, batch_size):\n",
    "    inputs = tf.reshape(\n",
    "        inputs, shape=(batch_size, -1, self.num_heads, self.depth))\n",
    "    return tf.transpose(inputs, perm=[0, 2, 1, 3])\n",
    "\n",
    "  def call(self, inputs):\n",
    "    query, key, value, mask = inputs['query'], inputs['key'], inputs[\n",
    "        'value'], inputs['mask']\n",
    "    batch_size = tf.shape(query)[0]\n",
    "\n",
    "    # Q, K, V에 각각 Dense를 적용합니다\n",
    "    query = self.query_dense(query)\n",
    "    key = self.key_dense(key)\n",
    "    value = self.value_dense(value)\n",
    "\n",
    "    # 병렬 연산을 위한 머리를 여러 개 만듭니다\n",
    "    query = self.split_heads(query, batch_size)\n",
    "    key = self.split_heads(key, batch_size)\n",
    "    value = self.split_heads(value, batch_size)\n",
    "\n",
    "    # 스케일드 닷 프로덕트 어텐션 함수\n",
    "    scaled_attention = scaled_dot_product_attention(query, key, value, mask)\n",
    "\n",
    "    scaled_attention = tf.transpose(scaled_attention, perm=[0, 2, 1, 3])\n",
    "\n",
    "    # 어텐션 연산 후에 각 결과를 다시 연결(concatenate)합니다\n",
    "    concat_attention = tf.reshape(scaled_attention,\n",
    "                                  (batch_size, -1, self.d_model))\n",
    "\n",
    "    # 최종 결과에도 Dense를 한 번 더 적용합니다\n",
    "    outputs = self.dense(concat_attention)\n",
    "\n",
    "    return outputs"
   ]
  },
  {
   "cell_type": "code",
   "execution_count": 5,
   "id": "d11b8a79",
   "metadata": {},
   "outputs": [],
   "source": [
    "def create_padding_mask(x):\n",
    "  mask = tf.cast(tf.math.equal(x, 0), tf.float32)\n",
    "  # (batch_size, 1, 1, sequence length)\n",
    "  return mask[:, tf.newaxis, tf.newaxis, :]"
   ]
  },
  {
   "cell_type": "code",
   "execution_count": 7,
   "id": "85c3f29f",
   "metadata": {},
   "outputs": [
    {
     "name": "stdout",
     "output_type": "stream",
     "text": [
      "tf.Tensor(\n",
      "[[[[0. 0. 1. 0. 1.]]]\n",
      "\n",
      "\n",
      " [[[1. 1. 1. 0. 0.]]]], shape=(2, 1, 1, 5), dtype=float32)\n"
     ]
    }
   ],
   "source": [
    "print(create_padding_mask(tf.constant([[1, 2, 0, 3, 0], [0, 0, 0, 4, 5]])))"
   ]
  },
  {
   "cell_type": "code",
   "execution_count": 6,
   "id": "26a20efa",
   "metadata": {},
   "outputs": [],
   "source": [
    "def create_look_ahead_mask(x):\n",
    "  seq_len = tf.shape(x)[1]\n",
    "  look_ahead_mask = 1 - tf.linalg.band_part(tf.ones((seq_len, seq_len)), -1, 0)\n",
    "  padding_mask = create_padding_mask(x)\n",
    "  return tf.maximum(look_ahead_mask, padding_mask)"
   ]
  },
  {
   "cell_type": "code",
   "execution_count": 9,
   "id": "427373d8",
   "metadata": {},
   "outputs": [
    {
     "name": "stdout",
     "output_type": "stream",
     "text": [
      "tf.Tensor(\n",
      "[[[[0. 1. 1. 1. 1.]\n",
      "   [0. 0. 1. 1. 1.]\n",
      "   [0. 0. 0. 1. 1.]\n",
      "   [0. 0. 0. 0. 1.]\n",
      "   [0. 0. 0. 0. 0.]]]], shape=(1, 1, 5, 5), dtype=float32)\n"
     ]
    }
   ],
   "source": [
    "print(create_look_ahead_mask(tf.constant([[1, 2, 3, 4, 5]])))"
   ]
  },
  {
   "cell_type": "code",
   "execution_count": 10,
   "id": "a77f354c",
   "metadata": {},
   "outputs": [
    {
     "name": "stdout",
     "output_type": "stream",
     "text": [
      "tf.Tensor(\n",
      "[[[[1. 1. 1. 1. 1.]\n",
      "   [1. 0. 1. 1. 1.]\n",
      "   [1. 0. 0. 1. 1.]\n",
      "   [1. 0. 0. 0. 1.]\n",
      "   [1. 0. 0. 0. 0.]]]], shape=(1, 1, 5, 5), dtype=float32)\n"
     ]
    }
   ],
   "source": [
    "print(create_look_ahead_mask(tf.constant([[0, 5, 1, 5, 5]])))"
   ]
  },
  {
   "cell_type": "code",
   "execution_count": 7,
   "id": "8996a234",
   "metadata": {},
   "outputs": [],
   "source": [
    "# 인코더 하나의 레이어를 함수로 구현.\n",
    "# 이 하나의 레이어 안에는 두 개의 서브 레이어가 존재합니다.\n",
    "def encoder_layer(units, d_model, num_heads, dropout, name=\"encoder_layer\"):\n",
    "  inputs = tf.keras.Input(shape=(None, d_model), name=\"inputs\")\n",
    "\n",
    "  # 패딩 마스크 사용\n",
    "  padding_mask = tf.keras.Input(shape=(1, 1, None), name=\"padding_mask\")\n",
    "\n",
    "  # 첫 번째 서브 레이어 : 멀티 헤드 어텐션 수행 (셀프 어텐션)\n",
    "  attention = MultiHeadAttention(\n",
    "      d_model, num_heads, name=\"attention\")({\n",
    "          'query': inputs,\n",
    "          'key': inputs,\n",
    "          'value': inputs,\n",
    "          'mask': padding_mask\n",
    "      })\n",
    "\n",
    "  # 어텐션의 결과는 Dropout과 Layer Normalization이라는 훈련을 돕는 테크닉을 수행\n",
    "  attention = tf.keras.layers.Dropout(rate=dropout)(attention)\n",
    "  attention = tf.keras.layers.LayerNormalization(\n",
    "      epsilon=1e-6)(inputs + attention)\n",
    "\n",
    "  # 두 번째 서브 레이어 : 2개의 완전연결층\n",
    "  outputs = tf.keras.layers.Dense(units=units, activation='relu')(attention)\n",
    "  outputs = tf.keras.layers.Dense(units=d_model)(outputs)\n",
    "\n",
    "  # 완전연결층의 결과는 Dropout과 LayerNormalization이라는 훈련을 돕는 테크닉을 수행\n",
    "  outputs = tf.keras.layers.Dropout(rate=dropout)(outputs)\n",
    "  outputs = tf.keras.layers.LayerNormalization(\n",
    "      epsilon=1e-6)(attention + outputs)\n",
    "\n",
    "  return tf.keras.Model(\n",
    "      inputs=[inputs, padding_mask], outputs=outputs, name=name)"
   ]
  },
  {
   "cell_type": "code",
   "execution_count": 8,
   "id": "b4b54c7d",
   "metadata": {},
   "outputs": [],
   "source": [
    "def encoder(vocab_size,\n",
    "            num_layers,\n",
    "            units,\n",
    "            d_model,\n",
    "            num_heads,\n",
    "            dropout,\n",
    "            name=\"encoder\"):\n",
    "  inputs = tf.keras.Input(shape=(None,), name=\"inputs\")\n",
    "\n",
    "  # 패딩 마스크 사용\n",
    "  padding_mask = tf.keras.Input(shape=(1, 1, None), name=\"padding_mask\")\n",
    "\n",
    "  # 임베딩 레이어\n",
    "  embeddings = tf.keras.layers.Embedding(vocab_size, d_model)(inputs)\n",
    "  embeddings *= tf.math.sqrt(tf.cast(d_model, tf.float32))\n",
    "\n",
    "  # 포지셔널 인코딩\n",
    "  embeddings = PositionalEncoding(vocab_size, d_model)(embeddings)\n",
    "\n",
    "  outputs = tf.keras.layers.Dropout(rate=dropout)(embeddings)\n",
    "\n",
    "  # num_layers만큼 쌓아올린 인코더의 층.\n",
    "  for i in range(num_layers):\n",
    "    outputs = encoder_layer(\n",
    "        units=units,\n",
    "        d_model=d_model,\n",
    "        num_heads=num_heads,\n",
    "        dropout=dropout,\n",
    "        name=\"encoder_layer_{}\".format(i),\n",
    "    )([outputs, padding_mask])\n",
    "\n",
    "  return tf.keras.Model(\n",
    "      inputs=[inputs, padding_mask], outputs=outputs, name=name)"
   ]
  },
  {
   "cell_type": "code",
   "execution_count": 9,
   "id": "4825afc4",
   "metadata": {},
   "outputs": [],
   "source": [
    "# 디코더 하나의 레이어를 함수로 구현.\n",
    "# 이 하나의 레이어 안에는 세 개의 서브 레이어가 존재합니다.\n",
    "def decoder_layer(units, d_model, num_heads, dropout, name=\"decoder_layer\"):\n",
    "  inputs = tf.keras.Input(shape=(None, d_model), name=\"inputs\")\n",
    "  enc_outputs = tf.keras.Input(shape=(None, d_model), name=\"encoder_outputs\")\n",
    "  look_ahead_mask = tf.keras.Input(\n",
    "      shape=(1, None, None), name=\"look_ahead_mask\")\n",
    "  padding_mask = tf.keras.Input(shape=(1, 1, None), name='padding_mask')\n",
    "\n",
    "  # 첫 번째 서브 레이어 : 멀티 헤드 어텐션 수행 (셀프 어텐션)\n",
    "  attention1 = MultiHeadAttention(\n",
    "      d_model, num_heads, name=\"attention_1\")(inputs={\n",
    "          'query': inputs,\n",
    "          'key': inputs,\n",
    "          'value': inputs,\n",
    "          'mask': look_ahead_mask\n",
    "      })\n",
    "\n",
    "  # 멀티 헤드 어텐션의 결과는 LayerNormalization이라는 훈련을 돕는 테크닉을 수행\n",
    "  attention1 = tf.keras.layers.LayerNormalization(\n",
    "      epsilon=1e-6)(attention1 + inputs)\n",
    "\n",
    "  # 두 번째 서브 레이어 : 마스크드 멀티 헤드 어텐션 수행 (인코더-디코더 어텐션)\n",
    "  attention2 = MultiHeadAttention(\n",
    "      d_model, num_heads, name=\"attention_2\")(inputs={\n",
    "          'query': attention1,\n",
    "          'key': enc_outputs,\n",
    "          'value': enc_outputs,\n",
    "          'mask': padding_mask\n",
    "      })\n",
    "\n",
    "  # 마스크드 멀티 헤드 어텐션의 결과는\n",
    "  # Dropout과 LayerNormalization이라는 훈련을 돕는 테크닉을 수행\n",
    "  attention2 = tf.keras.layers.Dropout(rate=dropout)(attention2)\n",
    "  attention2 = tf.keras.layers.LayerNormalization(\n",
    "      epsilon=1e-6)(attention2 + attention1)\n",
    "\n",
    "  # 세 번째 서브 레이어 : 2개의 완전연결층\n",
    "  outputs = tf.keras.layers.Dense(units=units, activation='relu')(attention2)\n",
    "  outputs = tf.keras.layers.Dense(units=d_model)(outputs)\n",
    "\n",
    "  # 완전연결층의 결과는 Dropout과 LayerNormalization 수행\n",
    "  outputs = tf.keras.layers.Dropout(rate=dropout)(outputs)\n",
    "  outputs = tf.keras.layers.LayerNormalization(\n",
    "      epsilon=1e-6)(outputs + attention2)\n",
    "\n",
    "  return tf.keras.Model(\n",
    "      inputs=[inputs, enc_outputs, look_ahead_mask, padding_mask],\n",
    "      outputs=outputs,\n",
    "      name=name)"
   ]
  },
  {
   "cell_type": "code",
   "execution_count": 10,
   "id": "b4c3f70b",
   "metadata": {},
   "outputs": [],
   "source": [
    "def decoder(vocab_size,\n",
    "            num_layers,\n",
    "            units,\n",
    "            d_model,\n",
    "            num_heads,\n",
    "            dropout,\n",
    "            name='decoder'):\n",
    "  inputs = tf.keras.Input(shape=(None,), name='inputs')\n",
    "  enc_outputs = tf.keras.Input(shape=(None, d_model), name='encoder_outputs')\n",
    "  look_ahead_mask = tf.keras.Input(\n",
    "      shape=(1, None, None), name='look_ahead_mask')\n",
    "\n",
    "  # 패딩 마스크\n",
    "  padding_mask = tf.keras.Input(shape=(1, 1, None), name='padding_mask')\n",
    "  \n",
    "  # 임베딩 레이어\n",
    "  embeddings = tf.keras.layers.Embedding(vocab_size, d_model)(inputs)\n",
    "  embeddings *= tf.math.sqrt(tf.cast(d_model, tf.float32))\n",
    "\n",
    "  # 포지셔널 인코딩\n",
    "  embeddings = PositionalEncoding(vocab_size, d_model)(embeddings)\n",
    "\n",
    "  # Dropout이라는 훈련을 돕는 테크닉을 수행\n",
    "  outputs = tf.keras.layers.Dropout(rate=dropout)(embeddings)\n",
    "\n",
    "  for i in range(num_layers):\n",
    "    outputs = decoder_layer(\n",
    "        units=units,\n",
    "        d_model=d_model,\n",
    "        num_heads=num_heads,\n",
    "        dropout=dropout,\n",
    "        name='decoder_layer_{}'.format(i),\n",
    "    )(inputs=[outputs, enc_outputs, look_ahead_mask, padding_mask])\n",
    "\n",
    "  return tf.keras.Model(\n",
    "      inputs=[inputs, enc_outputs, look_ahead_mask, padding_mask],\n",
    "      outputs=outputs,\n",
    "      name=name)"
   ]
  },
  {
   "cell_type": "code",
   "execution_count": 18,
   "id": "c01f197e",
   "metadata": {},
   "outputs": [
    {
     "name": "stdout",
     "output_type": "stream",
     "text": [
      "Downloading data from http://www.cs.cornell.edu/~cristian/data/cornell_movie_dialogs_corpus.zip\n",
      "9920512/9916637 [==============================] - 1s 0us/step\n",
      "9928704/9916637 [==============================] - 1s 0us/step\n"
     ]
    }
   ],
   "source": [
    "path_to_zip = tf.keras.utils.get_file(\n",
    "    'cornell_movie_dialogs.zip',\n",
    "    origin='http://www.cs.cornell.edu/~cristian/data/cornell_movie_dialogs_corpus.zip',\n",
    "    extract=True)\n",
    "\n",
    "path_to_dataset = os.path.join(\n",
    "    os.path.dirname(path_to_zip), \"cornell movie-dialogs corpus\")\n",
    "\n",
    "path_to_movie_lines = os.path.join(path_to_dataset, 'movie_lines.txt')\n",
    "path_to_movie_conversations = os.path.join(path_to_dataset,'movie_conversations.txt')"
   ]
  },
  {
   "cell_type": "code",
   "execution_count": 19,
   "id": "7c21e6f5",
   "metadata": {},
   "outputs": [
    {
     "name": "stdout",
     "output_type": "stream",
     "text": [
      "100000\n"
     ]
    }
   ],
   "source": [
    "# 사용할 샘플의 최대 개수\n",
    "MAX_SAMPLES = 100000\n",
    "print(MAX_SAMPLES)"
   ]
  },
  {
   "cell_type": "code",
   "execution_count": 20,
   "id": "208451dd",
   "metadata": {},
   "outputs": [],
   "source": [
    "# 전처리 함수\n",
    "def preprocess_sentence(sentence):\n",
    "  sentence = sentence.lower().strip()\n",
    "\n",
    "  # 단어와 구두점(punctuation) 사이의 거리를 만듭니다.\n",
    "  # 예를 들어서 \"I am a student.\" => \"I am a student .\"와 같이\n",
    "  # student와 온점 사이에 거리를 만듭니다.\n",
    "  sentence = re.sub(r\"([?.!,])\", r\" \\1 \", sentence)\n",
    "  sentence = re.sub(r'[\" \"]+', \" \", sentence)\n",
    "\n",
    "  # (a-z, A-Z, \".\", \"?\", \"!\", \",\")를 제외한 모든 문자를 공백인 ' '로 대체합니다.\n",
    "  sentence = re.sub(r\"[^a-zA-Z?.!,]+\", \" \", sentence)\n",
    "  sentence = sentence.strip()\n",
    "  return sentence"
   ]
  },
  {
   "cell_type": "code",
   "execution_count": 21,
   "id": "1b8013db",
   "metadata": {},
   "outputs": [],
   "source": [
    "# 질문과 답변의 쌍인 데이터셋을 구성하기 위한 데이터 로드 함수\n",
    "def load_conversations():\n",
    "  id2line = {}\n",
    "  with open(path_to_movie_lines, errors='ignore') as file:\n",
    "    lines = file.readlines()\n",
    "  for line in lines:\n",
    "    parts = line.replace('\\n', '').split(' +++$+++ ')\n",
    "    id2line[parts[0]] = parts[4]\n",
    "\n",
    "  inputs, outputs = [], []\n",
    "  with open(path_to_movie_conversations, 'r') as file:\n",
    "    lines = file.readlines()\n",
    "\n",
    "  for line in lines:\n",
    "    parts = line.replace('\\n', '').split(' +++$+++ ')\n",
    "    conversation = [line[1:-1] for line in parts[3][1:-1].split(', ')]\n",
    "\n",
    "    for i in range(len(conversation) - 1):\n",
    "      # 전처리 함수를 질문에 해당되는 inputs와 답변에 해당되는 outputs에 적용.\n",
    "      inputs.append(preprocess_sentence(id2line[conversation[i]]))\n",
    "      outputs.append(preprocess_sentence(id2line[conversation[i + 1]]))\n",
    "\n",
    "      if len(inputs) >= MAX_SAMPLES:\n",
    "        return inputs, outputs\n",
    "  return inputs, outputs"
   ]
  },
  {
   "cell_type": "code",
   "execution_count": 22,
   "id": "bf86324f",
   "metadata": {},
   "outputs": [
    {
     "name": "stdout",
     "output_type": "stream",
     "text": [
      "전체 샘플 수 : 100000\n",
      "전체 샘플 수 : 100000\n"
     ]
    }
   ],
   "source": [
    "# 데이터를 로드하고 전처리하여 질문을 questions, 답변을 answers에 저장합니다.\n",
    "questions, answers = load_conversations()\n",
    "print('전체 샘플 수 :', len(questions))\n",
    "print('전체 샘플 수 :', len(answers))"
   ]
  },
  {
   "cell_type": "code",
   "execution_count": 23,
   "id": "4012719f",
   "metadata": {},
   "outputs": [
    {
     "data": {
      "text/plain": [
       "list"
      ]
     },
     "execution_count": 23,
     "metadata": {},
     "output_type": "execute_result"
    }
   ],
   "source": [
    "type(questions)"
   ]
  },
  {
   "cell_type": "code",
   "execution_count": 20,
   "id": "cc7be3a2",
   "metadata": {},
   "outputs": [
    {
     "name": "stdout",
     "output_type": "stream",
     "text": [
      "전처리 후의 22번째 질문 샘플: she s not a . . .\n",
      "전처리 후의 22번째 답변 샘플: lesbian ? no . i found a picture of jared leto in one of her drawers , so i m pretty sure she s not harboring same sex tendencies .\n"
     ]
    }
   ],
   "source": [
    "print('전처리 후의 22번째 질문 샘플: {}'.format(questions[21]))\n",
    "print('전처리 후의 22번째 답변 샘플: {}'.format(answers[21]))"
   ]
  },
  {
   "cell_type": "code",
   "execution_count": 22,
   "id": "a8a6ac5b",
   "metadata": {},
   "outputs": [],
   "source": [
    "import tensorflow_datasets as tfds\n",
    "\n",
    "# 질문과 답변 데이터셋에 대해서 Vocabulary 생성. (Tensorflow 2.3.0 이상) (클라우드는 2.4 입니다)\n",
    "tokenizer = tfds.deprecated.text.SubwordTextEncoder.build_from_corpus(questions + answers, target_vocab_size=2**13)"
   ]
  },
  {
   "cell_type": "code",
   "execution_count": 23,
   "id": "50fde3aa",
   "metadata": {},
   "outputs": [],
   "source": [
    "# 시작 토큰과 종료 토큰에 고유한 정수를 부여합니다.\n",
    "START_TOKEN, END_TOKEN = [tokenizer.vocab_size], [tokenizer.vocab_size + 1]"
   ]
  },
  {
   "cell_type": "code",
   "execution_count": 24,
   "id": "d27b7559",
   "metadata": {},
   "outputs": [
    {
     "name": "stdout",
     "output_type": "stream",
     "text": [
      "START_TOKEN의 번호 : [8171]\n",
      "END_TOKEN의 번호 : [8172]\n"
     ]
    }
   ],
   "source": [
    "print('START_TOKEN의 번호 :' ,[tokenizer.vocab_size])\n",
    "print('END_TOKEN의 번호 :' ,[tokenizer.vocab_size + 1])"
   ]
  },
  {
   "cell_type": "code",
   "execution_count": 25,
   "id": "7efe3aa0",
   "metadata": {},
   "outputs": [
    {
     "name": "stdout",
     "output_type": "stream",
     "text": [
      "8173\n"
     ]
    }
   ],
   "source": [
    "# 시작 토큰과 종료 토큰을 고려하여 +2를 하여 단어장의 크기를 산정합니다.\n",
    "VOCAB_SIZE = tokenizer.vocab_size + 2\n",
    "print(VOCAB_SIZE)"
   ]
  },
  {
   "cell_type": "code",
   "execution_count": 26,
   "id": "7bc4016e",
   "metadata": {},
   "outputs": [
    {
     "name": "stdout",
     "output_type": "stream",
     "text": [
      "정수 인코딩 후의 21번째 질문 샘플: [57, 8, 36, 8012, 44]\n",
      "정수 인코딩 후의 21번째 답변 샘플: [1376, 6244, 20, 58, 3, 4, 351, 10, 1273, 15, 1144, 750, 1901, 271, 16, 69, 15, 98, 2086, 733, 2, 61, 4, 24, 337, 202, 57, 8, 36, 1076, 3022, 7947, 336, 1133, 5935, 4562, 309, 1]\n"
     ]
    }
   ],
   "source": [
    "# 임의의 22번째 샘플에 대해서 정수 인코딩 작업을 수행.\n",
    "# 각 토큰을 고유한 정수로 변환\n",
    "print('정수 인코딩 후의 21번째 질문 샘플: {}'.format(tokenizer.encode(questions[21])))\n",
    "print('정수 인코딩 후의 21번째 답변 샘플: {}'.format(tokenizer.encode(answers[21])))"
   ]
  },
  {
   "cell_type": "code",
   "execution_count": 57,
   "id": "626fb7e5",
   "metadata": {},
   "outputs": [
    {
     "name": "stdout",
     "output_type": "stream",
     "text": [
      "20\n"
     ]
    }
   ],
   "source": [
    "# 샘플의 최대 허용 길이 또는 패딩 후의 최종 길이\n",
    "MAX_LENGTH = 20\n",
    "print(MAX_LENGTH)"
   ]
  },
  {
   "cell_type": "code",
   "execution_count": 30,
   "id": "412c9e50",
   "metadata": {},
   "outputs": [],
   "source": [
    "# 정수 인코딩, 최대 길이를 초과하는 샘플 제거, 패딩\n",
    "def tokenize_and_filter(inputs, outputs):\n",
    "  tokenized_inputs, tokenized_outputs = [], []\n",
    "  \n",
    "  for (sentence1, sentence2) in zip(inputs, outputs):\n",
    "    # 정수 인코딩 과정에서 시작 토큰과 종료 토큰을 추가\n",
    "    sentence1 = START_TOKEN + tokenizer.encode(sentence1) + END_TOKEN\n",
    "    sentence2 = START_TOKEN + tokenizer.encode(sentence2) + END_TOKEN\n",
    "\n",
    "    # 최대 길이 40 이하인 경우에만 데이터셋으로 허용\n",
    "    if len(sentence1) <= MAX_LENGTH and len(sentence2) <= MAX_LENGTH:\n",
    "      tokenized_inputs.append(sentence1)\n",
    "      tokenized_outputs.append(sentence2)\n",
    "  \n",
    "  # 최대 길이 40으로 모든 데이터셋을 패딩\n",
    "  tokenized_inputs = tf.keras.preprocessing.sequence.pad_sequences(\n",
    "      tokenized_inputs, maxlen=MAX_LENGTH, padding='post')\n",
    "  tokenized_outputs = tf.keras.preprocessing.sequence.pad_sequences(\n",
    "      tokenized_outputs, maxlen=MAX_LENGTH, padding='post')\n",
    "  \n",
    "  return tokenized_inputs, tokenized_outputs"
   ]
  },
  {
   "cell_type": "code",
   "execution_count": 31,
   "id": "f7f475b3",
   "metadata": {},
   "outputs": [
    {
     "name": "stdout",
     "output_type": "stream",
     "text": [
      "단어장의 크기 : 8173\n",
      "필터링 후의 질문 샘플 개수: 87766\n",
      "필터링 후의 답변 샘플 개수: 87766\n"
     ]
    }
   ],
   "source": [
    "questions, answers = tokenize_and_filter(questions, answers)\n",
    "print('단어장의 크기 :',(VOCAB_SIZE))\n",
    "print('필터링 후의 질문 샘플 개수: {}'.format(len(questions)))\n",
    "print('필터링 후의 답변 샘플 개수: {}'.format(len(answers)))"
   ]
  },
  {
   "cell_type": "code",
   "execution_count": 33,
   "id": "67d29efa",
   "metadata": {},
   "outputs": [],
   "source": [
    "BATCH_SIZE = 64\n",
    "BUFFER_SIZE = 20000\n",
    "\n",
    "# 디코더는 이전의 target을 다음의 input으로 사용합니다.\n",
    "# 이에 따라 outputs에서는 START_TOKEN을 제거하겠습니다.\n",
    "dataset = tf.data.Dataset.from_tensor_slices((\n",
    "    {\n",
    "        'inputs': questions,\n",
    "        'dec_inputs': answers[:, :-1]\n",
    "    },\n",
    "    {\n",
    "        'outputs': answers[:, 1:]\n",
    "    },\n",
    "))\n",
    "\n",
    "dataset = dataset.cache()\n",
    "dataset = dataset.shuffle(BUFFER_SIZE)\n",
    "dataset = dataset.batch(BATCH_SIZE)\n",
    "dataset = dataset.prefetch(tf.data.experimental.AUTOTUNE)"
   ]
  },
  {
   "cell_type": "code",
   "execution_count": 34,
   "id": "66f6e3cf",
   "metadata": {},
   "outputs": [],
   "source": [
    "def transformer(vocab_size,\n",
    "                num_layers,\n",
    "                units,\n",
    "                d_model,\n",
    "                num_heads,\n",
    "                dropout,\n",
    "                name=\"transformer\"):\n",
    "  inputs = tf.keras.Input(shape=(None,), name=\"inputs\")\n",
    "  dec_inputs = tf.keras.Input(shape=(None,), name=\"dec_inputs\")\n",
    "\n",
    "  # 인코더에서 패딩을 위한 마스크\n",
    "  enc_padding_mask = tf.keras.layers.Lambda(\n",
    "      create_padding_mask, output_shape=(1, 1, None),\n",
    "      name='enc_padding_mask')(inputs)\n",
    "\n",
    "  # 디코더에서 미래의 토큰을 마스크 하기 위해서 사용합니다.\n",
    "  # 내부적으로 패딩 마스크도 포함되어져 있습니다.\n",
    "  look_ahead_mask = tf.keras.layers.Lambda(\n",
    "      create_look_ahead_mask,\n",
    "      output_shape=(1, None, None),\n",
    "      name='look_ahead_mask')(dec_inputs)\n",
    "\n",
    "  # 두 번째 어텐션 블록에서 인코더의 벡터들을 마스킹\n",
    "  # 디코더에서 패딩을 위한 마스크\n",
    "  dec_padding_mask = tf.keras.layers.Lambda(\n",
    "      create_padding_mask, output_shape=(1, 1, None),\n",
    "      name='dec_padding_mask')(inputs)\n",
    "\n",
    "  # 인코더\n",
    "  enc_outputs = encoder(\n",
    "      vocab_size=vocab_size,\n",
    "      num_layers=num_layers,\n",
    "      units=units,\n",
    "      d_model=d_model,\n",
    "      num_heads=num_heads,\n",
    "      dropout=dropout,\n",
    "  )(inputs=[inputs, enc_padding_mask])\n",
    "\n",
    "  # 디코더\n",
    "  dec_outputs = decoder(\n",
    "      vocab_size=vocab_size,\n",
    "      num_layers=num_layers,\n",
    "      units=units,\n",
    "      d_model=d_model,\n",
    "      num_heads=num_heads,\n",
    "      dropout=dropout,\n",
    "  )(inputs=[dec_inputs, enc_outputs, look_ahead_mask, dec_padding_mask])\n",
    "\n",
    "  # 완전연결층\n",
    "  outputs = tf.keras.layers.Dense(units=vocab_size, name=\"outputs\")(dec_outputs)\n",
    "\n",
    "  return tf.keras.Model(inputs=[inputs, dec_inputs], outputs=outputs, name=name)"
   ]
  },
  {
   "cell_type": "code",
   "execution_count": 35,
   "id": "ae9c0403",
   "metadata": {},
   "outputs": [
    {
     "name": "stdout",
     "output_type": "stream",
     "text": [
      "Model: \"transformer\"\n",
      "__________________________________________________________________________________________________\n",
      "Layer (type)                    Output Shape         Param #     Connected to                     \n",
      "==================================================================================================\n",
      "inputs (InputLayer)             [(None, None)]       0                                            \n",
      "__________________________________________________________________________________________________\n",
      "dec_inputs (InputLayer)         [(None, None)]       0                                            \n",
      "__________________________________________________________________________________________________\n",
      "enc_padding_mask (Lambda)       (None, 1, 1, None)   0           inputs[0][0]                     \n",
      "__________________________________________________________________________________________________\n",
      "encoder (Functional)            (None, None, 256)    3146496     inputs[0][0]                     \n",
      "                                                                 enc_padding_mask[0][0]           \n",
      "__________________________________________________________________________________________________\n",
      "look_ahead_mask (Lambda)        (None, 1, None, None 0           dec_inputs[0][0]                 \n",
      "__________________________________________________________________________________________________\n",
      "dec_padding_mask (Lambda)       (None, 1, 1, None)   0           inputs[0][0]                     \n",
      "__________________________________________________________________________________________________\n",
      "decoder (Functional)            (None, None, 256)    3673856     dec_inputs[0][0]                 \n",
      "                                                                 encoder[0][0]                    \n",
      "                                                                 look_ahead_mask[0][0]            \n",
      "                                                                 dec_padding_mask[0][0]           \n",
      "__________________________________________________________________________________________________\n",
      "outputs (Dense)                 (None, None, 8173)   2100461     decoder[0][0]                    \n",
      "==================================================================================================\n",
      "Total params: 8,920,813\n",
      "Trainable params: 8,920,813\n",
      "Non-trainable params: 0\n",
      "__________________________________________________________________________________________________\n"
     ]
    }
   ],
   "source": [
    "tf.keras.backend.clear_session()\n",
    "\n",
    "# 하이퍼파라미터\n",
    "NUM_LAYERS = 2 # 인코더와 디코더의 층의 개수\n",
    "D_MODEL = 256 # 인코더와 디코더 내부의 입, 출력의 고정 차원\n",
    "NUM_HEADS = 8 # 멀티 헤드 어텐션에서의 헤드 수 \n",
    "UNITS = 512 # 피드 포워드 신경망의 은닉층의 크기\n",
    "DROPOUT = 0.1 # 드롭아웃의 비율\n",
    "\n",
    "model = transformer(\n",
    "    vocab_size=VOCAB_SIZE,\n",
    "    num_layers=NUM_LAYERS,\n",
    "    units=UNITS,\n",
    "    d_model=D_MODEL,\n",
    "    num_heads=NUM_HEADS,\n",
    "    dropout=DROPOUT)\n",
    "\n",
    "model.summary()"
   ]
  },
  {
   "cell_type": "code",
   "execution_count": 36,
   "id": "e35f79e8",
   "metadata": {},
   "outputs": [],
   "source": [
    "def loss_function(y_true, y_pred):\n",
    "  y_true = tf.reshape(y_true, shape=(-1, MAX_LENGTH - 1))\n",
    "  \n",
    "  loss = tf.keras.losses.SparseCategoricalCrossentropy(\n",
    "      from_logits=True, reduction='none')(y_true, y_pred)\n",
    "\n",
    "  mask = tf.cast(tf.not_equal(y_true, 0), tf.float32)\n",
    "  loss = tf.multiply(loss, mask)\n",
    "\n",
    "  return tf.reduce_mean(loss)"
   ]
  },
  {
   "cell_type": "code",
   "execution_count": 37,
   "id": "68ce9a93",
   "metadata": {},
   "outputs": [],
   "source": [
    "class CustomSchedule(tf.keras.optimizers.schedules.LearningRateSchedule):\n",
    "\n",
    "  def __init__(self, d_model, warmup_steps=4000):\n",
    "    super(CustomSchedule, self).__init__()\n",
    "\n",
    "    self.d_model = d_model\n",
    "    self.d_model = tf.cast(self.d_model, tf.float32)\n",
    "\n",
    "    self.warmup_steps = warmup_steps\n",
    "\n",
    "  def __call__(self, step):\n",
    "    arg1 = tf.math.rsqrt(step)\n",
    "    arg2 = step * (self.warmup_steps**-1.5)\n",
    "\n",
    "    return tf.math.rsqrt(self.d_model) * tf.math.minimum(arg1, arg2)"
   ]
  },
  {
   "cell_type": "code",
   "execution_count": 38,
   "id": "14972cab",
   "metadata": {},
   "outputs": [
    {
     "data": {
      "text/plain": [
       "Text(0.5, 0, 'Train Step')"
      ]
     },
     "execution_count": 38,
     "metadata": {},
     "output_type": "execute_result"
    },
    {
     "data": {
      "image/png": "[encoded data removed]",
      "text/plain": [
       "<Figure size 432x288 with 1 Axes>"
      ]
     },
     "metadata": {
      "needs_background": "light"
     },
     "output_type": "display_data"
    }
   ],
   "source": [
    "sample_learning_rate = CustomSchedule(d_model=128)\n",
    "\n",
    "plt.plot(sample_learning_rate(tf.range(200000, dtype=tf.float32)))\n",
    "plt.ylabel(\"Learning Rate\")\n",
    "plt.xlabel(\"Train Step\")"
   ]
  },
  {
   "cell_type": "code",
   "execution_count": 39,
   "id": "12a71c1a",
   "metadata": {},
   "outputs": [],
   "source": [
    "learning_rate = CustomSchedule(D_MODEL)\n",
    "\n",
    "optimizer = tf.keras.optimizers.Adam(\n",
    "    learning_rate, beta_1=0.9, beta_2=0.98, epsilon=1e-9)\n",
    "\n",
    "def accuracy(y_true, y_pred):\n",
    "  y_true = tf.reshape(y_true, shape=(-1, MAX_LENGTH - 1))\n",
    "  return tf.keras.metrics.sparse_categorical_accuracy(y_true, y_pred)\n",
    "\n",
    "model.compile(optimizer=optimizer, loss=loss_function, metrics=[accuracy])"
   ]
  },
  {
   "cell_type": "code",
   "execution_count": 40,
   "id": "63041df4",
   "metadata": {},
   "outputs": [
    {
     "name": "stdout",
     "output_type": "stream",
     "text": [
      "Epoch 1/20\n",
      "1372/1372 [==============================] - 88s 54ms/step - loss: 1.8331 - accuracy: 0.0606\n",
      "Epoch 2/20\n",
      "1372/1372 [==============================] - 74s 54ms/step - loss: 1.4110 - accuracy: 0.0869\n",
      "Epoch 3/20\n",
      "1372/1372 [==============================] - 74s 54ms/step - loss: 1.3417 - accuracy: 0.0920\n",
      "Epoch 4/20\n",
      "1372/1372 [==============================] - 74s 54ms/step - loss: 1.2843 - accuracy: 0.0962\n",
      "Epoch 5/20\n",
      "1372/1372 [==============================] - 74s 54ms/step - loss: 1.2306 - accuracy: 0.1001\n",
      "Epoch 6/20\n",
      "1372/1372 [==============================] - 74s 54ms/step - loss: 1.1882 - accuracy: 0.1034\n",
      "Epoch 7/20\n",
      "1372/1372 [==============================] - 74s 54ms/step - loss: 1.1531 - accuracy: 0.1065\n",
      "Epoch 8/20\n",
      "1372/1372 [==============================] - 74s 54ms/step - loss: 1.1234 - accuracy: 0.1092\n",
      "Epoch 9/20\n",
      "1372/1372 [==============================] - 74s 54ms/step - loss: 1.0967 - accuracy: 0.1118\n",
      "Epoch 10/20\n",
      "1372/1372 [==============================] - 74s 54ms/step - loss: 1.0738 - accuracy: 0.1143\n",
      "Epoch 11/20\n",
      "1372/1372 [==============================] - 74s 54ms/step - loss: 1.0529 - accuracy: 0.1164\n",
      "Epoch 12/20\n",
      "1372/1372 [==============================] - 74s 54ms/step - loss: 1.0346 - accuracy: 0.1184\n",
      "Epoch 13/20\n",
      "1372/1372 [==============================] - 74s 54ms/step - loss: 1.0176 - accuracy: 0.1205\n",
      "Epoch 14/20\n",
      "1372/1372 [==============================] - 74s 54ms/step - loss: 1.0026 - accuracy: 0.1223\n",
      "Epoch 15/20\n",
      "1372/1372 [==============================] - 74s 54ms/step - loss: 0.9881 - accuracy: 0.1241\n",
      "Epoch 16/20\n",
      "1372/1372 [==============================] - 74s 54ms/step - loss: 0.9752 - accuracy: 0.1258\n",
      "Epoch 17/20\n",
      "1372/1372 [==============================] - 74s 54ms/step - loss: 0.9637 - accuracy: 0.1272\n",
      "Epoch 18/20\n",
      "1372/1372 [==============================] - 74s 54ms/step - loss: 0.9527 - accuracy: 0.1286\n",
      "Epoch 19/20\n",
      "1372/1372 [==============================] - 74s 54ms/step - loss: 0.9425 - accuracy: 0.1300\n",
      "Epoch 20/20\n",
      "1372/1372 [==============================] - 74s 54ms/step - loss: 0.9333 - accuracy: 0.1312\n"
     ]
    },
    {
     "data": {
      "text/plain": [
       "<keras.callbacks.History at 0x7f8dff91fb80>"
      ]
     },
     "execution_count": 40,
     "metadata": {},
     "output_type": "execute_result"
    }
   ],
   "source": [
    "EPOCHS = 20\n",
    "model.fit(dataset, epochs=EPOCHS, verbose=1)"
   ]
  },
  {
   "cell_type": "code",
   "execution_count": 41,
   "id": "d9e08a51",
   "metadata": {},
   "outputs": [],
   "source": [
    "def decoder_inference(sentence):\n",
    "  sentence = preprocess_sentence(sentence)\n",
    "\n",
    "  # 입력된 문장을 정수 인코딩 후, 시작 토큰과 종료 토큰을 앞뒤로 추가.\n",
    "  # ex) Where have you been? → [[8331   86   30    5 1059    7 8332]]\n",
    "  sentence = tf.expand_dims(\n",
    "      START_TOKEN + tokenizer.encode(sentence) + END_TOKEN, axis=0)\n",
    "\n",
    "  # 디코더의 현재까지의 예측한 출력 시퀀스가 지속적으로 저장되는 변수.\n",
    "  # 처음에는 예측한 내용이 없음으로 시작 토큰만 별도 저장. ex) 8331\n",
    "  output_sequence = tf.expand_dims(START_TOKEN, 0)\n",
    "\n",
    "  # 디코더의 인퍼런스 단계\n",
    "  for i in range(MAX_LENGTH):\n",
    "    # 디코더는 최대 MAX_LENGTH의 길이만큼 다음 단어 예측을 반복합니다.\n",
    "    predictions = model(inputs=[sentence, output_sequence], training=False)\n",
    "    predictions = predictions[:, -1:, :]\n",
    "\n",
    "    # 현재 예측한 단어의 정수\n",
    "    predicted_id = tf.cast(tf.argmax(predictions, axis=-1), tf.int32)\n",
    "\n",
    "    # 만약 현재 예측한 단어가 종료 토큰이라면 for문을 종료\n",
    "    if tf.equal(predicted_id, END_TOKEN[0]):\n",
    "      break\n",
    "\n",
    "    # 예측한 단어들은 지속적으로 output_sequence에 추가됩니다.\n",
    "    # 이 output_sequence는 다시 디코더의 입력이 됩니다.\n",
    "    output_sequence = tf.concat([output_sequence, predicted_id], axis=-1)\n",
    "\n",
    "  return tf.squeeze(output_sequence, axis=0)"
   ]
  },
  {
   "cell_type": "code",
   "execution_count": 42,
   "id": "1445d1d5",
   "metadata": {},
   "outputs": [],
   "source": [
    "def sentence_generation(sentence):\n",
    "  # 입력 문장에 대해서 디코더를 동작 시켜 예측된 정수 시퀀스를 리턴받습니다.\n",
    "  prediction = decoder_inference(sentence)\n",
    "\n",
    "  # 정수 시퀀스를 다시 텍스트 시퀀스로 변환합니다.\n",
    "  predicted_sentence = tokenizer.decode(\n",
    "      [i for i in prediction if i < tokenizer.vocab_size])\n",
    "\n",
    "  print('입력 : {}'.format(sentence))\n",
    "  print('출력 : {}'.format(predicted_sentence))\n",
    "\n",
    "  return predicted_sentence"
   ]
  },
  {
   "cell_type": "code",
   "execution_count": 43,
   "id": "7d7c7b00",
   "metadata": {},
   "outputs": [
    {
     "name": "stdout",
     "output_type": "stream",
     "text": [
      "입력 : Where have you been?\n",
      "출력 : i don t know . i don t know . i just don t know .\n"
     ]
    },
    {
     "data": {
      "text/plain": [
       "'i don t know . i don t know . i just don t know .'"
      ]
     },
     "execution_count": 43,
     "metadata": {},
     "output_type": "execute_result"
    }
   ],
   "source": [
    "sentence_generation('Where have you been?')"
   ]
  },
  {
   "cell_type": "code",
   "execution_count": 44,
   "id": "7e85a307",
   "metadata": {},
   "outputs": [
    {
     "name": "stdout",
     "output_type": "stream",
     "text": [
      "입력 : It's a trap\n",
      "출력 : i m not sure that s the way you re doing this to the movies .\n"
     ]
    },
    {
     "data": {
      "text/plain": [
       "'i m not sure that s the way you re doing this to the movies .'"
      ]
     },
     "execution_count": 44,
     "metadata": {},
     "output_type": "execute_result"
    }
   ],
   "source": [
    "sentence_generation(\"It's a trap\")"
   ]
  },
  {
   "cell_type": "markdown",
   "id": "e70c51ac",
   "metadata": {},
   "source": [
    "## 여기서 부터 실습!\n",
    "### Step 1. 데이터 수집하기"
   ]
  },
  {
   "cell_type": "code",
   "execution_count": 2,
   "id": "8ce53aa7",
   "metadata": {},
   "outputs": [],
   "source": [
    "! mkdir -p ~/aiffel/transformer_chatbot/data/"
   ]
  },
  {
   "cell_type": "code",
   "execution_count": 3,
   "id": "a8a48a0b",
   "metadata": {},
   "outputs": [
    {
     "name": "stdout",
     "output_type": "stream",
     "text": [
      "ln: failed to create symbolic link '/aiffel/aiffel/transformer_chatbot/data/ChatbotData .csv': File exists\r\n"
     ]
    }
   ],
   "source": [
    "! ln -s ~/data/* ~/aiffel/transformer_chatbot/data/"
   ]
  },
  {
   "cell_type": "markdown",
   "id": "e5f3acd1",
   "metadata": {},
   "source": [
    "### Step 2. 데이터 전처리하기\n",
    "\n",
    "#### 2-1) 데이터 가져오기"
   ]
  },
  {
   "cell_type": "code",
   "execution_count": 4,
   "id": "5e3e372f",
   "metadata": {},
   "outputs": [],
   "source": [
    "import tensorflow as tf\n",
    "import tensorflow_datasets as tfds\n",
    "import os\n",
    "import re\n",
    "import numpy as np\n",
    "import matplotlib.pyplot as plt"
   ]
  },
  {
   "cell_type": "code",
   "execution_count": 11,
   "id": "11b42965",
   "metadata": {},
   "outputs": [],
   "source": [
    "path_to_zip=os.getenv('HOME')+'/aiffel/transformer_chatbot/data/ChatbotData .csv' # 기본데이터에 공백 뭐냐구"
   ]
  },
  {
   "cell_type": "code",
   "execution_count": 12,
   "id": "0381a8ac",
   "metadata": {},
   "outputs": [],
   "source": [
    "import pandas as pd"
   ]
  },
  {
   "cell_type": "code",
   "execution_count": 13,
   "id": "e95c97b9",
   "metadata": {},
   "outputs": [],
   "source": [
    "df = pd.read_csv(path_to_zip)"
   ]
  },
  {
   "cell_type": "code",
   "execution_count": 14,
   "id": "b886d10b",
   "metadata": {},
   "outputs": [
    {
     "data": {
      "text/html": [
       "<div>\n",
       "<style scoped>\n",
       "    .dataframe tbody tr th:only-of-type {\n",
       "        vertical-align: middle;\n",
       "    }\n",
       "\n",
       "    .dataframe tbody tr th {\n",
       "        vertical-align: top;\n",
       "    }\n",
       "\n",
       "    .dataframe thead th {\n",
       "        text-align: right;\n",
       "    }\n",
       "</style>\n",
       "<table border=\"1\" class=\"dataframe\">\n",
       "  <thead>\n",
       "    <tr style=\"text-align: right;\">\n",
       "      <th></th>\n",
       "      <th>Q</th>\n",
       "      <th>A</th>\n",
       "      <th>label</th>\n",
       "    </tr>\n",
       "  </thead>\n",
       "  <tbody>\n",
       "    <tr>\n",
       "      <th>0</th>\n",
       "      <td>12시 땡!</td>\n",
       "      <td>하루가 또 가네요.</td>\n",
       "      <td>0</td>\n",
       "    </tr>\n",
       "    <tr>\n",
       "      <th>1</th>\n",
       "      <td>1지망 학교 떨어졌어</td>\n",
       "      <td>위로해 드립니다.</td>\n",
       "      <td>0</td>\n",
       "    </tr>\n",
       "    <tr>\n",
       "      <th>2</th>\n",
       "      <td>3박4일 놀러가고 싶다</td>\n",
       "      <td>여행은 언제나 좋죠.</td>\n",
       "      <td>0</td>\n",
       "    </tr>\n",
       "    <tr>\n",
       "      <th>3</th>\n",
       "      <td>3박4일 정도 놀러가고 싶다</td>\n",
       "      <td>여행은 언제나 좋죠.</td>\n",
       "      <td>0</td>\n",
       "    </tr>\n",
       "    <tr>\n",
       "      <th>4</th>\n",
       "      <td>PPL 심하네</td>\n",
       "      <td>눈살이 찌푸려지죠.</td>\n",
       "      <td>0</td>\n",
       "    </tr>\n",
       "  </tbody>\n",
       "</table>\n",
       "</div>"
      ],
      "text/plain": [
       "                 Q            A  label\n",
       "0           12시 땡!   하루가 또 가네요.      0\n",
       "1      1지망 학교 떨어졌어    위로해 드립니다.      0\n",
       "2     3박4일 놀러가고 싶다  여행은 언제나 좋죠.      0\n",
       "3  3박4일 정도 놀러가고 싶다  여행은 언제나 좋죠.      0\n",
       "4          PPL 심하네   눈살이 찌푸려지죠.      0"
      ]
     },
     "execution_count": 14,
     "metadata": {},
     "output_type": "execute_result"
    }
   ],
   "source": [
    "df.head()"
   ]
  },
  {
   "cell_type": "code",
   "execution_count": 15,
   "id": "e89e6a32",
   "metadata": {},
   "outputs": [],
   "source": [
    "datasetQ = df['Q'] #파일로 되있는거 아니니까 분리하는 함수 안써도 될듯\n",
    "datasetA = df['A']"
   ]
  },
  {
   "cell_type": "code",
   "execution_count": 16,
   "id": "1fbd0db5",
   "metadata": {},
   "outputs": [
    {
     "name": "stdout",
     "output_type": "stream",
     "text": [
      "거지됐어\n",
      "밥 사줄 친구를 찾아 보세요~\n"
     ]
    }
   ],
   "source": [
    "print(datasetQ[100])\n",
    "print(datasetA[100])"
   ]
  },
  {
   "cell_type": "code",
   "execution_count": 17,
   "id": "391adbd0",
   "metadata": {},
   "outputs": [
    {
     "data": {
      "text/plain": [
       "11823"
      ]
     },
     "execution_count": 17,
     "metadata": {},
     "output_type": "execute_result"
    }
   ],
   "source": [
    "len(df)           # 표본이 적어서 딱히 추출은 안해도 괜찮을꺼 같다."
   ]
  },
  {
   "cell_type": "code",
   "execution_count": 18,
   "id": "e0061919",
   "metadata": {},
   "outputs": [
    {
     "data": {
      "text/plain": [
       "Q        0\n",
       "A        0\n",
       "label    0\n",
       "dtype: int64"
      ]
     },
     "execution_count": 18,
     "metadata": {},
     "output_type": "execute_result"
    }
   ],
   "source": [
    "df.isnull().sum() # 결측치도 없음"
   ]
  },
  {
   "cell_type": "markdown",
   "id": "3a1756fa",
   "metadata": {},
   "source": [
    "#### 2-2) 전처리 함수 만들기"
   ]
  },
  {
   "cell_type": "code",
   "execution_count": 19,
   "id": "3828e852",
   "metadata": {},
   "outputs": [],
   "source": [
    "def preprocess_sentence(sentence):\n",
    "  sentence = re.sub(r\"([?.!,])\", r\" \\1 \", sentence)\n",
    "  #단어, 온점사이 거리 한칸띄우기\n",
    "  sentence = re.sub(r\"[^ㄱ-ㅎㅏ-ㅣ가-힣?.!,]+\", \" \", sentence)\n",
    "  #모든 한글, 자음, 모음 ?.!, 제외 전부 공백으로 만들기\n",
    "  sentence = re.sub(r'[\" \"]+', \" \", sentence)\n",
    "  #2칸 이상 공백 한칸으로 만들기\n",
    "  sentence = sentence.strip()\n",
    "  #좌우 공백 없애기\n",
    "  return sentence"
   ]
  },
  {
   "cell_type": "markdown",
   "id": "cfa19630",
   "metadata": {},
   "source": [
    "각종 자음과 모음을 없애는게 맞나 안없애는게 맞나 고민이 되지만, '챗'에서는 각종 자음 모음(ㅋㅋㅋ 등)이 의미를 가지는 점을 생각해\n",
    "안 없애도록 했다.  \n",
    "\n",
    "ㅋ의 개수등 의성어 등에서 같은 글자 반복의 의미도... 나름 뉘앙스를 살리기 위해 그대로 두려고 한다.\n",
    "\n",
    "이모티콘 등도 고민해봤는데... 음 어차피 데이터에 그런 자음 모음이나 이모티콘이 하나도 없어서 상관없을 듯"
   ]
  },
  {
   "cell_type": "code",
   "execution_count": 20,
   "id": "8b60bcba",
   "metadata": {},
   "outputs": [],
   "source": [
    "questions = [preprocess_sentence(i) for i in datasetQ]"
   ]
  },
  {
   "cell_type": "code",
   "execution_count": 21,
   "id": "6917d38f",
   "metadata": {},
   "outputs": [
    {
     "name": "stdout",
     "output_type": "stream",
     "text": [
      "지망 학교 떨어졌어\n"
     ]
    }
   ],
   "source": [
    "print(questions[1])"
   ]
  },
  {
   "cell_type": "code",
   "execution_count": 22,
   "id": "71972315",
   "metadata": {},
   "outputs": [],
   "source": [
    "answers = [preprocess_sentence(i) for i in datasetA]"
   ]
  },
  {
   "cell_type": "code",
   "execution_count": 35,
   "id": "665d34ba",
   "metadata": {},
   "outputs": [
    {
     "name": "stdout",
     "output_type": "stream",
     "text": [
      "전체 샘플 수 : 11823\n",
      "전체 샘플 수 : 11823\n"
     ]
    }
   ],
   "source": [
    "print('전체 샘플 수 :', len(questions))\n",
    "print('전체 샘플 수 :', len(answers))"
   ]
  },
  {
   "cell_type": "code",
   "execution_count": 37,
   "id": "abedf1dc",
   "metadata": {},
   "outputs": [
    {
     "name": "stdout",
     "output_type": "stream",
     "text": [
      "전처리 후의 22번째 질문 샘플: 가스비 장난 아님\n",
      "전처리 후의 22번째 답변 샘플: 다음 달에는 더 절약해봐요 .\n"
     ]
    }
   ],
   "source": [
    "print('전처리 후의 22번째 질문 샘플: {}'.format(questions[21]))\n",
    "print('전처리 후의 22번째 답변 샘플: {}'.format(answers[21]))"
   ]
  },
  {
   "cell_type": "markdown",
   "id": "8354bcdf",
   "metadata": {},
   "source": [
    "### Step 3. SubwordTextEncoder 사용하기\n",
    "#### 3-1) 단어장 만들기"
   ]
  },
  {
   "cell_type": "code",
   "execution_count": 39,
   "id": "ac865af1",
   "metadata": {},
   "outputs": [],
   "source": [
    "tokenizer = tfds.deprecated.text.SubwordTextEncoder.build_from_corpus(questions + answers, target_vocab_size=2**13)\n",
    "# 단어장 크기가 얼추 8000개인데 일단 진행해보자"
   ]
  },
  {
   "cell_type": "code",
   "execution_count": 40,
   "id": "023c8b28",
   "metadata": {},
   "outputs": [],
   "source": [
    "START_TOKEN, END_TOKEN = [tokenizer.vocab_size], [tokenizer.vocab_size + 1]"
   ]
  },
  {
   "cell_type": "code",
   "execution_count": 41,
   "id": "64c4915a",
   "metadata": {},
   "outputs": [
    {
     "name": "stdout",
     "output_type": "stream",
     "text": [
      "START_TOKEN의 번호 : [8135]\n",
      "END_TOKEN의 번호 : [8136]\n"
     ]
    }
   ],
   "source": [
    "print('START_TOKEN의 번호 :' ,[tokenizer.vocab_size])\n",
    "print('END_TOKEN의 번호 :' ,[tokenizer.vocab_size + 1])"
   ]
  },
  {
   "cell_type": "code",
   "execution_count": 42,
   "id": "ae631231",
   "metadata": {},
   "outputs": [
    {
     "name": "stdout",
     "output_type": "stream",
     "text": [
      "8137\n"
     ]
    }
   ],
   "source": [
    "VOCAB_SIZE = tokenizer.vocab_size + 2\n",
    "print(VOCAB_SIZE)"
   ]
  },
  {
   "cell_type": "markdown",
   "id": "45c48afd",
   "metadata": {},
   "source": [
    "#### 3-2) 각 단어를 고유한 정수로 인코딩(Integer encoding) & 패딩(Padding)"
   ]
  },
  {
   "cell_type": "code",
   "execution_count": 43,
   "id": "abe11c87",
   "metadata": {},
   "outputs": [
    {
     "name": "stdout",
     "output_type": "stream",
     "text": [
      "정수 인코딩 후의 21번째 질문 샘플: [5747, 612, 2485, 4153]\n",
      "정수 인코딩 후의 21번째 답변 샘플: [2353, 7489, 7, 6252, 97, 1]\n"
     ]
    }
   ],
   "source": [
    "print('정수 인코딩 후의 21번째 질문 샘플: {}'.format(tokenizer.encode(questions[21])))\n",
    "print('정수 인코딩 후의 21번째 답변 샘플: {}'.format(tokenizer.encode(answers[21])))"
   ]
  },
  {
   "cell_type": "code",
   "execution_count": 49,
   "id": "d30b73c0",
   "metadata": {},
   "outputs": [
    {
     "data": {
      "text/html": [
       "<div>\n",
       "<style scoped>\n",
       "    .dataframe tbody tr th:only-of-type {\n",
       "        vertical-align: middle;\n",
       "    }\n",
       "\n",
       "    .dataframe tbody tr th {\n",
       "        vertical-align: top;\n",
       "    }\n",
       "\n",
       "    .dataframe thead th {\n",
       "        text-align: right;\n",
       "    }\n",
       "</style>\n",
       "<table border=\"1\" class=\"dataframe\">\n",
       "  <thead>\n",
       "    <tr style=\"text-align: right;\">\n",
       "      <th></th>\n",
       "      <th>label</th>\n",
       "    </tr>\n",
       "  </thead>\n",
       "  <tbody>\n",
       "    <tr>\n",
       "      <th>count</th>\n",
       "      <td>11823.000000</td>\n",
       "    </tr>\n",
       "    <tr>\n",
       "      <th>mean</th>\n",
       "      <td>0.803180</td>\n",
       "    </tr>\n",
       "    <tr>\n",
       "      <th>std</th>\n",
       "      <td>0.812012</td>\n",
       "    </tr>\n",
       "    <tr>\n",
       "      <th>min</th>\n",
       "      <td>0.000000</td>\n",
       "    </tr>\n",
       "    <tr>\n",
       "      <th>25%</th>\n",
       "      <td>0.000000</td>\n",
       "    </tr>\n",
       "    <tr>\n",
       "      <th>50%</th>\n",
       "      <td>1.000000</td>\n",
       "    </tr>\n",
       "    <tr>\n",
       "      <th>75%</th>\n",
       "      <td>2.000000</td>\n",
       "    </tr>\n",
       "    <tr>\n",
       "      <th>max</th>\n",
       "      <td>2.000000</td>\n",
       "    </tr>\n",
       "  </tbody>\n",
       "</table>\n",
       "</div>"
      ],
      "text/plain": [
       "              label\n",
       "count  11823.000000\n",
       "mean       0.803180\n",
       "std        0.812012\n",
       "min        0.000000\n",
       "25%        0.000000\n",
       "50%        1.000000\n",
       "75%        2.000000\n",
       "max        2.000000"
      ]
     },
     "execution_count": 49,
     "metadata": {},
     "output_type": "execute_result"
    }
   ],
   "source": [
    "df.describe() # 정수가 아니라 안된다."
   ]
  },
  {
   "cell_type": "code",
   "execution_count": 53,
   "id": "e7cbc17d",
   "metadata": {},
   "outputs": [
    {
     "name": "stdout",
     "output_type": "stream",
     "text": [
      "13.180749386788463 16.02630466040768\n"
     ]
    }
   ],
   "source": [
    "length_Q = [len(i) for i in questions]\n",
    "length_A = [len(i) for i in answers]\n",
    "print(np.mean(length_Q), np.mean(length_A))"
   ]
  },
  {
   "cell_type": "code",
   "execution_count": 56,
   "id": "2e453f72",
   "metadata": {},
   "outputs": [
    {
     "name": "stdout",
     "output_type": "stream",
     "text": [
      "57 78\n"
     ]
    }
   ],
   "source": [
    "print(np.max(length_Q), np.max(length_A))"
   ]
  },
  {
   "cell_type": "code",
   "execution_count": 58,
   "id": "4547bd47",
   "metadata": {},
   "outputs": [
    {
     "name": "stdout",
     "output_type": "stream",
     "text": [
      "6.40096902923874 6.777032944184938\n"
     ]
    }
   ],
   "source": [
    "print(np.std(length_Q), np.std(length_A))"
   ]
  },
  {
   "cell_type": "code",
   "execution_count": 59,
   "id": "3618950e",
   "metadata": {},
   "outputs": [
    {
     "name": "stdout",
     "output_type": "stream",
     "text": [
      "30\n"
     ]
    }
   ],
   "source": [
    "MAX_LENGTH = 30     #2표준편차 정도만 하자\n",
    "print(MAX_LENGTH)"
   ]
  },
  {
   "cell_type": "code",
   "execution_count": 60,
   "id": "37f95328",
   "metadata": {},
   "outputs": [],
   "source": [
    "def tokenize_and_filter(inputs, outputs):\n",
    "  tokenized_inputs, tokenized_outputs = [], []\n",
    "  \n",
    "  for (sentence1, sentence2) in zip(inputs, outputs):\n",
    "    # 정수 인코딩 과정에서 시작 토큰과 종료 토큰을 추가\n",
    "    sentence1 = START_TOKEN + tokenizer.encode(sentence1) + END_TOKEN\n",
    "    sentence2 = START_TOKEN + tokenizer.encode(sentence2) + END_TOKEN\n",
    "\n",
    "    # 최대 길이 30 이하인 경우에만 데이터셋으로 허용\n",
    "    if len(sentence1) <= MAX_LENGTH and len(sentence2) <= MAX_LENGTH:\n",
    "      tokenized_inputs.append(sentence1)\n",
    "      tokenized_outputs.append(sentence2)\n",
    "  \n",
    "  # 최대 길이 30으로 모든 데이터셋을 패딩\n",
    "  tokenized_inputs = tf.keras.preprocessing.sequence.pad_sequences(\n",
    "      tokenized_inputs, maxlen=MAX_LENGTH)\n",
    "  tokenized_outputs = tf.keras.preprocessing.sequence.pad_sequences(\n",
    "      tokenized_outputs, maxlen=MAX_LENGTH)\n",
    "  \n",
    "  return tokenized_inputs, tokenized_outputs"
   ]
  },
  {
   "cell_type": "code",
   "execution_count": 61,
   "id": "c45cd73d",
   "metadata": {},
   "outputs": [
    {
     "name": "stdout",
     "output_type": "stream",
     "text": [
      "단어장의 크기 : 8137\n",
      "필터링 후의 질문 샘플 개수: 11822\n",
      "필터링 후의 답변 샘플 개수: 11822\n"
     ]
    }
   ],
   "source": [
    "questions, answers = tokenize_and_filter(questions, answers)\n",
    "print('단어장의 크기 :',(VOCAB_SIZE))\n",
    "print('필터링 후의 질문 샘플 개수: {}'.format(len(questions)))\n",
    "print('필터링 후의 답변 샘플 개수: {}'.format(len(answers)))"
   ]
  },
  {
   "cell_type": "markdown",
   "id": "f0a1a3fc",
   "metadata": {},
   "source": [
    "#### 3-3) 교사 강요(Teacher Forcing) 사용하기"
   ]
  },
  {
   "cell_type": "code",
   "execution_count": 205,
   "id": "611c285b",
   "metadata": {},
   "outputs": [
    {
     "ename": "TypeError",
     "evalue": "list indices must be integers or slices, not tuple",
     "output_type": "error",
     "traceback": [
      "\u001b[0;31m---------------------------------------------------------------------------\u001b[0m",
      "\u001b[0;31mTypeError\u001b[0m                                 Traceback (most recent call last)",
      "\u001b[0;32m/tmp/ipykernel_13/1089953795.py\u001b[0m in \u001b[0;36m<module>\u001b[0;34m\u001b[0m\n\u001b[1;32m      7\u001b[0m     {\n\u001b[1;32m      8\u001b[0m         \u001b[0;34m'inputs'\u001b[0m\u001b[0;34m:\u001b[0m \u001b[0mquestions\u001b[0m\u001b[0;34m,\u001b[0m\u001b[0;34m\u001b[0m\u001b[0;34m\u001b[0m\u001b[0m\n\u001b[0;32m----> 9\u001b[0;31m         \u001b[0;34m'dec_inputs'\u001b[0m\u001b[0;34m:\u001b[0m \u001b[0manswers\u001b[0m\u001b[0;34m[\u001b[0m\u001b[0;34m:\u001b[0m\u001b[0;34m,\u001b[0m \u001b[0;34m:\u001b[0m\u001b[0;34m-\u001b[0m\u001b[0;36m1\u001b[0m\u001b[0;34m]\u001b[0m\u001b[0;34m\u001b[0m\u001b[0;34m\u001b[0m\u001b[0m\n\u001b[0m\u001b[1;32m     10\u001b[0m     },\n\u001b[1;32m     11\u001b[0m     {\n",
      "\u001b[0;31mTypeError\u001b[0m: list indices must be integers or slices, not tuple"
     ]
    }
   ],
   "source": [
    "BATCH_SIZE = 64\n",
    "BUFFER_SIZE = 12000\n",
    "\n",
    "# 디코더는 이전의 target을 다음의 input으로 사용합니다.\n",
    "# 이에 따라 outputs에서는 START_TOKEN을 제거하겠습니다.\n",
    "dataset = tf.data.Dataset.from_tensor_slices((\n",
    "    {\n",
    "        'inputs': questions,\n",
    "        'dec_inputs': answers[:, :-1]\n",
    "    },\n",
    "    {\n",
    "        'outputs': answers[:, 1:]\n",
    "    },\n",
    "))\n",
    "\n",
    "dataset = dataset.cache()\n",
    "dataset = dataset.shuffle(BUFFER_SIZE)\n",
    "dataset = dataset.batch(BATCH_SIZE)\n",
    "dataset = dataset.prefetch(tf.data.experimental.AUTOTUNE)\n"
   ]
  },
  {
   "cell_type": "markdown",
   "id": "df86cd22",
   "metadata": {},
   "source": [
    "### Step 4. 모델 구성하기\n",
    "#### 4-1) 트랜스포머 함수 구성하기"
   ]
  },
  {
   "cell_type": "code",
   "execution_count": 48,
   "id": "89846517",
   "metadata": {},
   "outputs": [],
   "source": [
    "def transformer(vocab_size,\n",
    "                num_layers,\n",
    "                units,\n",
    "                d_model,\n",
    "                num_heads,\n",
    "                dropout,\n",
    "                name=\"transformer\"):\n",
    "  inputs = tf.keras.Input(shape=(None,), name=\"inputs\")\n",
    "  dec_inputs = tf.keras.Input(shape=(None,), name=\"dec_inputs\")\n",
    "\n",
    "  # 인코더에서 패딩을 위한 마스크\n",
    "  enc_padding_mask = tf.keras.layers.Lambda(\n",
    "      create_padding_mask, output_shape=(1, 1, None),\n",
    "      name='enc_padding_mask')(inputs)\n",
    "\n",
    "  # 디코더에서 미래의 토큰을 마스크 하기 위해서 사용합니다.\n",
    "  # 내부적으로 패딩 마스크도 포함되어져 있습니다.\n",
    "  look_ahead_mask = tf.keras.layers.Lambda(\n",
    "      create_look_ahead_mask,\n",
    "      output_shape=(1, None, None),\n",
    "      name='look_ahead_mask')(dec_inputs)\n",
    "\n",
    "  # 두 번째 어텐션 블록에서 인코더의 벡터들을 마스킹\n",
    "  # 디코더에서 패딩을 위한 마스크\n",
    "  dec_padding_mask = tf.keras.layers.Lambda(\n",
    "      create_padding_mask, output_shape=(1, 1, None),\n",
    "      name='dec_padding_mask')(inputs)\n",
    "\n",
    "  # 인코더\n",
    "  enc_outputs = encoder(\n",
    "      vocab_size=vocab_size,\n",
    "      num_layers=num_layers,\n",
    "      units=units,\n",
    "      d_model=d_model,\n",
    "      num_heads=num_heads,\n",
    "      dropout=dropout,\n",
    "  )(inputs=[inputs, enc_padding_mask])\n",
    "\n",
    "  # 디코더\n",
    "  dec_outputs = decoder(\n",
    "      vocab_size=vocab_size,\n",
    "      num_layers=num_layers,\n",
    "      units=units,\n",
    "      d_model=d_model,\n",
    "      num_heads=num_heads,\n",
    "      dropout=dropout,\n",
    "  )(inputs=[dec_inputs, enc_outputs, look_ahead_mask, dec_padding_mask])\n",
    "\n",
    "  # 완전연결층\n",
    "  outputs = tf.keras.layers.Dense(units=vocab_size, name=\"outputs\")(dec_outputs)\n",
    "\n",
    "  return tf.keras.Model(inputs=[inputs, dec_inputs], outputs=outputs, name=name)"
   ]
  },
  {
   "cell_type": "markdown",
   "id": "fc5b9ff3",
   "metadata": {},
   "source": [
    "#### 4-2) 모델 생성"
   ]
  },
  {
   "cell_type": "code",
   "execution_count": 76,
   "id": "c0db1f8b",
   "metadata": {},
   "outputs": [
    {
     "name": "stdout",
     "output_type": "stream",
     "text": [
      "Model: \"transformer\"\n",
      "__________________________________________________________________________________________________\n",
      "Layer (type)                    Output Shape         Param #     Connected to                     \n",
      "==================================================================================================\n",
      "inputs (InputLayer)             [(None, None)]       0                                            \n",
      "__________________________________________________________________________________________________\n",
      "dec_inputs (InputLayer)         [(None, None)]       0                                            \n",
      "__________________________________________________________________________________________________\n",
      "enc_padding_mask (Lambda)       (None, 1, 1, None)   0           inputs[0][0]                     \n",
      "__________________________________________________________________________________________________\n",
      "encoder (Functional)            (None, None, 256)    3137280     inputs[0][0]                     \n",
      "                                                                 enc_padding_mask[0][0]           \n",
      "__________________________________________________________________________________________________\n",
      "look_ahead_mask (Lambda)        (None, 1, None, None 0           dec_inputs[0][0]                 \n",
      "__________________________________________________________________________________________________\n",
      "dec_padding_mask (Lambda)       (None, 1, 1, None)   0           inputs[0][0]                     \n",
      "__________________________________________________________________________________________________\n",
      "decoder (Functional)            (None, None, 256)    3664640     dec_inputs[0][0]                 \n",
      "                                                                 encoder[0][0]                    \n",
      "                                                                 look_ahead_mask[0][0]            \n",
      "                                                                 dec_padding_mask[0][0]           \n",
      "__________________________________________________________________________________________________\n",
      "outputs (Dense)                 (None, None, 8137)   2091209     decoder[0][0]                    \n",
      "==================================================================================================\n",
      "Total params: 8,893,129\n",
      "Trainable params: 8,893,129\n",
      "Non-trainable params: 0\n",
      "__________________________________________________________________________________________________\n"
     ]
    }
   ],
   "source": [
    "tf.keras.backend.clear_session()\n",
    "\n",
    "# 하이퍼파라미터\n",
    "NUM_LAYERS = 2 # 인코더와 디코더의 층의 개수\n",
    "D_MODEL = 256 # 인코더와 디코더 내부의 입, 출력의 고정 차원\n",
    "NUM_HEADS = 8 # 멀티 헤드 어텐션에서의 헤드 수 \n",
    "UNITS = 512 # 피드 포워드 신경망의 은닉층의 크기\n",
    "DROPOUT = 0.1 # 드롭아웃의 비율\n",
    "\n",
    "model = transformer(\n",
    "    vocab_size=VOCAB_SIZE,\n",
    "    num_layers=NUM_LAYERS,\n",
    "    units=UNITS,\n",
    "    d_model=D_MODEL,\n",
    "    num_heads=NUM_HEADS,\n",
    "    dropout=DROPOUT)\n",
    "\n",
    "model.summary()"
   ]
  },
  {
   "cell_type": "markdown",
   "id": "a8ef69cc",
   "metadata": {},
   "source": [
    "#### 4-3) 손실 함수(Loss function)"
   ]
  },
  {
   "cell_type": "code",
   "execution_count": 49,
   "id": "3b0ed5d3",
   "metadata": {},
   "outputs": [],
   "source": [
    "def loss_function(y_true, y_pred):\n",
    "  y_true = tf.reshape(y_true, shape=(-1, MAX_LENGTH - 1))\n",
    "  \n",
    "  loss = tf.keras.losses.SparseCategoricalCrossentropy(\n",
    "      from_logits=True, reduction='none')(y_true, y_pred)\n",
    "\n",
    "  mask = tf.cast(tf.not_equal(y_true, 0), tf.float32)\n",
    "  loss = tf.multiply(loss, mask)\n",
    "\n",
    "  return tf.reduce_mean(loss)"
   ]
  },
  {
   "cell_type": "markdown",
   "id": "bc5ce7f4",
   "metadata": {},
   "source": [
    "#### 4-4) 커스텀된 학습률"
   ]
  },
  {
   "cell_type": "code",
   "execution_count": 50,
   "id": "925c6763",
   "metadata": {},
   "outputs": [],
   "source": [
    "class CustomSchedule(tf.keras.optimizers.schedules.LearningRateSchedule):\n",
    "\n",
    "  def __init__(self, d_model, warmup_steps=4000):\n",
    "    super(CustomSchedule, self).__init__()\n",
    "\n",
    "    self.d_model = d_model\n",
    "    self.d_model = tf.cast(self.d_model, tf.float32)\n",
    "\n",
    "    self.warmup_steps = warmup_steps\n",
    "\n",
    "  def __call__(self, step):\n",
    "    arg1 = tf.math.rsqrt(step)\n",
    "    arg2 = step * (self.warmup_steps**-1.5)\n",
    "\n",
    "    return tf.math.rsqrt(self.d_model) * tf.math.minimum(arg1, arg2)"
   ]
  },
  {
   "cell_type": "code",
   "execution_count": 79,
   "id": "6e510564",
   "metadata": {},
   "outputs": [
    {
     "data": {
      "text/plain": [
       "Text(0.5, 0, 'Train Step')"
      ]
     },
     "execution_count": 79,
     "metadata": {},
     "output_type": "execute_result"
    },
    {
     "data": {
      "image/png": "[encoded data removed]",
      "text/plain": [
       "<Figure size 432x288 with 1 Axes>"
      ]
     },
     "metadata": {
      "needs_background": "light"
     },
     "output_type": "display_data"
    }
   ],
   "source": [
    "sample_learning_rate = CustomSchedule(d_model=128)\n",
    "\n",
    "plt.plot(sample_learning_rate(tf.range(200000, dtype=tf.float32)))\n",
    "plt.ylabel(\"Learning Rate\")\n",
    "plt.xlabel(\"Train Step\")"
   ]
  },
  {
   "cell_type": "markdown",
   "id": "1eed9f06",
   "metadata": {},
   "source": [
    "#### 4-5) 모델 컴파일"
   ]
  },
  {
   "cell_type": "code",
   "execution_count": 55,
   "id": "e344b099",
   "metadata": {},
   "outputs": [],
   "source": [
    "learning_rate = CustomSchedule(D_MODEL)\n",
    "\n",
    "optimizer = tf.keras.optimizers.Adam(\n",
    "    learning_rate, beta_1=0.9, beta_2=0.98, epsilon=1e-9)\n",
    "\n",
    "def accuracy(y_true, y_pred):\n",
    "  y_true = tf.reshape(y_true, shape=(-1, MAX_LENGTH - 1))\n",
    "  return tf.keras.metrics.sparse_categorical_accuracy(y_true, y_pred)\n",
    "\n",
    "model.compile(optimizer=optimizer, loss=loss_function, metrics=[accuracy])"
   ]
  },
  {
   "cell_type": "markdown",
   "id": "fc1b54f0",
   "metadata": {},
   "source": [
    "#### 4-6) 훈련하기"
   ]
  },
  {
   "cell_type": "code",
   "execution_count": 81,
   "id": "47888452",
   "metadata": {},
   "outputs": [
    {
     "name": "stdout",
     "output_type": "stream",
     "text": [
      "Epoch 1/20\n",
      "185/185 [==============================] - 22s 45ms/step - loss: 2.1884 - accuracy: 0.0616\n",
      "Epoch 2/20\n",
      "185/185 [==============================] - 8s 46ms/step - loss: 1.6784 - accuracy: 0.1010\n",
      "Epoch 3/20\n",
      "185/185 [==============================] - 8s 45ms/step - loss: 1.3312 - accuracy: 0.1045\n",
      "Epoch 4/20\n",
      "185/185 [==============================] - 8s 45ms/step - loss: 1.2094 - accuracy: 0.1103\n",
      "Epoch 5/20\n",
      "185/185 [==============================] - 8s 45ms/step - loss: 1.1256 - accuracy: 0.1154\n",
      "Epoch 6/20\n",
      "185/185 [==============================] - 8s 45ms/step - loss: 1.0425 - accuracy: 0.1213\n",
      "Epoch 7/20\n",
      "185/185 [==============================] - 8s 45ms/step - loss: 0.9539 - accuracy: 0.1300\n",
      "Epoch 8/20\n",
      "185/185 [==============================] - 8s 45ms/step - loss: 0.8580 - accuracy: 0.1409\n",
      "Epoch 9/20\n",
      "185/185 [==============================] - 8s 45ms/step - loss: 0.7556 - accuracy: 0.1532\n",
      "Epoch 10/20\n",
      "185/185 [==============================] - 8s 46ms/step - loss: 0.6488 - accuracy: 0.1664\n",
      "Epoch 11/20\n",
      "185/185 [==============================] - 8s 45ms/step - loss: 0.5405 - accuracy: 0.1806\n",
      "Epoch 12/20\n",
      "185/185 [==============================] - 8s 45ms/step - loss: 0.4332 - accuracy: 0.1956\n",
      "Epoch 13/20\n",
      "185/185 [==============================] - 8s 45ms/step - loss: 0.3330 - accuracy: 0.2108\n",
      "Epoch 14/20\n",
      "185/185 [==============================] - 8s 45ms/step - loss: 0.2487 - accuracy: 0.2239\n",
      "Epoch 15/20\n",
      "185/185 [==============================] - 8s 45ms/step - loss: 0.1786 - accuracy: 0.2360\n",
      "Epoch 16/20\n",
      "185/185 [==============================] - 8s 45ms/step - loss: 0.1247 - accuracy: 0.2459\n",
      "Epoch 17/20\n",
      "185/185 [==============================] - 8s 46ms/step - loss: 0.0893 - accuracy: 0.2518\n",
      "Epoch 18/20\n",
      "185/185 [==============================] - 8s 46ms/step - loss: 0.0674 - accuracy: 0.2555\n",
      "Epoch 19/20\n",
      "185/185 [==============================] - 8s 45ms/step - loss: 0.0567 - accuracy: 0.2574\n",
      "Epoch 20/20\n",
      "185/185 [==============================] - 8s 45ms/step - loss: 0.0496 - accuracy: 0.2584\n"
     ]
    },
    {
     "data": {
      "text/plain": [
       "<keras.callbacks.History at 0x7f19291b80d0>"
      ]
     },
     "execution_count": 81,
     "metadata": {},
     "output_type": "execute_result"
    }
   ],
   "source": [
    "EPOCHS = 20\n",
    "model.fit(dataset, epochs=EPOCHS, verbose=1)"
   ]
  },
  {
   "cell_type": "markdown",
   "id": "2f1270e4",
   "metadata": {},
   "source": [
    "### Step 5. 모델 평가하기"
   ]
  },
  {
   "cell_type": "code",
   "execution_count": 83,
   "id": "0cf8d88d",
   "metadata": {},
   "outputs": [],
   "source": [
    "def decoder_inference(sentence):\n",
    "  sentence = preprocess_sentence(sentence)\n",
    "\n",
    "  # 입력된 문장을 정수 인코딩 후, 시작 토큰과 종료 토큰을 앞뒤로 추가.\n",
    "  # ex) Where have you been? → [[8331   86   30    5 1059    7 8332]]\n",
    "  sentence = tf.expand_dims(\n",
    "      START_TOKEN + tokenizer.encode(sentence) + END_TOKEN, axis=0)\n",
    "\n",
    "  # 디코더의 현재까지의 예측한 출력 시퀀스가 지속적으로 저장되는 변수.\n",
    "  # 처음에는 예측한 내용이 없음으로 시작 토큰만 별도 저장. ex) 8331\n",
    "  output_sequence = tf.expand_dims(START_TOKEN, 0)\n",
    "\n",
    "  # 디코더의 인퍼런스 단계\n",
    "  for i in range(MAX_LENGTH):\n",
    "    # 디코더는 최대 MAX_LENGTH의 길이만큼 다음 단어 예측을 반복합니다.\n",
    "    predictions = model(inputs=[sentence, output_sequence], training=False)\n",
    "    predictions = predictions[:, -1:, :]\n",
    "\n",
    "    # 현재 예측한 단어의 정수\n",
    "    predicted_id = tf.cast(tf.argmax(predictions, axis=-1), tf.int32)\n",
    "\n",
    "    # 만약 현재 예측한 단어가 종료 토큰이라면 for문을 종료\n",
    "    if tf.equal(predicted_id, END_TOKEN[0]):\n",
    "      break\n",
    "\n",
    "    # 예측한 단어들은 지속적으로 output_sequence에 추가됩니다.\n",
    "    # 이 output_sequence는 다시 디코더의 입력이 됩니다.\n",
    "    output_sequence = tf.concat([output_sequence, predicted_id], axis=-1)\n",
    "\n",
    "  return tf.squeeze(output_sequence, axis=0)"
   ]
  },
  {
   "cell_type": "code",
   "execution_count": 84,
   "id": "31b83f3d",
   "metadata": {},
   "outputs": [],
   "source": [
    "def sentence_generation(sentence):\n",
    "  # 입력 문장에 대해서 디코더를 동작 시켜 예측된 정수 시퀀스를 리턴받습니다.\n",
    "  prediction = decoder_inference(sentence)\n",
    "\n",
    "  # 정수 시퀀스를 다시 텍스트 시퀀스로 변환합니다.\n",
    "  predicted_sentence = tokenizer.decode(\n",
    "      [i for i in prediction if i < tokenizer.vocab_size])\n",
    "\n",
    "  print('입력 : {}'.format(sentence))\n",
    "  print('출력 : {}'.format(predicted_sentence))\n",
    "\n",
    "  return predicted_sentence"
   ]
  },
  {
   "cell_type": "code",
   "execution_count": 85,
   "id": "4e4e2ef5",
   "metadata": {},
   "outputs": [
    {
     "name": "stdout",
     "output_type": "stream",
     "text": [
      "입력 : 졸리다\n",
      "출력 : 그 분 생각에 잠을 설쳤나봐요 . 시간을 가져요 . 설계기를 살펴보면 서로션��진 않나봐요 .\n"
     ]
    },
    {
     "data": {
      "text/plain": [
       "'그 분 생각에 잠을 설쳤나봐요 . 시간을 가져요 . 설계기를 살펴보면 서로션��진 않나봐요 .'"
      ]
     },
     "execution_count": 85,
     "metadata": {},
     "output_type": "execute_result"
    }
   ],
   "source": [
    "sentence_generation('졸리다')"
   ]
  },
  {
   "cell_type": "code",
   "execution_count": 86,
   "id": "c5297449",
   "metadata": {},
   "outputs": [
    {
     "name": "stdout",
     "output_type": "stream",
     "text": [
      "입력 : 신나\n",
      "출력 : 자연의 의하지 않으면 요 . 시간을 가져요 . 예를들면 운동이나 여행같이 잡념을 없앨 거예요 . 거예요 .\n"
     ]
    },
    {
     "data": {
      "text/plain": [
       "'자연의 의하지 않으면 요 . 시간을 가져요 . 예를들면 운동이나 여행같이 잡념을 없앨 거예요 . 거예요 .'"
      ]
     },
     "execution_count": 86,
     "metadata": {},
     "output_type": "execute_result"
    }
   ],
   "source": [
    "sentence_generation('신나')"
   ]
  },
  {
   "cell_type": "code",
   "execution_count": 87,
   "id": "2ad0983a",
   "metadata": {},
   "outputs": [
    {
     "name": "stdout",
     "output_type": "stream",
     "text": [
      "입력 : 배고파\n",
      "출력 : 얼른 맛난 음식 드세요\n"
     ]
    },
    {
     "data": {
      "text/plain": [
       "'얼른 맛난 음식 드세요'"
      ]
     },
     "execution_count": 87,
     "metadata": {},
     "output_type": "execute_result"
    }
   ],
   "source": [
    "sentence_generation('배고파')"
   ]
  },
  {
   "cell_type": "code",
   "execution_count": 88,
   "id": "63de5c31",
   "metadata": {},
   "outputs": [
    {
     "name": "stdout",
     "output_type": "stream",
     "text": [
      "입력 : 좋은 노래 추천해줘\n",
      "출력 : 이김에 떠나보세요 . 시간을 가지고 있네요 . 그래도 보고 부딪히지도 않아서 제대로 된 연애가 가능하지 않을 수도 있어요 . 새로운 인연이 있기 마요 .\n"
     ]
    },
    {
     "data": {
      "text/plain": [
       "'이김에 떠나보세요 . 시간을 가지고 있네요 . 그래도 보고 부딪히지도 않아서 제대로 된 연애가 가능하지 않을 수도 있어요 . 새로운 인연이 있기 마요 .'"
      ]
     },
     "execution_count": 88,
     "metadata": {},
     "output_type": "execute_result"
    }
   ],
   "source": [
    "sentence_generation('좋은 노래 추천해줘')"
   ]
  },
  {
   "cell_type": "code",
   "execution_count": 89,
   "id": "f6611de4",
   "metadata": {},
   "outputs": [
    {
     "name": "stdout",
     "output_type": "stream",
     "text": [
      "입력 : 뭐 하고 있어?\n",
      "출력 : 지금 당장 내일 일도 보가 부족한 걸 수도 있어요 . 그래도 좋아하는 건 어떨까요 . 그때 보고 맛있는 거 같아요 . 새로운 모습을 봤나봐요 .\n"
     ]
    },
    {
     "data": {
      "text/plain": [
       "'지금 당장 내일 일도 보가 부족한 걸 수도 있어요 . 그래도 좋아하는 건 어떨까요 . 그때 보고 맛있는 거 같아요 . 새로운 모습을 봤나봐요 .'"
      ]
     },
     "execution_count": 89,
     "metadata": {},
     "output_type": "execute_result"
    }
   ],
   "source": [
    "sentence_generation('뭐 하고 있어?')"
   ]
  },
  {
   "cell_type": "markdown",
   "id": "92b4c87e",
   "metadata": {},
   "source": [
    "~~시간 탐험대인가?~~ 일단 Loss대비 Accuracy가 낮은건 언어라는 특성대비 어쩔 수 없다고 생각한다.\n",
    "나름대로 적절한 대답을 하는 것으로 보이지만, 문법에 맞지 않는 문장을 출력하는 경우도 있고\n",
    "잘 모르는 문장에 대해서는 연애와 관련된 대화를 일단 출력하는 듯 하다.\n",
    "\n",
    "데이터상 감정과 관련된 대화가 많았으니 어쩔 수 없다고 생각은 하지만, 아마 형태소 분석기를 사용하면\n",
    "문법과 관련된 부분에서는 더 나은 결과를 낼 수 있지 않을까 한다."
   ]
  },
  {
   "cell_type": "markdown",
   "id": "b7004b03",
   "metadata": {},
   "source": [
    "### Step 6. 형태소 분석 토크나이저 사용"
   ]
  },
  {
   "cell_type": "code",
   "execution_count": 23,
   "id": "32f58c8f",
   "metadata": {},
   "outputs": [],
   "source": [
    "from konlpy.tag import Mecab\n",
    "from collections import Counter"
   ]
  },
  {
   "cell_type": "code",
   "execution_count": 24,
   "id": "69a6dcda",
   "metadata": {},
   "outputs": [],
   "source": [
    "tokenizer = Mecab()"
   ]
  },
  {
   "cell_type": "code",
   "execution_count": 25,
   "id": "031c7ec5",
   "metadata": {},
   "outputs": [
    {
     "name": "stdout",
     "output_type": "stream",
     "text": [
      "지망 학교 떨어졌어\n"
     ]
    }
   ],
   "source": [
    "print(questions[1])"
   ]
  },
  {
   "cell_type": "code",
   "execution_count": 118,
   "id": "ac82669c",
   "metadata": {},
   "outputs": [
    {
     "name": "stdout",
     "output_type": "stream",
     "text": [
      "['시', '땡', '!']\n"
     ]
    }
   ],
   "source": [
    "tmp = []\n",
    "tmp = tokenizer.morphs(questions[0])\n",
    "\n",
    "print(tmp)"
   ]
  },
  {
   "cell_type": "code",
   "execution_count": 106,
   "id": "6351a107",
   "metadata": {},
   "outputs": [
    {
     "data": {
      "text/plain": [
       "['__class__',\n",
       " '__delattr__',\n",
       " '__dict__',\n",
       " '__dir__',\n",
       " '__doc__',\n",
       " '__eq__',\n",
       " '__format__',\n",
       " '__ge__',\n",
       " '__getattribute__',\n",
       " '__getstate__',\n",
       " '__gt__',\n",
       " '__hash__',\n",
       " '__init__',\n",
       " '__init_subclass__',\n",
       " '__le__',\n",
       " '__lt__',\n",
       " '__module__',\n",
       " '__ne__',\n",
       " '__new__',\n",
       " '__reduce__',\n",
       " '__reduce_ex__',\n",
       " '__repr__',\n",
       " '__setattr__',\n",
       " '__setstate__',\n",
       " '__sizeof__',\n",
       " '__str__',\n",
       " '__subclasshook__',\n",
       " '__weakref__',\n",
       " 'dicpath',\n",
       " 'morphs',\n",
       " 'nouns',\n",
       " 'pos',\n",
       " 'tagger',\n",
       " 'tagset']"
      ]
     },
     "execution_count": 106,
     "metadata": {},
     "output_type": "execute_result"
    }
   ],
   "source": [
    "dir(Mecab())"
   ]
  },
  {
   "cell_type": "code",
   "execution_count": 26,
   "id": "6dde3a41",
   "metadata": {},
   "outputs": [],
   "source": [
    "tokens = []\n",
    "for i in (questions+answers):\n",
    "    tokens += tokenizer.morphs(i)"
   ]
  },
  {
   "cell_type": "code",
   "execution_count": 27,
   "id": "66087a2a",
   "metadata": {},
   "outputs": [
    {
     "name": "stdout",
     "output_type": "stream",
     "text": [
      "181611\n",
      "['시', '땡', '!', '지망', '학교', '떨어졌', '어', '박', '일', '놀', '러', '가', '고', '싶', '다', '박', '일', '정도', '놀', '러', '가', '고', '싶', '다', '심하', '네', '카드', '망가졌', '어', '카드']\n"
     ]
    }
   ],
   "source": [
    "print(len(tokens))\n",
    "print(tokens[:30])"
   ]
  },
  {
   "cell_type": "markdown",
   "id": "74bb90c9",
   "metadata": {},
   "source": [
    "#### 인코딩, 패딩, 단어장 크기 등등 SubwordTextEncoder에서 자동으로 해주는 기능을 수동으로 넣어야 할꺼같다."
   ]
  },
  {
   "cell_type": "code",
   "execution_count": 28,
   "id": "f762ac08",
   "metadata": {},
   "outputs": [],
   "source": [
    "tokens_set = set(tokens)"
   ]
  },
  {
   "cell_type": "code",
   "execution_count": 29,
   "id": "2510ebc4",
   "metadata": {},
   "outputs": [],
   "source": [
    "tokens = list(tokens_set) #중복 리스트 삭제"
   ]
  },
  {
   "cell_type": "code",
   "execution_count": 30,
   "id": "7636fd38",
   "metadata": {},
   "outputs": [
    {
     "data": {
      "text/plain": [
       "6796"
      ]
     },
     "execution_count": 30,
     "metadata": {},
     "output_type": "execute_result"
    }
   ],
   "source": [
    "len(tokens)"
   ]
  },
  {
   "cell_type": "code",
   "execution_count": 31,
   "id": "dda5dd89",
   "metadata": {},
   "outputs": [],
   "source": [
    "tokens = ['<패딩>'] + tokens"
   ]
  },
  {
   "cell_type": "code",
   "execution_count": 187,
   "id": "f5f17bdb",
   "metadata": {},
   "outputs": [
    {
     "data": {
      "text/plain": [
       "['<패딩>', '남자', '그럴까', '반응', '흑기사', '찾아다니', '외비', '취한', '차례', '팀']"
      ]
     },
     "execution_count": 187,
     "metadata": {},
     "output_type": "execute_result"
    }
   ],
   "source": [
    "tokens[:10]"
   ]
  },
  {
   "cell_type": "code",
   "execution_count": 32,
   "id": "e59efba3",
   "metadata": {},
   "outputs": [],
   "source": [
    "word_to_index = {word:index for index, word in enumerate(tokens)}"
   ]
  },
  {
   "cell_type": "code",
   "execution_count": 33,
   "id": "4d8c5bf1",
   "metadata": {},
   "outputs": [
    {
     "data": {
      "text/plain": [
       "{'<패딩>': 0,\n",
       " '멈출': 1,\n",
       " '쌍': 2,\n",
       " '걸려요': 3,\n",
       " '한다면': 4,\n",
       " '프로필': 5,\n",
       " '위': 6,\n",
       " '추': 7,\n",
       " '상사': 8,\n",
       " '친근': 9,\n",
       " '헤아려도': 10,\n",
       " '현명': 11,\n",
       " '주일': 12,\n",
       " '해졌': 13,\n",
       " '공급': 14,\n",
       " '기다린다는': 15,\n",
       " '인턴': 16,\n",
       " '양면': 17,\n",
       " '오르': 18,\n",
       " '떠날까': 19,\n",
       " '생선': 20,\n",
       " '발달': 21,\n",
       " '억울': 22,\n",
       " '취직': 23,\n",
       " '때문': 24,\n",
       " '가까이': 25,\n",
       " '반려자': 26,\n",
       " '어떻': 27,\n",
       " '둘': 28,\n",
       " '불러줄게요': 29,\n",
       " '터리': 30,\n",
       " '인지': 31,\n",
       " '학원': 32,\n",
       " '상태': 33,\n",
       " '외국': 34,\n",
       " '지금': 35,\n",
       " '막': 36,\n",
       " '잤': 37,\n",
       " '멀쩡': 38,\n",
       " '달라': 39,\n",
       " '볶': 40,\n",
       " '끗': 41,\n",
       " '길러': 42,\n",
       " '살펴봐요': 43,\n",
       " '퍼가': 44,\n",
       " '나아졌': 45,\n",
       " '탄생': 46,\n",
       " '쏜': 47,\n",
       " '너': 48,\n",
       " '야이': 49,\n",
       " '다가왔': 50,\n",
       " '보여요': 51,\n",
       " '미련': 52,\n",
       " '폼': 53,\n",
       " '국밥': 54,\n",
       " '없애': 55,\n",
       " '무너짐': 56,\n",
       " '누나': 57,\n",
       " '앞둔': 58,\n",
       " '어울릴': 59,\n",
       " '식초': 60,\n",
       " '권태기': 61,\n",
       " '난감': 62,\n",
       " '과거': 63,\n",
       " '수학': 64,\n",
       " '연상녀': 65,\n",
       " '기도': 66,\n",
       " '헹궈': 67,\n",
       " '모른': 68,\n",
       " '놀러와': 69,\n",
       " '달려왔': 70,\n",
       " '일단': 71,\n",
       " '옳소': 72,\n",
       " '에서': 73,\n",
       " '기울이': 74,\n",
       " '들이': 75,\n",
       " '코코넛': 76,\n",
       " '자랑': 77,\n",
       " '강요': 78,\n",
       " '목록': 79,\n",
       " '감정': 80,\n",
       " '해줘서': 81,\n",
       " '이어': 82,\n",
       " '느라고': 83,\n",
       " '느껴진다': 84,\n",
       " '준다는': 85,\n",
       " '아래': 86,\n",
       " '급기': 87,\n",
       " '비극': 88,\n",
       " '으신': 89,\n",
       " '부산': 90,\n",
       " '가려워': 91,\n",
       " '라이': 92,\n",
       " '회': 93,\n",
       " '밤늦': 94,\n",
       " '고구마': 95,\n",
       " '은근': 96,\n",
       " '그치': 97,\n",
       " '가까워질': 98,\n",
       " '먹': 99,\n",
       " '마셔도': 100,\n",
       " '부친상': 101,\n",
       " '심플': 102,\n",
       " '일부러': 103,\n",
       " '여사': 104,\n",
       " '멍청': 105,\n",
       " '긴장감': 106,\n",
       " '차': 107,\n",
       " '그리워서': 108,\n",
       " '알아줄': 109,\n",
       " '고프': 110,\n",
       " '지내': 111,\n",
       " '거려요': 112,\n",
       " '니까요': 113,\n",
       " '확실': 114,\n",
       " '비워': 115,\n",
       " '어렸': 116,\n",
       " '생겨서': 117,\n",
       " '정화': 118,\n",
       " '가운': 119,\n",
       " '예랑': 120,\n",
       " '앞': 121,\n",
       " '퇴근': 122,\n",
       " '지불': 123,\n",
       " '유연제': 124,\n",
       " '저랬': 125,\n",
       " '후벼': 126,\n",
       " '말씀드려': 127,\n",
       " '사무실': 128,\n",
       " '버렸': 129,\n",
       " '브랜드': 130,\n",
       " '젠장': 131,\n",
       " '주차장': 132,\n",
       " '순결': 133,\n",
       " '애석': 134,\n",
       " '더우': 135,\n",
       " '로울': 136,\n",
       " '철벽': 137,\n",
       " '컸으면': 138,\n",
       " '매몰차': 139,\n",
       " '차곡차곡': 140,\n",
       " '면서': 141,\n",
       " '백업': 142,\n",
       " '입양': 143,\n",
       " '배워': 144,\n",
       " '뿌린': 145,\n",
       " '견딘다는': 146,\n",
       " '빚': 147,\n",
       " '툭하면': 148,\n",
       " '김칫국': 149,\n",
       " '각자': 150,\n",
       " '반항': 151,\n",
       " '신중': 152,\n",
       " '기댈': 153,\n",
       " '색감': 154,\n",
       " '뭐': 155,\n",
       " '선풍기': 156,\n",
       " '스트레칭': 157,\n",
       " '뿌듯': 158,\n",
       " '올': 159,\n",
       " '막히': 160,\n",
       " '정색': 161,\n",
       " '달라졌': 162,\n",
       " '졸린데': 163,\n",
       " '꿀꾸리': 164,\n",
       " '불면증': 165,\n",
       " '답변': 166,\n",
       " '종목': 167,\n",
       " '알려': 168,\n",
       " '픽서': 169,\n",
       " '특별': 170,\n",
       " '목욕탕': 171,\n",
       " '아팠': 172,\n",
       " '냥': 173,\n",
       " '권': 174,\n",
       " '후면': 175,\n",
       " '한': 176,\n",
       " '만족': 177,\n",
       " '낫': 178,\n",
       " '쌓여': 179,\n",
       " '카페': 180,\n",
       " '방문': 181,\n",
       " '반짝반짝': 182,\n",
       " '찢': 183,\n",
       " '벨': 184,\n",
       " '기뻐해': 185,\n",
       " '드릴게요': 186,\n",
       " '놓쳤': 187,\n",
       " '그리울': 188,\n",
       " '고하': 189,\n",
       " '계속': 190,\n",
       " '외롭': 191,\n",
       " '크리': 192,\n",
       " '최대한': 193,\n",
       " '카드': 194,\n",
       " '영어': 195,\n",
       " '온전히': 196,\n",
       " '화해': 197,\n",
       " '혼': 198,\n",
       " '노래': 199,\n",
       " '잔소리': 200,\n",
       " '믿': 201,\n",
       " '임신': 202,\n",
       " '메일': 203,\n",
       " '지점': 204,\n",
       " '신가': 205,\n",
       " '더군': 206,\n",
       " '낼': 207,\n",
       " '기숙사': 208,\n",
       " '똥차': 209,\n",
       " '서툰': 210,\n",
       " '나': 211,\n",
       " '살아온': 212,\n",
       " '사귀': 213,\n",
       " '괴롭': 214,\n",
       " '최저임금': 215,\n",
       " '진급': 216,\n",
       " '어둠': 217,\n",
       " '풀리': 218,\n",
       " '맙': 219,\n",
       " '빼놓': 220,\n",
       " '이민': 221,\n",
       " '배고픈': 222,\n",
       " '갑작스러워서': 223,\n",
       " '의': 224,\n",
       " '출근': 225,\n",
       " '두렵': 226,\n",
       " '기박': 227,\n",
       " '뭘': 228,\n",
       " '저편': 229,\n",
       " '제자리': 230,\n",
       " '형편': 231,\n",
       " '스마트폰': 232,\n",
       " '쉬워': 233,\n",
       " '스타일': 234,\n",
       " '바이': 235,\n",
       " '화가': 236,\n",
       " '치과': 237,\n",
       " '고치': 238,\n",
       " '아닐까': 239,\n",
       " '되돌이표': 240,\n",
       " '깨질지': 241,\n",
       " '기다릴까요': 242,\n",
       " '지우': 243,\n",
       " '셔요': 244,\n",
       " '소개팅': 245,\n",
       " '삐끗': 246,\n",
       " '가라앉혀': 247,\n",
       " '젖': 248,\n",
       " '먼데': 249,\n",
       " '힘드실': 250,\n",
       " '더라고': 251,\n",
       " '황사': 252,\n",
       " '해질까': 253,\n",
       " '디테일': 254,\n",
       " '일치': 255,\n",
       " '자라': 256,\n",
       " '이걸로': 257,\n",
       " '깨지': 258,\n",
       " '만약': 259,\n",
       " '아따': 260,\n",
       " '가난': 261,\n",
       " '회의감': 262,\n",
       " '실내': 263,\n",
       " '독': 264,\n",
       " '쏘': 265,\n",
       " '찾아갔': 266,\n",
       " '지친다': 267,\n",
       " '은데': 268,\n",
       " '추울': 269,\n",
       " '불과': 270,\n",
       " '더라': 271,\n",
       " '꿎': 272,\n",
       " '다는': 273,\n",
       " '졸라': 274,\n",
       " '현상': 275,\n",
       " '시덥': 276,\n",
       " '이래도': 277,\n",
       " '이브': 278,\n",
       " '생': 279,\n",
       " '화나': 280,\n",
       " '신혼집': 281,\n",
       " '흰머리': 282,\n",
       " '쌓인': 283,\n",
       " '왠': 284,\n",
       " '해': 285,\n",
       " '기다릴게요': 286,\n",
       " '와우': 287,\n",
       " '부여': 288,\n",
       " '봐야지': 289,\n",
       " '탓': 290,\n",
       " '실비': 291,\n",
       " '돼요': 292,\n",
       " '수족': 293,\n",
       " '기능': 294,\n",
       " '상했': 295,\n",
       " '움직여': 296,\n",
       " '충분히': 297,\n",
       " '일거': 298,\n",
       " '사려': 299,\n",
       " '음료수': 300,\n",
       " '내렸': 301,\n",
       " '별다를': 302,\n",
       " '주반': 303,\n",
       " '져요': 304,\n",
       " '고마워': 305,\n",
       " '착찹': 306,\n",
       " '의외': 307,\n",
       " '망가졌': 308,\n",
       " '보살': 309,\n",
       " '누우': 310,\n",
       " '타성': 311,\n",
       " '촉': 312,\n",
       " '강': 313,\n",
       " '굴뚝': 314,\n",
       " '오랜': 315,\n",
       " '편합니다': 316,\n",
       " '사소': 317,\n",
       " '지겹': 318,\n",
       " '편해진': 319,\n",
       " '잇몸': 320,\n",
       " '사탕': 321,\n",
       " '뿌리': 322,\n",
       " '자는데': 323,\n",
       " '망설여': 324,\n",
       " '헌신짝': 325,\n",
       " '그대로': 326,\n",
       " '언젠': 327,\n",
       " '떠서': 328,\n",
       " '색': 329,\n",
       " '고도': 330,\n",
       " '험해': 331,\n",
       " '호텔': 332,\n",
       " '켓': 333,\n",
       " '젤': 334,\n",
       " '비용': 335,\n",
       " '만났었': 336,\n",
       " '두근거려서': 337,\n",
       " '명절': 338,\n",
       " '투자': 339,\n",
       " '드론': 340,\n",
       " '를': 341,\n",
       " '꼬였': 342,\n",
       " '잘생긴': 343,\n",
       " '는데요': 344,\n",
       " '불타오르': 345,\n",
       " '엮이': 346,\n",
       " '계획': 347,\n",
       " '액션': 348,\n",
       " '파란': 349,\n",
       " '지겨워진': 350,\n",
       " '인강': 351,\n",
       " '깨닫': 352,\n",
       " '씌': 353,\n",
       " '밟': 354,\n",
       " '드라마': 355,\n",
       " '주인': 356,\n",
       " '사면': 357,\n",
       " '주름살': 358,\n",
       " '매몰찬': 359,\n",
       " '쎄': 360,\n",
       " '드메': 361,\n",
       " '불쑥불쑥': 362,\n",
       " '엄청': 363,\n",
       " '냉방': 364,\n",
       " '솔': 365,\n",
       " '설명': 366,\n",
       " '귀기울이': 367,\n",
       " '상견례': 368,\n",
       " '시급': 369,\n",
       " '놓이': 370,\n",
       " '가볍': 371,\n",
       " '치유': 372,\n",
       " '울렁거려': 373,\n",
       " '무엇': 374,\n",
       " '헐': 375,\n",
       " '일찍': 376,\n",
       " '들어도': 377,\n",
       " '종종': 378,\n",
       " '자격지심': 379,\n",
       " '꽃나무': 380,\n",
       " '맡': 381,\n",
       " '수면제': 382,\n",
       " '여도': 383,\n",
       " '차별': 384,\n",
       " '타들': 385,\n",
       " '쌩': 386,\n",
       " '놀이터': 387,\n",
       " '우릴': 388,\n",
       " '벌려야': 389,\n",
       " '디딜': 390,\n",
       " '디': 391,\n",
       " '군인': 392,\n",
       " '힘드신': 393,\n",
       " '녀': 394,\n",
       " '이래라': 395,\n",
       " '가물가물': 396,\n",
       " '제자신이': 397,\n",
       " '겨우': 398,\n",
       " '애틋': 399,\n",
       " '가려': 400,\n",
       " '읽': 401,\n",
       " '워시': 402,\n",
       " '저축': 403,\n",
       " '올랐': 404,\n",
       " '배달': 405,\n",
       " '낸': 406,\n",
       " '헤어져서': 407,\n",
       " '즙': 408,\n",
       " '슬픈': 409,\n",
       " '경향': 410,\n",
       " '폭식증': 411,\n",
       " '취해서': 412,\n",
       " '지망': 413,\n",
       " '수고': 414,\n",
       " '밑거름': 415,\n",
       " '보인': 416,\n",
       " '물어도': 417,\n",
       " '무작정': 418,\n",
       " '폰': 419,\n",
       " '갈지': 420,\n",
       " '냉정': 421,\n",
       " '전': 422,\n",
       " '마실까': 423,\n",
       " '어른': 424,\n",
       " '그래도': 425,\n",
       " '공포': 426,\n",
       " '내요': 427,\n",
       " '보안': 428,\n",
       " '도망가': 429,\n",
       " '창업': 430,\n",
       " '무모': 431,\n",
       " '올라': 432,\n",
       " '파': 433,\n",
       " '갇혀': 434,\n",
       " '무서워': 435,\n",
       " '둔': 436,\n",
       " '야구장': 437,\n",
       " '유머': 438,\n",
       " '더라구': 439,\n",
       " '기침': 440,\n",
       " '지날': 441,\n",
       " '는다면': 442,\n",
       " '오바': 443,\n",
       " '충': 444,\n",
       " '통해': 445,\n",
       " '예뻐요': 446,\n",
       " '이끌리': 447,\n",
       " '놀랐': 448,\n",
       " '매달린': 449,\n",
       " '건들': 450,\n",
       " '무게': 451,\n",
       " '끌려': 452,\n",
       " '늦잠': 453,\n",
       " '이직각': 454,\n",
       " '깜빡': 455,\n",
       " '으렵니다': 456,\n",
       " '달랐': 457,\n",
       " '커플링': 458,\n",
       " '복근': 459,\n",
       " '이런': 460,\n",
       " '지난주': 461,\n",
       " '노처녀': 462,\n",
       " '랍니다': 463,\n",
       " '걸핏하면': 464,\n",
       " '자리': 465,\n",
       " '아닐지': 466,\n",
       " '근각': 467,\n",
       " '쓰인': 468,\n",
       " '지녔': 469,\n",
       " '후': 470,\n",
       " '군침': 471,\n",
       " '목전': 472,\n",
       " '슬픔': 473,\n",
       " '권리': 474,\n",
       " '그적': 475,\n",
       " '띵한': 476,\n",
       " '찌푸려': 477,\n",
       " '컸': 478,\n",
       " '한복': 479,\n",
       " '우습': 480,\n",
       " '수탄': 481,\n",
       " '였으면': 482,\n",
       " '온대': 483,\n",
       " '냐는데': 484,\n",
       " '자던': 485,\n",
       " '한가득': 486,\n",
       " '온다면': 487,\n",
       " '전하': 488,\n",
       " '여운': 489,\n",
       " '부러우': 490,\n",
       " '이혼': 491,\n",
       " '가입': 492,\n",
       " '씩': 493,\n",
       " '까요': 494,\n",
       " '옮기': 495,\n",
       " '굴리': 496,\n",
       " '때리': 497,\n",
       " '스스로': 498,\n",
       " '장거리': 499,\n",
       " '자연스레': 500,\n",
       " '이왕이면': 501,\n",
       " '짜여진': 502,\n",
       " '재채기': 503,\n",
       " '모태': 504,\n",
       " '을려고': 505,\n",
       " '쓰디쓰': 506,\n",
       " '서먹': 507,\n",
       " '과제': 508,\n",
       " '취해': 509,\n",
       " '뛴다': 510,\n",
       " '조건': 511,\n",
       " '하염없이': 512,\n",
       " '아파야': 513,\n",
       " '무뎌졌': 514,\n",
       " '청구': 515,\n",
       " '장난친': 516,\n",
       " '초조': 517,\n",
       " '는다는': 518,\n",
       " '박력': 519,\n",
       " '모든': 520,\n",
       " '올라온다': 521,\n",
       " '아프': 522,\n",
       " '이어폰': 523,\n",
       " '요금': 524,\n",
       " '듭니다': 525,\n",
       " '쪽': 526,\n",
       " '공통점': 527,\n",
       " '관문': 528,\n",
       " '뚱뚱': 529,\n",
       " '배래': 530,\n",
       " '신고': 531,\n",
       " '머리': 532,\n",
       " '바래다': 533,\n",
       " '피웠으면': 534,\n",
       " '여지': 535,\n",
       " '화난': 536,\n",
       " '면도': 537,\n",
       " '공책': 538,\n",
       " '에서부터': 539,\n",
       " '양말': 540,\n",
       " '계셨': 541,\n",
       " '로': 542,\n",
       " '포인트': 543,\n",
       " '말려': 544,\n",
       " '뻑뻑': 545,\n",
       " '뒷맛': 546,\n",
       " '을수록': 547,\n",
       " '사빠': 548,\n",
       " '여름': 549,\n",
       " '나아지': 550,\n",
       " '벋': 551,\n",
       " '걷': 552,\n",
       " '계신가': 553,\n",
       " '저장': 554,\n",
       " '월세방': 555,\n",
       " '실컷': 556,\n",
       " '끌어올려': 557,\n",
       " '골인': 558,\n",
       " '타': 559,\n",
       " '찾아온': 560,\n",
       " '으래': 561,\n",
       " '돈': 562,\n",
       " '어려운': 563,\n",
       " '방면': 564,\n",
       " '든다면': 565,\n",
       " '라지만': 566,\n",
       " '득템': 567,\n",
       " '꽃바구니': 568,\n",
       " '자신감': 569,\n",
       " '누군지': 570,\n",
       " '친절': 571,\n",
       " '겜': 572,\n",
       " '겨울': 573,\n",
       " '시어머니': 574,\n",
       " '터짐': 575,\n",
       " '태어났으면': 576,\n",
       " '스러워할까봐': 577,\n",
       " '진다': 578,\n",
       " '운가': 579,\n",
       " '올게': 580,\n",
       " '나와야': 581,\n",
       " '골프': 582,\n",
       " '오토바이': 583,\n",
       " '잘려나간': 584,\n",
       " '반했': 585,\n",
       " '분출': 586,\n",
       " '보조': 587,\n",
       " '세집': 588,\n",
       " '우세요': 589,\n",
       " '요구': 590,\n",
       " '시키': 591,\n",
       " '거부': 592,\n",
       " '이요': 593,\n",
       " '곤두세우': 594,\n",
       " '샐러드': 595,\n",
       " '참담': 596,\n",
       " '궁합': 597,\n",
       " '살릴': 598,\n",
       " '기적': 599,\n",
       " '대만': 600,\n",
       " '바퀴': 601,\n",
       " '들어야': 602,\n",
       " '부지런': 603,\n",
       " '꾸며': 604,\n",
       " '사랑싸움': 605,\n",
       " '실감': 606,\n",
       " '쪽지': 607,\n",
       " '부담': 608,\n",
       " '어머나': 609,\n",
       " '손해': 610,\n",
       " '무죄': 611,\n",
       " '소주': 612,\n",
       " '사람': 613,\n",
       " '테': 614,\n",
       " '그리워할': 615,\n",
       " '패딩': 616,\n",
       " '떠납니다': 617,\n",
       " '검색': 618,\n",
       " '블록체인': 619,\n",
       " '커': 620,\n",
       " '대비': 621,\n",
       " '김치찌개': 622,\n",
       " '속상하': 623,\n",
       " '맴돈': 624,\n",
       " '나이스': 625,\n",
       " '환승': 626,\n",
       " '그나저나': 627,\n",
       " '내게': 628,\n",
       " '매운': 629,\n",
       " '확인': 630,\n",
       " '무언가': 631,\n",
       " '영장': 632,\n",
       " '놔둬야': 633,\n",
       " '두려워도': 634,\n",
       " '군대': 635,\n",
       " '생겨': 636,\n",
       " '은행': 637,\n",
       " '면허': 638,\n",
       " '향한': 639,\n",
       " '자더니': 640,\n",
       " '가짐': 641,\n",
       " '첫사랑': 642,\n",
       " '기름': 643,\n",
       " '공동육아': 644,\n",
       " '돼': 645,\n",
       " '이뤄': 646,\n",
       " '잠자': 647,\n",
       " '어이없': 648,\n",
       " '그녀': 649,\n",
       " '그름': 650,\n",
       " '떨어져': 651,\n",
       " '발등': 652,\n",
       " '기다': 653,\n",
       " '세심': 654,\n",
       " '뒤': 655,\n",
       " '클까': 656,\n",
       " '포커페이스': 657,\n",
       " '틀린': 658,\n",
       " '깍': 659,\n",
       " '기다려줄': 660,\n",
       " '삔': 661,\n",
       " '는구나': 662,\n",
       " '떨려': 663,\n",
       " '여신': 664,\n",
       " '좋아해서': 665,\n",
       " '인듯': 666,\n",
       " '인과응보': 667,\n",
       " '열려': 668,\n",
       " '쓰': 669,\n",
       " '부질없': 670,\n",
       " '빠를': 671,\n",
       " '바쳤': 672,\n",
       " '생길': 673,\n",
       " '별것': 674,\n",
       " '어땠': 675,\n",
       " '해선': 676,\n",
       " '못한': 677,\n",
       " '부분': 678,\n",
       " '줄여줄': 679,\n",
       " '언젠간': 680,\n",
       " '아닌가요': 681,\n",
       " '휴학': 682,\n",
       " '청약': 683,\n",
       " '창': 684,\n",
       " '허리': 685,\n",
       " '부케': 686,\n",
       " '할까요': 687,\n",
       " '전공': 688,\n",
       " '마주쳐': 689,\n",
       " '따뜻': 690,\n",
       " '자다': 691,\n",
       " '킁킁': 692,\n",
       " '직업': 693,\n",
       " '수분': 694,\n",
       " '전제': 695,\n",
       " '무시': 696,\n",
       " '카톡': 697,\n",
       " '여쭈': 698,\n",
       " '스트레스': 699,\n",
       " '생리': 700,\n",
       " '잔잔': 701,\n",
       " '병': 702,\n",
       " '빨간': 703,\n",
       " '진다는데': 704,\n",
       " '나온다': 705,\n",
       " '기류': 706,\n",
       " '불순': 707,\n",
       " '청소기': 708,\n",
       " '사귈래': 709,\n",
       " '슬플': 710,\n",
       " '정해져': 711,\n",
       " '뇽': 712,\n",
       " '우정': 713,\n",
       " '몸매': 714,\n",
       " '보': 715,\n",
       " '손가락': 716,\n",
       " '맞춤법': 717,\n",
       " '닳': 718,\n",
       " '일': 719,\n",
       " '유부남': 720,\n",
       " '걸리': 721,\n",
       " '분양': 722,\n",
       " '흔들림': 723,\n",
       " '멘탈': 724,\n",
       " '의문': 725,\n",
       " '화합': 726,\n",
       " '찾아나서': 727,\n",
       " '블랙박스': 728,\n",
       " '갈래': 729,\n",
       " '배워요': 730,\n",
       " 'ㅎㅎ': 731,\n",
       " '라네': 732,\n",
       " '걸림돌': 733,\n",
       " '모를': 734,\n",
       " '친군': 735,\n",
       " '곧장': 736,\n",
       " '외로울': 737,\n",
       " '출장': 738,\n",
       " '뉴스': 739,\n",
       " '막상': 740,\n",
       " '깡': 741,\n",
       " '잘나': 742,\n",
       " '한창': 743,\n",
       " '별일': 744,\n",
       " '수단': 745,\n",
       " '통증': 746,\n",
       " '숏': 747,\n",
       " '보냈': 748,\n",
       " '동성애': 749,\n",
       " '장점': 750,\n",
       " '가끔': 751,\n",
       " '잡담': 752,\n",
       " '뜬금없이': 753,\n",
       " '뻘': 754,\n",
       " '셀카': 755,\n",
       " '발품': 756,\n",
       " '딱': 757,\n",
       " '코앞': 758,\n",
       " '진대': 759,\n",
       " '행사': 760,\n",
       " '잠시': 761,\n",
       " '과일': 762,\n",
       " '어떻게': 763,\n",
       " '했': 764,\n",
       " '뒤통수': 765,\n",
       " '으니까요': 766,\n",
       " '놀러': 767,\n",
       " '몰라요': 768,\n",
       " '컴퓨터': 769,\n",
       " '키스': 770,\n",
       " '나아': 771,\n",
       " '아기': 772,\n",
       " '돼야': 773,\n",
       " '세탁기': 774,\n",
       " '돌담길': 775,\n",
       " '볼게요': 776,\n",
       " '주차': 777,\n",
       " '변할까': 778,\n",
       " '바람난': 779,\n",
       " '옮겨': 780,\n",
       " '고무신': 781,\n",
       " '올해': 782,\n",
       " '무난': 783,\n",
       " '황당': 784,\n",
       " '분명히': 785,\n",
       " '끝난': 786,\n",
       " '신발': 787,\n",
       " '그러다가': 788,\n",
       " '섞': 789,\n",
       " '살까': 790,\n",
       " '내': 791,\n",
       " '식': 792,\n",
       " '걸쳐서': 793,\n",
       " '녹여서': 794,\n",
       " '맡겨': 795,\n",
       " '어려웠을': 796,\n",
       " '단수': 797,\n",
       " '케익': 798,\n",
       " '괜찬아': 799,\n",
       " '걸으': 800,\n",
       " '변함': 801,\n",
       " '꾸룩꾸룩': 802,\n",
       " '수건': 803,\n",
       " '식사': 804,\n",
       " '지껄이': 805,\n",
       " '터질': 806,\n",
       " '견뎌냈': 807,\n",
       " '빌릴까': 808,\n",
       " '노래방': 809,\n",
       " '배신감': 810,\n",
       " '녀석': 811,\n",
       " '해내': 812,\n",
       " '되돌릴': 813,\n",
       " '견뎌왔': 814,\n",
       " '바래': 815,\n",
       " '충분': 816,\n",
       " '통학': 817,\n",
       " '긴장': 818,\n",
       " '모은': 819,\n",
       " '장관리': 820,\n",
       " '잦': 821,\n",
       " '어린애': 822,\n",
       " '양식': 823,\n",
       " '째': 824,\n",
       " '느껴질': 825,\n",
       " '줄임': 826,\n",
       " '오랫동안': 827,\n",
       " '우울': 828,\n",
       " '이중': 829,\n",
       " '으라고': 830,\n",
       " '인걸': 831,\n",
       " '다녀왔': 832,\n",
       " '찾아볼까': 833,\n",
       " '위병': 834,\n",
       " '장난': 835,\n",
       " '서글퍼': 836,\n",
       " '아파트': 837,\n",
       " '배려': 838,\n",
       " '착하': 839,\n",
       " '착한': 840,\n",
       " '없이': 841,\n",
       " '예': 842,\n",
       " '관념': 843,\n",
       " '뽑': 844,\n",
       " '무심코': 845,\n",
       " '졸음': 846,\n",
       " '예쁘': 847,\n",
       " '스타트업': 848,\n",
       " '나온': 849,\n",
       " '고시원': 850,\n",
       " '드라이': 851,\n",
       " '우러': 852,\n",
       " '최악': 853,\n",
       " '각지': 854,\n",
       " '찰랑찰랑': 855,\n",
       " '숙제': 856,\n",
       " '생각났': 857,\n",
       " '돌보': 858,\n",
       " '지대': 859,\n",
       " '휴직': 860,\n",
       " '한국어': 861,\n",
       " '함': 862,\n",
       " '빨리빨리': 863,\n",
       " '놀라': 864,\n",
       " '텄': 865,\n",
       " '월요일': 866,\n",
       " '가치관': 867,\n",
       " '마카롱': 868,\n",
       " '첫': 869,\n",
       " '한다는데': 870,\n",
       " '반해서': 871,\n",
       " '오빠': 872,\n",
       " '행동': 873,\n",
       " '그리우': 874,\n",
       " '깎였': 875,\n",
       " '해야지': 876,\n",
       " '졸린가': 877,\n",
       " '던지': 878,\n",
       " '축복': 879,\n",
       " '만난다면': 880,\n",
       " '거슬려': 881,\n",
       " '원해서': 882,\n",
       " '묘한': 883,\n",
       " '인테리어': 884,\n",
       " '갔었': 885,\n",
       " '볼까요': 886,\n",
       " '구질구질': 887,\n",
       " '톡': 888,\n",
       " '탄다': 889,\n",
       " '손재주': 890,\n",
       " '어스름': 891,\n",
       " '덧나': 892,\n",
       " '살려도': 893,\n",
       " '표시': 894,\n",
       " '더라고요': 895,\n",
       " '계시': 896,\n",
       " '어찌': 897,\n",
       " '분노': 898,\n",
       " '풀린': 899,\n",
       " '효녀': 900,\n",
       " '나옴': 901,\n",
       " '호르몬': 902,\n",
       " '온라인': 903,\n",
       " '음료': 904,\n",
       " '배웠': 905,\n",
       " '어째서': 906,\n",
       " '강해': 907,\n",
       " '나서': 908,\n",
       " '진실로': 909,\n",
       " '내려올': 910,\n",
       " '힘든데': 911,\n",
       " '재미난': 912,\n",
       " '은연': 913,\n",
       " '가습기': 914,\n",
       " '느낄': 915,\n",
       " '보여도': 916,\n",
       " '대놓고': 917,\n",
       " '금물': 918,\n",
       " '키울까': 919,\n",
       " '질러': 920,\n",
       " '불만': 921,\n",
       " '심부름': 922,\n",
       " '었': 923,\n",
       " '효자': 924,\n",
       " '학': 925,\n",
       " '생텍쥐베리': 926,\n",
       " '귀여울': 927,\n",
       " '예상': 928,\n",
       " '했으니': 929,\n",
       " '멋질': 930,\n",
       " '밝혀': 931,\n",
       " '건강': 932,\n",
       " '정류장': 933,\n",
       " '는다네': 934,\n",
       " '잔해': 935,\n",
       " '살쪄': 936,\n",
       " '하직': 937,\n",
       " '추가': 938,\n",
       " '휙': 939,\n",
       " '돌리': 940,\n",
       " '화': 941,\n",
       " '잡히': 942,\n",
       " '난다': 943,\n",
       " '아': 944,\n",
       " '엮': 945,\n",
       " '프로': 946,\n",
       " '숨기': 947,\n",
       " '편식': 948,\n",
       " '퇴근길': 949,\n",
       " '방식': 950,\n",
       " '고야': 951,\n",
       " '타로': 952,\n",
       " '뭐한': 953,\n",
       " '외아들': 954,\n",
       " '쪄': 955,\n",
       " '부모': 956,\n",
       " '.': 957,\n",
       " '커지': 958,\n",
       " '대해서': 959,\n",
       " '겠어': 960,\n",
       " '수용': 961,\n",
       " '주의': 962,\n",
       " '이랬': 963,\n",
       " '모임': 964,\n",
       " '벌떡': 965,\n",
       " '묘약': 966,\n",
       " '마셨': 967,\n",
       " '윙윙': 968,\n",
       " '이게': 969,\n",
       " '곤두서': 970,\n",
       " '차가워서': 971,\n",
       " '맞이': 972,\n",
       " '버텨요': 973,\n",
       " '놈': 974,\n",
       " '날림': 975,\n",
       " '싫': 976,\n",
       " '무서움': 977,\n",
       " '물가': 978,\n",
       " '태산': 979,\n",
       " '혹시': 980,\n",
       " '지새웠': 981,\n",
       " '어려': 982,\n",
       " '진리': 983,\n",
       " '늘': 984,\n",
       " '햇': 985,\n",
       " '칼': 986,\n",
       " '벅스': 987,\n",
       " '다네요': 988,\n",
       " '배우': 989,\n",
       " '감상': 990,\n",
       " '쓰여': 991,\n",
       " '라고': 992,\n",
       " '리얼': 993,\n",
       " '차면': 994,\n",
       " '챗': 995,\n",
       " '느낀다면': 996,\n",
       " '언니': 997,\n",
       " '버리': 998,\n",
       " '좋아할': 999,\n",
       " ...}"
      ]
     },
     "execution_count": 33,
     "metadata": {},
     "output_type": "execute_result"
    }
   ],
   "source": [
    "word_to_index"
   ]
  },
  {
   "cell_type": "code",
   "execution_count": 34,
   "id": "1621e9c2",
   "metadata": {},
   "outputs": [
    {
     "data": {
      "text/plain": [
       "6797"
      ]
     },
     "execution_count": 34,
     "metadata": {},
     "output_type": "execute_result"
    }
   ],
   "source": [
    "len(word_to_index)"
   ]
  },
  {
   "cell_type": "code",
   "execution_count": 35,
   "id": "0a3d0e1f",
   "metadata": {},
   "outputs": [],
   "source": [
    "index_to_word = {index:word for word, index in word_to_index.items()}"
   ]
  },
  {
   "cell_type": "code",
   "execution_count": 36,
   "id": "240fdac9",
   "metadata": {},
   "outputs": [],
   "source": [
    "index_to_word[6797]='<시작>'\n",
    "index_to_word[6798]='<끝>'\n",
    "index_to_word[6799]='<몰?루>'"
   ]
  },
  {
   "cell_type": "code",
   "execution_count": 37,
   "id": "f0c3adda",
   "metadata": {},
   "outputs": [],
   "source": [
    "word_to_index = {index:word for word, index in index_to_word.items()} "
   ]
  },
  {
   "cell_type": "code",
   "execution_count": 84,
   "id": "d8f3ca8d",
   "metadata": {},
   "outputs": [],
   "source": [
    "def get_encoded_sentence(sentence, word_to_index):\n",
    "#    return [word_to_index['<시작>']+word_to_index[word]+ word_to_index['<끝>'] if word in word_to_index else word_to_index['<몰?루>'] for word in sentence.split()]\n",
    "    arr = [word_to_index[word] if word in word_to_index else word_to_index['<몰?루>'] for word in sentence.split()]\n",
    "    return arr \n",
    "\n",
    "def get_encoded_sentences(sentences, word_to_index):\n",
    "    return [get_encoded_sentence(sentence, word_to_index) for sentence in sentences]\n",
    "\n",
    "def get_decoded_sentence(encoded_sentence, index_to_word):\n",
    "    return ' '.join(index_to_word[index] if index in index_to_word else '<몰?루>' for index in encoded_sentence[1:-1])  #[1:-1]를 통해 시작, 끝 토큰을 제외\n",
    "\n",
    "def get_decoded_sentences(encoded_sentences, index_to_word):\n",
    "    return [get_decoded_sentence(encoded_sentence, index_to_word) for encoded_sentence in encoded_sentences]"
   ]
  },
  {
   "cell_type": "code",
   "execution_count": 39,
   "id": "9e11b69d",
   "metadata": {},
   "outputs": [],
   "source": [
    "def wordlist_to_indexlist(wordlist):\n",
    "    return [word_to_index[word] if word in word_to_index else word_to_index['<몰?루>'] for word in wordlist]"
   ]
  },
  {
   "cell_type": "code",
   "execution_count": 40,
   "id": "13fd063f",
   "metadata": {},
   "outputs": [],
   "source": [
    "question_t = list(map(wordlist_to_indexlist, questions))\n",
    "answer_t = list(map(wordlist_to_indexlist, answers))"
   ]
  },
  {
   "cell_type": "code",
   "execution_count": 41,
   "id": "31220572",
   "metadata": {},
   "outputs": [
    {
     "data": {
      "text/plain": [
       "[1073, 5721, 6799, 925, 6799, 6799, 4005, 3189, 1643, 3189]"
      ]
     },
     "execution_count": 41,
     "metadata": {},
     "output_type": "execute_result"
    }
   ],
   "source": [
    "question_t[1]"
   ]
  },
  {
   "cell_type": "code",
   "execution_count": 42,
   "id": "8a9a764b",
   "metadata": {},
   "outputs": [],
   "source": [
    "question_tp = tf.keras.preprocessing.sequence.pad_sequences(question_t,\n",
    "                                                        value = word_to_index[\"<패딩>\"],\n",
    "                                                        maxlen = 20)\n",
    "\n",
    "answers_tp = tf.keras.preprocessing.sequence.pad_sequences(answer_t,\n",
    "                                                       value = word_to_index['<패딩>'],\n",
    "                                                       maxlen = 20)"
   ]
  },
  {
   "cell_type": "code",
   "execution_count": 43,
   "id": "49323b11",
   "metadata": {},
   "outputs": [
    {
     "data": {
      "text/plain": [
       "array([   0,    0,    0,    0,    0,    0,    0,    0,    0,    0, 1073,\n",
       "       5721, 6799,  925, 6799, 6799, 4005, 3189, 1643, 3189], dtype=int32)"
      ]
     },
     "execution_count": 43,
     "metadata": {},
     "output_type": "execute_result"
    }
   ],
   "source": [
    "question_tp[1]"
   ]
  },
  {
   "cell_type": "code",
   "execution_count": 239,
   "id": "a856484f",
   "metadata": {},
   "outputs": [
    {
     "data": {
      "text/plain": [
       "'<패딩>'"
      ]
     },
     "execution_count": 239,
     "metadata": {},
     "output_type": "execute_result"
    }
   ],
   "source": [
    "tokens[0]"
   ]
  },
  {
   "cell_type": "code",
   "execution_count": 240,
   "id": "6e0d6937",
   "metadata": {},
   "outputs": [
    {
     "data": {
      "text/plain": [
       "0"
      ]
     },
     "execution_count": 240,
     "metadata": {},
     "output_type": "execute_result"
    }
   ],
   "source": [
    "word_to_index[\"<패딩>\"]"
   ]
  },
  {
   "cell_type": "code",
   "execution_count": 44,
   "id": "ede117da",
   "metadata": {},
   "outputs": [],
   "source": [
    "VOCAB_SIZE = len(tokens)+3"
   ]
  },
  {
   "cell_type": "code",
   "execution_count": 45,
   "id": "6b807e01",
   "metadata": {},
   "outputs": [
    {
     "name": "stdout",
     "output_type": "stream",
     "text": [
      "6800\n"
     ]
    }
   ],
   "source": [
    "print(VOCAB_SIZE)"
   ]
  },
  {
   "cell_type": "code",
   "execution_count": 46,
   "id": "73d822d9",
   "metadata": {},
   "outputs": [],
   "source": [
    "BATCH_SIZE = 64\n",
    "BUFFER_SIZE = 12000\n",
    "\n",
    "# 디코더는 이전의 target을 다음의 input으로 사용합니다.\n",
    "# 이에 따라 outputs에서는 START_TOKEN을 제거하겠습니다.\n",
    "dataset = tf.data.Dataset.from_tensor_slices((\n",
    "    {\n",
    "        'inputs': question_tp,\n",
    "        'dec_inputs': answers_tp[:, :-1]\n",
    "    },\n",
    "    {\n",
    "        'outputs': answers_tp[:, 1:]\n",
    "    },\n",
    "))\n",
    "\n",
    "dataset = dataset.cache()\n",
    "dataset = dataset.shuffle(BUFFER_SIZE)\n",
    "dataset = dataset.batch(BATCH_SIZE)\n",
    "dataset = dataset.prefetch(tf.data.experimental.AUTOTUNE)"
   ]
  },
  {
   "cell_type": "code",
   "execution_count": 51,
   "id": "b5d4858e",
   "metadata": {},
   "outputs": [
    {
     "name": "stdout",
     "output_type": "stream",
     "text": [
      "Model: \"transformer\"\n",
      "__________________________________________________________________________________________________\n",
      "Layer (type)                    Output Shape         Param #     Connected to                     \n",
      "==================================================================================================\n",
      "inputs (InputLayer)             [(None, None)]       0                                            \n",
      "__________________________________________________________________________________________________\n",
      "dec_inputs (InputLayer)         [(None, None)]       0                                            \n",
      "__________________________________________________________________________________________________\n",
      "enc_padding_mask (Lambda)       (None, 1, 1, None)   0           inputs[0][0]                     \n",
      "__________________________________________________________________________________________________\n",
      "encoder (Functional)            (None, None, 256)    2795008     inputs[0][0]                     \n",
      "                                                                 enc_padding_mask[0][0]           \n",
      "__________________________________________________________________________________________________\n",
      "look_ahead_mask (Lambda)        (None, 1, None, None 0           dec_inputs[0][0]                 \n",
      "__________________________________________________________________________________________________\n",
      "dec_padding_mask (Lambda)       (None, 1, 1, None)   0           inputs[0][0]                     \n",
      "__________________________________________________________________________________________________\n",
      "decoder (Functional)            (None, None, 256)    3322368     dec_inputs[0][0]                 \n",
      "                                                                 encoder[0][0]                    \n",
      "                                                                 look_ahead_mask[0][0]            \n",
      "                                                                 dec_padding_mask[0][0]           \n",
      "__________________________________________________________________________________________________\n",
      "outputs (Dense)                 (None, None, 6800)   1747600     decoder[0][0]                    \n",
      "==================================================================================================\n",
      "Total params: 7,864,976\n",
      "Trainable params: 7,864,976\n",
      "Non-trainable params: 0\n",
      "__________________________________________________________________________________________________\n"
     ]
    }
   ],
   "source": [
    "tf.keras.backend.clear_session()\n",
    "\n",
    "# 하이퍼파라미터\n",
    "NUM_LAYERS = 2 # 인코더와 디코더의 층의 개수\n",
    "D_MODEL = 256 # 인코더와 디코더 내부의 입, 출력의 고정 차원\n",
    "NUM_HEADS = 8 # 멀티 헤드 어텐션에서의 헤드 수 \n",
    "UNITS = 512 # 피드 포워드 신경망의 은닉층의 크기\n",
    "DROPOUT = 0.1 # 드롭아웃의 비율\n",
    "\n",
    "model = transformer(\n",
    "    vocab_size=VOCAB_SIZE,\n",
    "    num_layers=NUM_LAYERS,\n",
    "    units=UNITS,\n",
    "    d_model=D_MODEL,\n",
    "    num_heads=NUM_HEADS,\n",
    "    dropout=DROPOUT)\n",
    "\n",
    "model.summary()"
   ]
  },
  {
   "cell_type": "code",
   "execution_count": 59,
   "id": "ad4f0f1e",
   "metadata": {},
   "outputs": [],
   "source": [
    "learning_rate = CustomSchedule(D_MODEL)\n",
    "\n",
    "optimizer = tf.keras.optimizers.Adam(\n",
    "    learning_rate, beta_1=0.9, beta_2=0.98, epsilon=1e-9)\n",
    "\n",
    "def accuracy(y_true, y_pred):\n",
    "  y_true = tf.reshape(y_true, shape=(-1, MAX_LENGTH - 1))\n",
    "  return tf.keras.metrics.sparse_categorical_accuracy(y_true, y_pred)\n",
    "\n",
    "model.compile(optimizer=optimizer, loss=loss_function, metrics=[accuracy])"
   ]
  },
  {
   "cell_type": "code",
   "execution_count": 60,
   "id": "26518386",
   "metadata": {},
   "outputs": [
    {
     "name": "stdout",
     "output_type": "stream",
     "text": [
      "Epoch 1/20\n",
      "185/185 [==============================] - 12s 35ms/step - loss: 5.7695 - accuracy: 0.1676\n",
      "Epoch 2/20\n",
      "185/185 [==============================] - 6s 34ms/step - loss: 3.5487 - accuracy: 0.2642\n",
      "Epoch 3/20\n",
      "185/185 [==============================] - 6s 34ms/step - loss: 2.4541 - accuracy: 0.3376\n",
      "Epoch 4/20\n",
      "185/185 [==============================] - 6s 34ms/step - loss: 2.0401 - accuracy: 0.3791\n",
      "Epoch 5/20\n",
      "185/185 [==============================] - 6s 34ms/step - loss: 1.7916 - accuracy: 0.4089\n",
      "Epoch 6/20\n",
      "185/185 [==============================] - 6s 35ms/step - loss: 1.6233 - accuracy: 0.4321\n",
      "Epoch 7/20\n",
      "185/185 [==============================] - 6s 35ms/step - loss: 1.4715 - accuracy: 0.4542\n",
      "Epoch 8/20\n",
      "185/185 [==============================] - 6s 34ms/step - loss: 1.3446 - accuracy: 0.4738\n",
      "Epoch 9/20\n",
      "185/185 [==============================] - 6s 35ms/step - loss: 1.2456 - accuracy: 0.4891\n",
      "Epoch 10/20\n",
      "185/185 [==============================] - 6s 35ms/step - loss: 1.1618 - accuracy: 0.5016\n",
      "Epoch 11/20\n",
      "185/185 [==============================] - 6s 34ms/step - loss: 1.0823 - accuracy: 0.5142\n",
      "Epoch 12/20\n",
      "185/185 [==============================] - 6s 34ms/step - loss: 1.0103 - accuracy: 0.5257\n",
      "Epoch 13/20\n",
      "185/185 [==============================] - 6s 35ms/step - loss: 0.9457 - accuracy: 0.5376\n",
      "Epoch 14/20\n",
      "185/185 [==============================] - 6s 35ms/step - loss: 0.8852 - accuracy: 0.5476\n",
      "Epoch 15/20\n",
      "185/185 [==============================] - 6s 35ms/step - loss: 0.8295 - accuracy: 0.5584\n",
      "Epoch 16/20\n",
      "185/185 [==============================] - 6s 35ms/step - loss: 0.7758 - accuracy: 0.5686\n",
      "Epoch 17/20\n",
      "185/185 [==============================] - 6s 35ms/step - loss: 0.7240 - accuracy: 0.5791\n",
      "Epoch 18/20\n",
      "185/185 [==============================] - 6s 35ms/step - loss: 0.6787 - accuracy: 0.5875\n",
      "Epoch 19/20\n",
      "185/185 [==============================] - 6s 35ms/step - loss: 0.6396 - accuracy: 0.5949\n",
      "Epoch 20/20\n",
      "185/185 [==============================] - 6s 35ms/step - loss: 0.6046 - accuracy: 0.6029\n"
     ]
    },
    {
     "data": {
      "text/plain": [
       "<keras.callbacks.History at 0x7fa6e0049f40>"
      ]
     },
     "execution_count": 60,
     "metadata": {},
     "output_type": "execute_result"
    }
   ],
   "source": [
    "EPOCHS = 20\n",
    "model.fit(dataset, epochs=EPOCHS, verbose=1)"
   ]
  },
  {
   "cell_type": "code",
   "execution_count": 92,
   "id": "23b9e004",
   "metadata": {},
   "outputs": [],
   "source": [
    "def decoder_inference(sentence):\n",
    "  sentence = preprocess_sentence(sentence)\n",
    "\n",
    "  # 입력된 문장을 정수 인코딩 후, 시작 토큰과 종료 토큰을 앞뒤로 추가.\n",
    "  # ex) Where have you been? → [[8331   86   30    5 1059    7 8332]]\n",
    "  sentence = tf.expand_dims(START_TOKEN + get_encoded_sentence(sentence, word_to_index) + END_TOKEN, axis=0)\n",
    "\n",
    "  # 디코더의 현재까지의 예측한 출력 시퀀스가 지속적으로 저장되는 변수.\n",
    "  # 처음에는 예측한 내용이 없음으로 시작 토큰만 별도 저장. ex) 8331\n",
    "  output_sequence = tf.expand_dims(START_TOKEN, 0)\n",
    "\n",
    "  # 디코더의 인퍼런스 단계\n",
    "  for i in range(MAX_LENGTH):\n",
    "    # 디코더는 최대 MAX_LENGTH의 길이만큼 다음 단어 예측을 반복합니다.\n",
    "    predictions = model(inputs=[sentence, output_sequence], training=False)\n",
    "    predictions = predictions[:, -1:, :]\n",
    "\n",
    "    # 현재 예측한 단어의 정수\n",
    "    predicted_id = tf.cast(tf.argmax(predictions, axis=-1), tf.int32)\n",
    "\n",
    "    # 만약 현재 예측한 단어가 종료 토큰이라면 for문을 종료\n",
    "    if tf.equal(predicted_id, END_TOKEN[0]):\n",
    "      break\n",
    "\n",
    "    # 예측한 단어들은 지속적으로 output_sequence에 추가됩니다.\n",
    "    # 이 output_sequence는 다시 디코더의 입력이 됩니다.\n",
    "    output_sequence = tf.concat([output_sequence, predicted_id], axis=-1)\n",
    "\n",
    "  return tf.squeeze(output_sequence, axis=0)"
   ]
  },
  {
   "cell_type": "code",
   "execution_count": null,
   "id": "3d4a8a86",
   "metadata": {},
   "outputs": [],
   "source": [
    "def decoder_inference(sentence):\n",
    "  sentence = preprocess_sentence(sentence)\n",
    "\n",
    "  # 입력된 문장을 정수 인코딩 후, 시작 토큰과 종료 토큰을 앞뒤로 추가.\n",
    "  # ex) Where have you been? → [[8331   86   30    5 1059    7 8332]]\n",
    "  sentence = tf.expand_dims(\n",
    "      START_TOKEN + tokenizer.encode(sentence) + END_TOKEN, axis=0)\n",
    "\n",
    "  # 디코더의 현재까지의 예측한 출력 시퀀스가 지속적으로 저장되는 변수.\n",
    "  # 처음에는 예측한 내용이 없음으로 시작 토큰만 별도 저장. ex) 8331\n",
    "  output_sequence = tf.expand_dims(START_TOKEN, 0)\n",
    "\n",
    "  # 디코더의 인퍼런스 단계\n",
    "  for i in range(MAX_LENGTH):\n",
    "    # 디코더는 최대 MAX_LENGTH의 길이만큼 다음 단어 예측을 반복합니다.\n",
    "    predictions = model(inputs=[sentence, output_sequence], training=False)\n",
    "    predictions = predictions[:, -1:, :]\n",
    "\n",
    "    # 현재 예측한 단어의 정수\n",
    "    predicted_id = tf.cast(tf.argmax(predictions, axis=-1), tf.int32)\n",
    "\n",
    "    # 만약 현재 예측한 단어가 종료 토큰이라면 for문을 종료\n",
    "    if tf.equal(predicted_id, END_TOKEN[0]):\n",
    "      break\n",
    "\n",
    "    # 예측한 단어들은 지속적으로 output_sequence에 추가됩니다.\n",
    "    # 이 output_sequence는 다시 디코더의 입력이 됩니다.\n",
    "    output_sequence = tf.concat([output_sequence, predicted_id], axis=-1)\n",
    "\n",
    "  return tf.squeeze(output_sequence, axis=0)"
   ]
  },
  {
   "cell_type": "code",
   "execution_count": 97,
   "id": "62a10418",
   "metadata": {},
   "outputs": [],
   "source": [
    "def get_decoded_sentence(encoded_sentence, index_to_word):\n",
    "    return ' '.join(index_to_word[index] if index in index_to_word else '<몰?루>' for index in encoded_sentence[1:])"
   ]
  },
  {
   "cell_type": "code",
   "execution_count": 120,
   "id": "e2946ec9",
   "metadata": {},
   "outputs": [],
   "source": [
    "def sentence_generation(sentence):\n",
    "  # 입력 문장에 대해서 디코더를 동작 시켜 예측된 정수 시퀀스를 리턴받습니다.\n",
    "    prediction = decoder_inference(sentence)\n",
    "    # 정수 시퀀스를 다시 텍스트 시퀀스로 변환합니다.\n",
    "    predicted_sentence = prediction.tolist()\n",
    "    \n",
    "    \n",
    "    print('입력 : {}'.format(sentence))\n",
    "    print('출력 : {}'.format(predicted_sentence))\n",
    "\n",
    "    return predicted_sentence"
   ]
  },
  {
   "cell_type": "code",
   "execution_count": 140,
   "id": "3b67ff17",
   "metadata": {},
   "outputs": [],
   "source": [
    "def sentence_generation(sentence):\n",
    "  # 입력 문장에 대해서 디코더를 동작 시켜 예측된 정수 시퀀스를 리턴받습니다.\n",
    "  prediction = decoder_inference(sentence)\n",
    "\n",
    "  # 정수 시퀀스를 다시 텍스트 시퀀스로 변환합니다.\n",
    "  prediction = prediction.numpy()\n",
    "  prediction = prediction.tolist()\n",
    "  predicted_sentence = ' '.join(index_to_word[index] if index in index_to_word else '<몰?루>' for index in prediction[1:-1])\n",
    "  predicted_sentence = re.sub(r\"\\s+\", \"\", predicted_sentence)\n",
    "  predicted_sentence = re.sub(r\"\\<몰\\?루\\>\", \" \", predicted_sentence)\n",
    "  predicted_sentence = predicted_sentence.strip()\n",
    "\n",
    "  print('입력 : {}'.format(sentence))\n",
    "  print('출력 : {}'.format(predicted_sentence))\n",
    "\n",
    "  return predicted_sentence"
   ]
  },
  {
   "cell_type": "code",
   "execution_count": 127,
   "id": "7bb5bd95",
   "metadata": {},
   "outputs": [
    {
     "name": "stdout",
     "output_type": "stream",
     "text": [
      "입력 : 뭐 하고 있어?\n",
      "출력 : <몰?루> 없 다 면 <몰?루> 정 리 해 서 <몰?루> 확 실 히 <몰?루> 하 세 요 <몰?루> .\n"
     ]
    },
    {
     "data": {
      "text/plain": [
       "'<몰?루> 없 다 면 <몰?루> 정 리 해 서 <몰?루> 확 실 히 <몰?루> 하 세 요 <몰?루> .'"
      ]
     },
     "execution_count": 127,
     "metadata": {},
     "output_type": "execute_result"
    }
   ],
   "source": [
    "sentence_generation('뭐 하고 있어?')"
   ]
  },
  {
   "cell_type": "code",
   "execution_count": 128,
   "id": "f6ea28ec",
   "metadata": {},
   "outputs": [
    {
     "name": "stdout",
     "output_type": "stream",
     "text": [
      "입력 : 안녕\n",
      "출력 : <몰?루> 마 음 에 <몰?루> 드 는 <몰?루> 것 <몰?루> 더 <몰?루> 좋 겠 가 봐 요 <몰?루> .\n"
     ]
    },
    {
     "data": {
      "text/plain": [
       "'<몰?루> 마 음 에 <몰?루> 드 는 <몰?루> 것 <몰?루> 더 <몰?루> 좋 겠 가 봐 요 <몰?루> .'"
      ]
     },
     "execution_count": 128,
     "metadata": {},
     "output_type": "execute_result"
    }
   ],
   "source": [
    "sentence_generation('안녕')"
   ]
  },
  {
   "cell_type": "code",
   "execution_count": 129,
   "id": "df51a73b",
   "metadata": {},
   "outputs": [
    {
     "name": "stdout",
     "output_type": "stream",
     "text": [
      "입력 : 반가워\n",
      "출력 : <몰?루> 마 음 에 <몰?루> 버 리 는 <몰?루> 것 보 다 <몰?루> 불 타 하 죠 <몰?루> .\n"
     ]
    },
    {
     "data": {
      "text/plain": [
       "'<몰?루> 마 음 에 <몰?루> 버 리 는 <몰?루> 것 보 다 <몰?루> 불 타 하 죠 <몰?루> .'"
      ]
     },
     "execution_count": 129,
     "metadata": {},
     "output_type": "execute_result"
    }
   ],
   "source": [
    "sentence_generation('반가워')"
   ]
  },
  {
   "cell_type": "code",
   "execution_count": 130,
   "id": "cc04da71",
   "metadata": {},
   "outputs": [
    {
     "name": "stdout",
     "output_type": "stream",
     "text": [
      "입력 : 몰?루\n",
      "출력 : <몰?루> 마 음 을 <몰?루> 정 리 하 는 <몰?루> 것 <몰?루> 아 <몰?루> 가 야 죠 <몰?루> .\n"
     ]
    },
    {
     "data": {
      "text/plain": [
       "'<몰?루> 마 음 을 <몰?루> 정 리 하 는 <몰?루> 것 <몰?루> 아 <몰?루> 가 야 죠 <몰?루> .'"
      ]
     },
     "execution_count": 130,
     "metadata": {},
     "output_type": "execute_result"
    }
   ],
   "source": [
    "sentence_generation('몰?루')"
   ]
  },
  {
   "cell_type": "code",
   "execution_count": 131,
   "id": "fb276c84",
   "metadata": {},
   "outputs": [
    {
     "name": "stdout",
     "output_type": "stream",
     "text": [
      "입력 : 박 일 놀러가고 싶다\n",
      "출력 : <몰?루> 자 신 을 <몰?루> 더 <몰?루> <몰?루> <몰?루> <몰?루> 롭 게 <몰?루> 해 주 세 요 <몰?루> .\n"
     ]
    },
    {
     "data": {
      "text/plain": [
       "'<몰?루> 자 신 을 <몰?루> 더 <몰?루> <몰?루> <몰?루> <몰?루> 롭 게 <몰?루> 해 주 세 요 <몰?루> .'"
      ]
     },
     "execution_count": 131,
     "metadata": {},
     "output_type": "execute_result"
    }
   ],
   "source": [
    "sentence_generation(questions[2])"
   ]
  },
  {
   "cell_type": "code",
   "execution_count": 132,
   "id": "2256a588",
   "metadata": {},
   "outputs": [
    {
     "name": "stdout",
     "output_type": "stream",
     "text": [
      "입력 : 카드 망가졌어\n",
      "출력 : <몰?루> 마 음 에 <몰?루> 드 는 <몰?루> 것 <몰?루> 보 다 <몰?루> 불 타 하 죠 <몰?루> .\n"
     ]
    },
    {
     "data": {
      "text/plain": [
       "'<몰?루> 마 음 에 <몰?루> 드 는 <몰?루> 것 <몰?루> 보 다 <몰?루> 불 타 하 죠 <몰?루> .'"
      ]
     },
     "execution_count": 132,
     "metadata": {},
     "output_type": "execute_result"
    }
   ],
   "source": [
    "sentence_generation(questions[5])"
   ]
  },
  {
   "cell_type": "code",
   "execution_count": 133,
   "id": "70d1168c",
   "metadata": {},
   "outputs": [
    {
     "name": "stdout",
     "output_type": "stream",
     "text": [
      "입력 : 너 좀 이상한거 같아\n",
      "출력 : <몰?루> 눈 은 <몰?루> 당 신 을 <몰?루> 더 <몰?루> 좋 아 할 <몰?루> 거 예 요 <몰?루> .\n"
     ]
    },
    {
     "data": {
      "text/plain": [
       "'<몰?루> 눈 은 <몰?루> 당 신 을 <몰?루> 더 <몰?루> 좋 아 할 <몰?루> 거 예 요 <몰?루> .'"
      ]
     },
     "execution_count": 133,
     "metadata": {},
     "output_type": "execute_result"
    }
   ],
   "source": [
    "sentence_generation('너 좀 이상한거 같아')"
   ]
  },
  {
   "cell_type": "code",
   "execution_count": 141,
   "id": "21a07c5a",
   "metadata": {},
   "outputs": [
    {
     "name": "stdout",
     "output_type": "stream",
     "text": [
      "입력 : 뭐 하고 있어?\n",
      "출력 : 없다면 정리해서 확실히 하세요 .\n"
     ]
    },
    {
     "data": {
      "text/plain": [
       "'없다면 정리해서 확실히 하세요 .'"
      ]
     },
     "execution_count": 141,
     "metadata": {},
     "output_type": "execute_result"
    }
   ],
   "source": [
    "sentence_generation('뭐 하고 있어?')"
   ]
  },
  {
   "cell_type": "code",
   "execution_count": 142,
   "id": "15882257",
   "metadata": {},
   "outputs": [
    {
     "name": "stdout",
     "output_type": "stream",
     "text": [
      "입력 : 집에 가고 싶다\n",
      "출력 : 마음에 드는 것 보다 좋겠네요 .\n"
     ]
    },
    {
     "data": {
      "text/plain": [
       "'마음에 드는 것 보다 좋겠네요 .'"
      ]
     },
     "execution_count": 142,
     "metadata": {},
     "output_type": "execute_result"
    }
   ],
   "source": [
    "sentence_generation('집에 가고 싶다')"
   ]
  },
  {
   "cell_type": "code",
   "execution_count": 143,
   "id": "244ca2aa",
   "metadata": {},
   "outputs": [
    {
     "name": "stdout",
     "output_type": "stream",
     "text": [
      "입력 : 다 선생님들 덕분입니다\n",
      "출력 : 마음에 드는 것 가는 아 까요 ?\n"
     ]
    },
    {
     "data": {
      "text/plain": [
       "'마음에 드는 것 가는 아 까요 ?'"
      ]
     },
     "execution_count": 143,
     "metadata": {},
     "output_type": "execute_result"
    }
   ],
   "source": [
    "sentence_generation('다 선생님들 덕분입니다')"
   ]
  },
  {
   "cell_type": "code",
   "execution_count": 144,
   "id": "858f0b6e",
   "metadata": {},
   "outputs": [
    {
     "name": "stdout",
     "output_type": "stream",
     "text": [
      "입력 : 뭐가 마음에 들어\n",
      "출력 : 마음에 드는 것 보다 좋겠네요 .\n"
     ]
    },
    {
     "data": {
      "text/plain": [
       "'마음에 드는 것 보다 좋겠네요 .'"
      ]
     },
     "execution_count": 144,
     "metadata": {},
     "output_type": "execute_result"
    }
   ],
   "source": [
    "sentence_generation('뭐가 마음에 들어')"
   ]
  },
  {
   "cell_type": "code",
   "execution_count": 145,
   "id": "19bd16df",
   "metadata": {},
   "outputs": [
    {
     "name": "stdout",
     "output_type": "stream",
     "text": [
      "입력 : 따라하지 마\n",
      "출력 : 마음 먹은 상 상    거겠죠 .\n"
     ]
    },
    {
     "data": {
      "text/plain": [
       "'마음 먹은 상 상    거겠죠 .'"
      ]
     },
     "execution_count": 145,
     "metadata": {},
     "output_type": "execute_result"
    }
   ],
   "source": [
    "sentence_generation('따라하지 마')"
   ]
  },
  {
   "cell_type": "code",
   "execution_count": 146,
   "id": "3c32835c",
   "metadata": {},
   "outputs": [
    {
     "name": "stdout",
     "output_type": "stream",
     "text": [
      "입력 : 망했다\n",
      "출력 : 마음에 드는 것 가 되었겠네요 .\n"
     ]
    },
    {
     "data": {
      "text/plain": [
       "'마음에 드는 것 가 되었겠네요 .'"
      ]
     },
     "execution_count": 146,
     "metadata": {},
     "output_type": "execute_result"
    }
   ],
   "source": [
    "sentence_generation('망했다')"
   ]
  },
  {
   "cell_type": "code",
   "execution_count": 147,
   "id": "3c391585",
   "metadata": {},
   "outputs": [
    {
     "name": "stdout",
     "output_type": "stream",
     "text": [
      "입력 : 가만 있어도 땀난다\n",
      "출력 : 마음에 드는 것 보다 좋겠네요 .\n"
     ]
    },
    {
     "data": {
      "text/plain": [
       "'마음에 드는 것 보다 좋겠네요 .'"
      ]
     },
     "execution_count": 147,
     "metadata": {},
     "output_type": "execute_result"
    }
   ],
   "source": [
    "sentence_generation(questions[15])"
   ]
  },
  {
   "cell_type": "markdown",
   "id": "a6b823e7",
   "metadata": {},
   "source": [
    "음... 어떻게 엄청 노력해서 마지막에 정규식까지 써봤지만 완전실패!\n",
    "\n",
    "애큐러시가 높게나와서 기대 많이했는데 기대 이하의 결과를 보여주었다. ㅜㅜ\n",
    "\n",
    "몰?루 가 많이 나온거 보면 뭔가 하고싶은 말이 많아서일까도 고민해 봤지만\n",
    "\n",
    "아마도 형태소를 적절하게 분해하지 못한 탓에 (공백 = 몰?루)로 출력하는 대참사를 내고 말았다\n",
    "\n",
    "그래도 꽤 좋은 시도였을까? \n",
    "\n",
    "중간에 자꾸 파이썬 에러나서 거의 포기할뻔한 상황에서\n",
    "\n",
    "도와주신 분들도 많았는데 결과가 많이 아쉽다.\n",
    "\n",
    "마음에 드는 것을 왜 계속 찾는걸까 ㅠㅠ"
   ]
  },
  {
   "cell_type": "code",
   "execution_count": null,
   "id": "96a6b9bc",
   "metadata": {},
   "outputs": [],
   "source": []
  }
 ],
 "metadata": {
  "kernelspec": {
   "display_name": "Python 3 (ipykernel)",
   "language": "python",
   "name": "python3"
  },
  "language_info": {
   "codemirror_mode": {
    "name": "ipython",
    "version": 3
   },
   "file_extension": ".py",
   "mimetype": "text/x-python",
   "name": "python",
   "nbconvert_exporter": "python",
   "pygments_lexer": "ipython3",
   "version": "3.9.7"
  }
 },
 "nbformat": 4,
 "nbformat_minor": 5
}
